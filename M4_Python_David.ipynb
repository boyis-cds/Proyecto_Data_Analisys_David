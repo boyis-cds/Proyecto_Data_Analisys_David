{
  "nbformat": 4,
  "nbformat_minor": 0,
  "metadata": {
    "colab": {
      "name": "M4_Python_David.ipynb",
      "provenance": [],
      "collapsed_sections": []
    },
    "kernelspec": {
      "name": "python3",
      "display_name": "Python 3"
    },
    "language_info": {
      "name": "python"
    }
  },
  "cells": [
    {
      "cell_type": "code",
      "execution_count": null,
      "metadata": {
        "id": "3gItti2hPl4F"
      },
      "outputs": [],
      "source": [
        "import pandas as pd\n",
        "import numpy as np\n",
        "import matplotlib.pyplot as plt\n",
        "import seaborn as sns\n",
        "sns.set(style=\"white\")"
      ]
    },
    {
      "cell_type": "code",
      "source": [
        "from google.colab import drive\n",
        "drive.mount('/content/drive')"
      ],
      "metadata": {
        "id": "iEEHE8WkPo5w",
        "colab": {
          "base_uri": "https://localhost:8080/"
        },
        "outputId": "84bb4d74-ac1d-4efd-82f5-81e405e449f8"
      },
      "execution_count": null,
      "outputs": [
        {
          "output_type": "stream",
          "name": "stdout",
          "text": [
            "Mounted at /content/drive\n"
          ]
        }
      ]
    },
    {
      "cell_type": "code",
      "source": [
        "df_irwin.groupby('UBICACION')['TIPO_UNIDAD'].value_counts()"
      ],
      "metadata": {
        "colab": {
          "base_uri": "https://localhost:8080/",
          "height": 166
        },
        "outputId": "f12e1fee-e916-4926-ea8b-a7aee6e8cbd6",
        "id": "iO3uBK4F-zAK"
      },
      "execution_count": 2,
      "outputs": [
        {
          "output_type": "error",
          "ename": "NameError",
          "evalue": "ignored",
          "traceback": [
            "\u001b[0;31m---------------------------------------------------------------------------\u001b[0m",
            "\u001b[0;31mNameError\u001b[0m                                 Traceback (most recent call last)",
            "\u001b[0;32m<ipython-input-2-c78d1ea74e57>\u001b[0m in \u001b[0;36m<module>\u001b[0;34m()\u001b[0m\n\u001b[0;32m----> 1\u001b[0;31m \u001b[0mdf_irwin\u001b[0m\u001b[0;34m.\u001b[0m\u001b[0mgroupby\u001b[0m\u001b[0;34m(\u001b[0m\u001b[0;34m'UBICACION'\u001b[0m\u001b[0;34m)\u001b[0m\u001b[0;34m[\u001b[0m\u001b[0;34m'TIPO_UNIDAD'\u001b[0m\u001b[0;34m]\u001b[0m\u001b[0;34m.\u001b[0m\u001b[0mvalue_counts\u001b[0m\u001b[0;34m(\u001b[0m\u001b[0;34m)\u001b[0m\u001b[0;34m\u001b[0m\u001b[0;34m\u001b[0m\u001b[0m\n\u001b[0m",
            "\u001b[0;31mNameError\u001b[0m: name 'df_irwin' is not defined"
          ]
        }
      ]
    },
    {
      "cell_type": "code",
      "source": [
        "archivo = '/content/drive/MyDrive/M3_Python/Embarques.xlsx'\n",
        "\n",
        "df = pd.read_excel(archivo, sheet_name='Embarques')\n",
        "\n",
        "df.head(5)\n"
      ],
      "metadata": {
        "colab": {
          "base_uri": "https://localhost:8080/",
          "height": 386
        },
        "id": "gwzM9huEWjwt",
        "outputId": "04d5f651-10cc-4c61-bf47-8a4b6fb293ad"
      },
      "execution_count": null,
      "outputs": [
        {
          "output_type": "execute_result",
          "data": {
            "text/plain": [
              "   GUIA FECHA_DE_PEDIDO FECHA_DE_EMBARQUE  DIAS_EMBARQUE  A_TIEMPO  ID_PEDIDO  \\\n",
              "0  2518      2006-01-02        2006-01-04              2         1      65854   \n",
              "1  2518      2006-01-02        2006-01-04              2         1      65855   \n",
              "2  2518      2006-01-02        2006-01-04              2         1      65856   \n",
              "3  2518      2006-01-02        2006-01-04              2         1      65858   \n",
              "4  2518      2006-01-02        2006-01-04              2         1      65860   \n",
              "\n",
              "   FACTURA  IMPORTE_FACTURA  CLIENTE    COSIGNADO  ...  COSTO_TOTAL_FLETE  \\\n",
              "0   409549             2369  H.E.B.   IZTAPALAPA   ...             1100.0   \n",
              "1   409550              602  H.E.B.   IZTAPALAPA   ...                0.0   \n",
              "2   409551             1498  H.E.B.   IZTAPALAPA   ...                0.0   \n",
              "3   409552              696  H.E.B.   IZTAPALAPA   ...                0.0   \n",
              "4   409553             2092  H.E.B.   IZTAPALAPA   ...                0.0   \n",
              "\n",
              "   TIPO_FLETE NEGOCIO   LINEA_TRANSPORTE      STATUS        MES  UBICACION  \\\n",
              "0       LOCAL   HOGAR  TRANSPORTES TIGRE  ENTREGADO  2006-01-01     Centro   \n",
              "1       LOCAL   HOGAR  TRANSPORTES TIGRE  ENTREGADO  2006-01-01     Centro   \n",
              "2       LOCAL   HOGAR  TRANSPORTES TIGRE  ENTREGADO  2006-01-01     Centro   \n",
              "3       LOCAL   HOGAR  TRANSPORTES TIGRE  ENTREGADO  2006-01-01     Centro   \n",
              "4       LOCAL   HOGAR  TRANSPORTES TIGRE  ENTREGADO  2006-01-01     Centro   \n",
              "\n",
              "    CIUDAD     ESTADO   RUTA  \n",
              "0  MEXICO   CD MEXICO  Local  \n",
              "1  MEXICO   CD MEXICO  Local  \n",
              "2  MEXICO   CD MEXICO  Local  \n",
              "3  MEXICO   CD MEXICO  Local  \n",
              "4  MEXICO   CD MEXICO  Local  \n",
              "\n",
              "[5 rows x 27 columns]"
            ],
            "text/html": [
              "\n",
              "  <div id=\"df-55f73730-b498-405a-86bf-e6d97dd4314c\">\n",
              "    <div class=\"colab-df-container\">\n",
              "      <div>\n",
              "<style scoped>\n",
              "    .dataframe tbody tr th:only-of-type {\n",
              "        vertical-align: middle;\n",
              "    }\n",
              "\n",
              "    .dataframe tbody tr th {\n",
              "        vertical-align: top;\n",
              "    }\n",
              "\n",
              "    .dataframe thead th {\n",
              "        text-align: right;\n",
              "    }\n",
              "</style>\n",
              "<table border=\"1\" class=\"dataframe\">\n",
              "  <thead>\n",
              "    <tr style=\"text-align: right;\">\n",
              "      <th></th>\n",
              "      <th>GUIA</th>\n",
              "      <th>FECHA_DE_PEDIDO</th>\n",
              "      <th>FECHA_DE_EMBARQUE</th>\n",
              "      <th>DIAS_EMBARQUE</th>\n",
              "      <th>A_TIEMPO</th>\n",
              "      <th>ID_PEDIDO</th>\n",
              "      <th>FACTURA</th>\n",
              "      <th>IMPORTE_FACTURA</th>\n",
              "      <th>CLIENTE</th>\n",
              "      <th>COSIGNADO</th>\n",
              "      <th>...</th>\n",
              "      <th>COSTO_TOTAL_FLETE</th>\n",
              "      <th>TIPO_FLETE</th>\n",
              "      <th>NEGOCIO</th>\n",
              "      <th>LINEA_TRANSPORTE</th>\n",
              "      <th>STATUS</th>\n",
              "      <th>MES</th>\n",
              "      <th>UBICACION</th>\n",
              "      <th>CIUDAD</th>\n",
              "      <th>ESTADO</th>\n",
              "      <th>RUTA</th>\n",
              "    </tr>\n",
              "  </thead>\n",
              "  <tbody>\n",
              "    <tr>\n",
              "      <th>0</th>\n",
              "      <td>2518</td>\n",
              "      <td>2006-01-02</td>\n",
              "      <td>2006-01-04</td>\n",
              "      <td>2</td>\n",
              "      <td>1</td>\n",
              "      <td>65854</td>\n",
              "      <td>409549</td>\n",
              "      <td>2369</td>\n",
              "      <td>H.E.B.</td>\n",
              "      <td>IZTAPALAPA</td>\n",
              "      <td>...</td>\n",
              "      <td>1100.0</td>\n",
              "      <td>LOCAL</td>\n",
              "      <td>HOGAR</td>\n",
              "      <td>TRANSPORTES TIGRE</td>\n",
              "      <td>ENTREGADO</td>\n",
              "      <td>2006-01-01</td>\n",
              "      <td>Centro</td>\n",
              "      <td>MEXICO</td>\n",
              "      <td>CD MEXICO</td>\n",
              "      <td>Local</td>\n",
              "    </tr>\n",
              "    <tr>\n",
              "      <th>1</th>\n",
              "      <td>2518</td>\n",
              "      <td>2006-01-02</td>\n",
              "      <td>2006-01-04</td>\n",
              "      <td>2</td>\n",
              "      <td>1</td>\n",
              "      <td>65855</td>\n",
              "      <td>409550</td>\n",
              "      <td>602</td>\n",
              "      <td>H.E.B.</td>\n",
              "      <td>IZTAPALAPA</td>\n",
              "      <td>...</td>\n",
              "      <td>0.0</td>\n",
              "      <td>LOCAL</td>\n",
              "      <td>HOGAR</td>\n",
              "      <td>TRANSPORTES TIGRE</td>\n",
              "      <td>ENTREGADO</td>\n",
              "      <td>2006-01-01</td>\n",
              "      <td>Centro</td>\n",
              "      <td>MEXICO</td>\n",
              "      <td>CD MEXICO</td>\n",
              "      <td>Local</td>\n",
              "    </tr>\n",
              "    <tr>\n",
              "      <th>2</th>\n",
              "      <td>2518</td>\n",
              "      <td>2006-01-02</td>\n",
              "      <td>2006-01-04</td>\n",
              "      <td>2</td>\n",
              "      <td>1</td>\n",
              "      <td>65856</td>\n",
              "      <td>409551</td>\n",
              "      <td>1498</td>\n",
              "      <td>H.E.B.</td>\n",
              "      <td>IZTAPALAPA</td>\n",
              "      <td>...</td>\n",
              "      <td>0.0</td>\n",
              "      <td>LOCAL</td>\n",
              "      <td>HOGAR</td>\n",
              "      <td>TRANSPORTES TIGRE</td>\n",
              "      <td>ENTREGADO</td>\n",
              "      <td>2006-01-01</td>\n",
              "      <td>Centro</td>\n",
              "      <td>MEXICO</td>\n",
              "      <td>CD MEXICO</td>\n",
              "      <td>Local</td>\n",
              "    </tr>\n",
              "    <tr>\n",
              "      <th>3</th>\n",
              "      <td>2518</td>\n",
              "      <td>2006-01-02</td>\n",
              "      <td>2006-01-04</td>\n",
              "      <td>2</td>\n",
              "      <td>1</td>\n",
              "      <td>65858</td>\n",
              "      <td>409552</td>\n",
              "      <td>696</td>\n",
              "      <td>H.E.B.</td>\n",
              "      <td>IZTAPALAPA</td>\n",
              "      <td>...</td>\n",
              "      <td>0.0</td>\n",
              "      <td>LOCAL</td>\n",
              "      <td>HOGAR</td>\n",
              "      <td>TRANSPORTES TIGRE</td>\n",
              "      <td>ENTREGADO</td>\n",
              "      <td>2006-01-01</td>\n",
              "      <td>Centro</td>\n",
              "      <td>MEXICO</td>\n",
              "      <td>CD MEXICO</td>\n",
              "      <td>Local</td>\n",
              "    </tr>\n",
              "    <tr>\n",
              "      <th>4</th>\n",
              "      <td>2518</td>\n",
              "      <td>2006-01-02</td>\n",
              "      <td>2006-01-04</td>\n",
              "      <td>2</td>\n",
              "      <td>1</td>\n",
              "      <td>65860</td>\n",
              "      <td>409553</td>\n",
              "      <td>2092</td>\n",
              "      <td>H.E.B.</td>\n",
              "      <td>IZTAPALAPA</td>\n",
              "      <td>...</td>\n",
              "      <td>0.0</td>\n",
              "      <td>LOCAL</td>\n",
              "      <td>HOGAR</td>\n",
              "      <td>TRANSPORTES TIGRE</td>\n",
              "      <td>ENTREGADO</td>\n",
              "      <td>2006-01-01</td>\n",
              "      <td>Centro</td>\n",
              "      <td>MEXICO</td>\n",
              "      <td>CD MEXICO</td>\n",
              "      <td>Local</td>\n",
              "    </tr>\n",
              "  </tbody>\n",
              "</table>\n",
              "<p>5 rows × 27 columns</p>\n",
              "</div>\n",
              "      <button class=\"colab-df-convert\" onclick=\"convertToInteractive('df-55f73730-b498-405a-86bf-e6d97dd4314c')\"\n",
              "              title=\"Convert this dataframe to an interactive table.\"\n",
              "              style=\"display:none;\">\n",
              "        \n",
              "  <svg xmlns=\"http://www.w3.org/2000/svg\" height=\"24px\"viewBox=\"0 0 24 24\"\n",
              "       width=\"24px\">\n",
              "    <path d=\"M0 0h24v24H0V0z\" fill=\"none\"/>\n",
              "    <path d=\"M18.56 5.44l.94 2.06.94-2.06 2.06-.94-2.06-.94-.94-2.06-.94 2.06-2.06.94zm-11 1L8.5 8.5l.94-2.06 2.06-.94-2.06-.94L8.5 2.5l-.94 2.06-2.06.94zm10 10l.94 2.06.94-2.06 2.06-.94-2.06-.94-.94-2.06-.94 2.06-2.06.94z\"/><path d=\"M17.41 7.96l-1.37-1.37c-.4-.4-.92-.59-1.43-.59-.52 0-1.04.2-1.43.59L10.3 9.45l-7.72 7.72c-.78.78-.78 2.05 0 2.83L4 21.41c.39.39.9.59 1.41.59.51 0 1.02-.2 1.41-.59l7.78-7.78 2.81-2.81c.8-.78.8-2.07 0-2.86zM5.41 20L4 18.59l7.72-7.72 1.47 1.35L5.41 20z\"/>\n",
              "  </svg>\n",
              "      </button>\n",
              "      \n",
              "  <style>\n",
              "    .colab-df-container {\n",
              "      display:flex;\n",
              "      flex-wrap:wrap;\n",
              "      gap: 12px;\n",
              "    }\n",
              "\n",
              "    .colab-df-convert {\n",
              "      background-color: #E8F0FE;\n",
              "      border: none;\n",
              "      border-radius: 50%;\n",
              "      cursor: pointer;\n",
              "      display: none;\n",
              "      fill: #1967D2;\n",
              "      height: 32px;\n",
              "      padding: 0 0 0 0;\n",
              "      width: 32px;\n",
              "    }\n",
              "\n",
              "    .colab-df-convert:hover {\n",
              "      background-color: #E2EBFA;\n",
              "      box-shadow: 0px 1px 2px rgba(60, 64, 67, 0.3), 0px 1px 3px 1px rgba(60, 64, 67, 0.15);\n",
              "      fill: #174EA6;\n",
              "    }\n",
              "\n",
              "    [theme=dark] .colab-df-convert {\n",
              "      background-color: #3B4455;\n",
              "      fill: #D2E3FC;\n",
              "    }\n",
              "\n",
              "    [theme=dark] .colab-df-convert:hover {\n",
              "      background-color: #434B5C;\n",
              "      box-shadow: 0px 1px 3px 1px rgba(0, 0, 0, 0.15);\n",
              "      filter: drop-shadow(0px 1px 2px rgba(0, 0, 0, 0.3));\n",
              "      fill: #FFFFFF;\n",
              "    }\n",
              "  </style>\n",
              "\n",
              "      <script>\n",
              "        const buttonEl =\n",
              "          document.querySelector('#df-55f73730-b498-405a-86bf-e6d97dd4314c button.colab-df-convert');\n",
              "        buttonEl.style.display =\n",
              "          google.colab.kernel.accessAllowed ? 'block' : 'none';\n",
              "\n",
              "        async function convertToInteractive(key) {\n",
              "          const element = document.querySelector('#df-55f73730-b498-405a-86bf-e6d97dd4314c');\n",
              "          const dataTable =\n",
              "            await google.colab.kernel.invokeFunction('convertToInteractive',\n",
              "                                                     [key], {});\n",
              "          if (!dataTable) return;\n",
              "\n",
              "          const docLinkHtml = 'Like what you see? Visit the ' +\n",
              "            '<a target=\"_blank\" href=https://colab.research.google.com/notebooks/data_table.ipynb>data table notebook</a>'\n",
              "            + ' to learn more about interactive tables.';\n",
              "          element.innerHTML = '';\n",
              "          dataTable['output_type'] = 'display_data';\n",
              "          await google.colab.output.renderOutput(dataTable, element);\n",
              "          const docLink = document.createElement('div');\n",
              "          docLink.innerHTML = docLinkHtml;\n",
              "          element.appendChild(docLink);\n",
              "        }\n",
              "      </script>\n",
              "    </div>\n",
              "  </div>\n",
              "  "
            ]
          },
          "metadata": {},
          "execution_count": 70
        }
      ]
    },
    {
      "cell_type": "markdown",
      "source": [
        "Análisis exploratorio del conjunto de datos"
      ],
      "metadata": {
        "id": "R3x0JBZ-kqXD"
      }
    },
    {
      "cell_type": "markdown",
      "source": [
        "## Estimados de locación y variabilidad"
      ],
      "metadata": {
        "id": "6ZrWwva5sB9n"
      }
    },
    {
      "cell_type": "code",
      "source": [
        "df.shape"
      ],
      "metadata": {
        "colab": {
          "base_uri": "https://localhost:8080/"
        },
        "id": "hdc7DjCPgAaP",
        "outputId": "adceea7f-edf7-4351-b268-20c4a38351ed"
      },
      "execution_count": null,
      "outputs": [
        {
          "output_type": "execute_result",
          "data": {
            "text/plain": [
              "(4020, 27)"
            ]
          },
          "metadata": {},
          "execution_count": 4
        }
      ]
    },
    {
      "cell_type": "code",
      "source": [
        "df.columns"
      ],
      "metadata": {
        "colab": {
          "base_uri": "https://localhost:8080/"
        },
        "id": "VjWU6fjckFK9",
        "outputId": "d149830b-d913-4770-f335-1912f59af177"
      },
      "execution_count": null,
      "outputs": [
        {
          "output_type": "execute_result",
          "data": {
            "text/plain": [
              "Index(['GUIA', 'FECHA_DE_PEDIDO', 'FECHA_DE_EMBARQUE', 'DIAS_EMBARQUE',\n",
              "       'A_TIEMPO', 'ID_PEDIDO', 'FACTURA', 'IMPORTE_FACTURA', 'CLIENTE',\n",
              "       'COSIGNADO', 'CAJAS', 'N_PIEZAS', 'TIPO_UNIDAD', 'TARIFA_CAMION',\n",
              "       'TARIFA_PAQUETERIA', 'MANIOBRAS', 'REPARTOS', 'COSTO_TOTAL_FLETE',\n",
              "       'TIPO_FLETE', 'NEGOCIO', 'LINEA_TRANSPORTE', 'STATUS', 'MES',\n",
              "       'UBICACION', 'CIUDAD', 'ESTADO', 'RUTA'],\n",
              "      dtype='object')"
            ]
          },
          "metadata": {},
          "execution_count": 5
        }
      ]
    },
    {
      "cell_type": "code",
      "source": [
        "df.dtypes"
      ],
      "metadata": {
        "colab": {
          "base_uri": "https://localhost:8080/"
        },
        "id": "E3fMiBSFkKK7",
        "outputId": "15beb2ef-bc6d-4c18-8eeb-b892b5c15525"
      },
      "execution_count": null,
      "outputs": [
        {
          "output_type": "execute_result",
          "data": {
            "text/plain": [
              "GUIA                          int64\n",
              "FECHA_DE_PEDIDO      datetime64[ns]\n",
              "FECHA_DE_EMBARQUE    datetime64[ns]\n",
              "DIAS_EMBARQUE                 int64\n",
              "A_TIEMPO                      int64\n",
              "ID_PEDIDO                     int64\n",
              "FACTURA                       int64\n",
              "IMPORTE_FACTURA               int64\n",
              "CLIENTE                      object\n",
              "COSIGNADO                    object\n",
              "CAJAS                         int64\n",
              "N_PIEZAS                      int64\n",
              "TIPO_UNIDAD                  object\n",
              "TARIFA_CAMION               float64\n",
              "TARIFA_PAQUETERIA           float64\n",
              "MANIOBRAS                     int64\n",
              "REPARTOS                      int64\n",
              "COSTO_TOTAL_FLETE           float64\n",
              "TIPO_FLETE                   object\n",
              "NEGOCIO                      object\n",
              "LINEA_TRANSPORTE             object\n",
              "STATUS                       object\n",
              "MES                  datetime64[ns]\n",
              "UBICACION                    object\n",
              "CIUDAD                       object\n",
              "ESTADO                       object\n",
              "RUTA                         object\n",
              "dtype: object"
            ]
          },
          "metadata": {},
          "execution_count": 6
        }
      ]
    },
    {
      "cell_type": "code",
      "source": [
        "df.info()"
      ],
      "metadata": {
        "colab": {
          "base_uri": "https://localhost:8080/"
        },
        "id": "4D-DK9b_mzcW",
        "outputId": "0dce0173-8522-4014-cbeb-dd99084a020c"
      },
      "execution_count": null,
      "outputs": [
        {
          "output_type": "stream",
          "name": "stdout",
          "text": [
            "<class 'pandas.core.frame.DataFrame'>\n",
            "RangeIndex: 4020 entries, 0 to 4019\n",
            "Data columns (total 27 columns):\n",
            " #   Column             Non-Null Count  Dtype         \n",
            "---  ------             --------------  -----         \n",
            " 0   GUIA               4020 non-null   int64         \n",
            " 1   FECHA_DE_PEDIDO    4020 non-null   datetime64[ns]\n",
            " 2   FECHA_DE_EMBARQUE  4020 non-null   datetime64[ns]\n",
            " 3   DIAS_EMBARQUE      4020 non-null   int64         \n",
            " 4   A_TIEMPO           4020 non-null   int64         \n",
            " 5   ID_PEDIDO          4020 non-null   int64         \n",
            " 6   FACTURA            4020 non-null   int64         \n",
            " 7   IMPORTE_FACTURA    4020 non-null   int64         \n",
            " 8   CLIENTE            4020 non-null   object        \n",
            " 9   COSIGNADO          4020 non-null   object        \n",
            " 10  CAJAS              4020 non-null   int64         \n",
            " 11  N_PIEZAS           4020 non-null   int64         \n",
            " 12  TIPO_UNIDAD        4020 non-null   object        \n",
            " 13  TARIFA_CAMION      4020 non-null   float64       \n",
            " 14  TARIFA_PAQUETERIA  4020 non-null   float64       \n",
            " 15  MANIOBRAS          4020 non-null   int64         \n",
            " 16  REPARTOS           4020 non-null   int64         \n",
            " 17  COSTO_TOTAL_FLETE  4020 non-null   float64       \n",
            " 18  TIPO_FLETE         4020 non-null   object        \n",
            " 19  NEGOCIO            4020 non-null   object        \n",
            " 20  LINEA_TRANSPORTE   4020 non-null   object        \n",
            " 21  STATUS             4020 non-null   object        \n",
            " 22  MES                4020 non-null   datetime64[ns]\n",
            " 23  UBICACION          4020 non-null   object        \n",
            " 24  CIUDAD             4020 non-null   object        \n",
            " 25  ESTADO             4020 non-null   object        \n",
            " 26  RUTA               4020 non-null   object        \n",
            "dtypes: datetime64[ns](3), float64(3), int64(10), object(11)\n",
            "memory usage: 848.1+ KB\n"
          ]
        }
      ]
    },
    {
      "cell_type": "code",
      "source": [
        "df_2 = df.drop(columns=['COSIGNADO', 'STATUS','MES'])\n",
        "df_2.head()\n"
      ],
      "metadata": {
        "colab": {
          "base_uri": "https://localhost:8080/",
          "height": 386
        },
        "id": "pbjubrZOUpzj",
        "outputId": "5c6fad43-72e7-4442-a626-f9edd0d76b33"
      },
      "execution_count": null,
      "outputs": [
        {
          "output_type": "execute_result",
          "data": {
            "text/plain": [
              "   GUIA FECHA_DE_PEDIDO FECHA_DE_EMBARQUE  DIAS_EMBARQUE  A_TIEMPO  ID_PEDIDO  \\\n",
              "0  2518      2006-01-02        2006-01-04              2         1      65854   \n",
              "1  2518      2006-01-02        2006-01-04              2         1      65855   \n",
              "2  2518      2006-01-02        2006-01-04              2         1      65856   \n",
              "3  2518      2006-01-02        2006-01-04              2         1      65858   \n",
              "4  2518      2006-01-02        2006-01-04              2         1      65860   \n",
              "\n",
              "   FACTURA  IMPORTE_FACTURA  CLIENTE  CAJAS  ...  MANIOBRAS REPARTOS  \\\n",
              "0   409549             2369  H.E.B.      11  ...          0        0   \n",
              "1   409550              602  H.E.B.       1  ...          0        0   \n",
              "2   409551             1498  H.E.B.       5  ...          0        0   \n",
              "3   409552              696  H.E.B.       2  ...          0        0   \n",
              "4   409553             2092  H.E.B.       7  ...          0        0   \n",
              "\n",
              "   COSTO_TOTAL_FLETE  TIPO_FLETE  NEGOCIO   LINEA_TRANSPORTE  UBICACION  \\\n",
              "0             1100.0       LOCAL    HOGAR  TRANSPORTES TIGRE     Centro   \n",
              "1                0.0       LOCAL    HOGAR  TRANSPORTES TIGRE     Centro   \n",
              "2                0.0       LOCAL    HOGAR  TRANSPORTES TIGRE     Centro   \n",
              "3                0.0       LOCAL    HOGAR  TRANSPORTES TIGRE     Centro   \n",
              "4                0.0       LOCAL    HOGAR  TRANSPORTES TIGRE     Centro   \n",
              "\n",
              "    CIUDAD     ESTADO   RUTA  \n",
              "0  MEXICO   CD MEXICO  Local  \n",
              "1  MEXICO   CD MEXICO  Local  \n",
              "2  MEXICO   CD MEXICO  Local  \n",
              "3  MEXICO   CD MEXICO  Local  \n",
              "4  MEXICO   CD MEXICO  Local  \n",
              "\n",
              "[5 rows x 24 columns]"
            ],
            "text/html": [
              "\n",
              "  <div id=\"df-d7406e68-107d-47c4-8667-15596f414416\">\n",
              "    <div class=\"colab-df-container\">\n",
              "      <div>\n",
              "<style scoped>\n",
              "    .dataframe tbody tr th:only-of-type {\n",
              "        vertical-align: middle;\n",
              "    }\n",
              "\n",
              "    .dataframe tbody tr th {\n",
              "        vertical-align: top;\n",
              "    }\n",
              "\n",
              "    .dataframe thead th {\n",
              "        text-align: right;\n",
              "    }\n",
              "</style>\n",
              "<table border=\"1\" class=\"dataframe\">\n",
              "  <thead>\n",
              "    <tr style=\"text-align: right;\">\n",
              "      <th></th>\n",
              "      <th>GUIA</th>\n",
              "      <th>FECHA_DE_PEDIDO</th>\n",
              "      <th>FECHA_DE_EMBARQUE</th>\n",
              "      <th>DIAS_EMBARQUE</th>\n",
              "      <th>A_TIEMPO</th>\n",
              "      <th>ID_PEDIDO</th>\n",
              "      <th>FACTURA</th>\n",
              "      <th>IMPORTE_FACTURA</th>\n",
              "      <th>CLIENTE</th>\n",
              "      <th>CAJAS</th>\n",
              "      <th>...</th>\n",
              "      <th>MANIOBRAS</th>\n",
              "      <th>REPARTOS</th>\n",
              "      <th>COSTO_TOTAL_FLETE</th>\n",
              "      <th>TIPO_FLETE</th>\n",
              "      <th>NEGOCIO</th>\n",
              "      <th>LINEA_TRANSPORTE</th>\n",
              "      <th>UBICACION</th>\n",
              "      <th>CIUDAD</th>\n",
              "      <th>ESTADO</th>\n",
              "      <th>RUTA</th>\n",
              "    </tr>\n",
              "  </thead>\n",
              "  <tbody>\n",
              "    <tr>\n",
              "      <th>0</th>\n",
              "      <td>2518</td>\n",
              "      <td>2006-01-02</td>\n",
              "      <td>2006-01-04</td>\n",
              "      <td>2</td>\n",
              "      <td>1</td>\n",
              "      <td>65854</td>\n",
              "      <td>409549</td>\n",
              "      <td>2369</td>\n",
              "      <td>H.E.B.</td>\n",
              "      <td>11</td>\n",
              "      <td>...</td>\n",
              "      <td>0</td>\n",
              "      <td>0</td>\n",
              "      <td>1100.0</td>\n",
              "      <td>LOCAL</td>\n",
              "      <td>HOGAR</td>\n",
              "      <td>TRANSPORTES TIGRE</td>\n",
              "      <td>Centro</td>\n",
              "      <td>MEXICO</td>\n",
              "      <td>CD MEXICO</td>\n",
              "      <td>Local</td>\n",
              "    </tr>\n",
              "    <tr>\n",
              "      <th>1</th>\n",
              "      <td>2518</td>\n",
              "      <td>2006-01-02</td>\n",
              "      <td>2006-01-04</td>\n",
              "      <td>2</td>\n",
              "      <td>1</td>\n",
              "      <td>65855</td>\n",
              "      <td>409550</td>\n",
              "      <td>602</td>\n",
              "      <td>H.E.B.</td>\n",
              "      <td>1</td>\n",
              "      <td>...</td>\n",
              "      <td>0</td>\n",
              "      <td>0</td>\n",
              "      <td>0.0</td>\n",
              "      <td>LOCAL</td>\n",
              "      <td>HOGAR</td>\n",
              "      <td>TRANSPORTES TIGRE</td>\n",
              "      <td>Centro</td>\n",
              "      <td>MEXICO</td>\n",
              "      <td>CD MEXICO</td>\n",
              "      <td>Local</td>\n",
              "    </tr>\n",
              "    <tr>\n",
              "      <th>2</th>\n",
              "      <td>2518</td>\n",
              "      <td>2006-01-02</td>\n",
              "      <td>2006-01-04</td>\n",
              "      <td>2</td>\n",
              "      <td>1</td>\n",
              "      <td>65856</td>\n",
              "      <td>409551</td>\n",
              "      <td>1498</td>\n",
              "      <td>H.E.B.</td>\n",
              "      <td>5</td>\n",
              "      <td>...</td>\n",
              "      <td>0</td>\n",
              "      <td>0</td>\n",
              "      <td>0.0</td>\n",
              "      <td>LOCAL</td>\n",
              "      <td>HOGAR</td>\n",
              "      <td>TRANSPORTES TIGRE</td>\n",
              "      <td>Centro</td>\n",
              "      <td>MEXICO</td>\n",
              "      <td>CD MEXICO</td>\n",
              "      <td>Local</td>\n",
              "    </tr>\n",
              "    <tr>\n",
              "      <th>3</th>\n",
              "      <td>2518</td>\n",
              "      <td>2006-01-02</td>\n",
              "      <td>2006-01-04</td>\n",
              "      <td>2</td>\n",
              "      <td>1</td>\n",
              "      <td>65858</td>\n",
              "      <td>409552</td>\n",
              "      <td>696</td>\n",
              "      <td>H.E.B.</td>\n",
              "      <td>2</td>\n",
              "      <td>...</td>\n",
              "      <td>0</td>\n",
              "      <td>0</td>\n",
              "      <td>0.0</td>\n",
              "      <td>LOCAL</td>\n",
              "      <td>HOGAR</td>\n",
              "      <td>TRANSPORTES TIGRE</td>\n",
              "      <td>Centro</td>\n",
              "      <td>MEXICO</td>\n",
              "      <td>CD MEXICO</td>\n",
              "      <td>Local</td>\n",
              "    </tr>\n",
              "    <tr>\n",
              "      <th>4</th>\n",
              "      <td>2518</td>\n",
              "      <td>2006-01-02</td>\n",
              "      <td>2006-01-04</td>\n",
              "      <td>2</td>\n",
              "      <td>1</td>\n",
              "      <td>65860</td>\n",
              "      <td>409553</td>\n",
              "      <td>2092</td>\n",
              "      <td>H.E.B.</td>\n",
              "      <td>7</td>\n",
              "      <td>...</td>\n",
              "      <td>0</td>\n",
              "      <td>0</td>\n",
              "      <td>0.0</td>\n",
              "      <td>LOCAL</td>\n",
              "      <td>HOGAR</td>\n",
              "      <td>TRANSPORTES TIGRE</td>\n",
              "      <td>Centro</td>\n",
              "      <td>MEXICO</td>\n",
              "      <td>CD MEXICO</td>\n",
              "      <td>Local</td>\n",
              "    </tr>\n",
              "  </tbody>\n",
              "</table>\n",
              "<p>5 rows × 24 columns</p>\n",
              "</div>\n",
              "      <button class=\"colab-df-convert\" onclick=\"convertToInteractive('df-d7406e68-107d-47c4-8667-15596f414416')\"\n",
              "              title=\"Convert this dataframe to an interactive table.\"\n",
              "              style=\"display:none;\">\n",
              "        \n",
              "  <svg xmlns=\"http://www.w3.org/2000/svg\" height=\"24px\"viewBox=\"0 0 24 24\"\n",
              "       width=\"24px\">\n",
              "    <path d=\"M0 0h24v24H0V0z\" fill=\"none\"/>\n",
              "    <path d=\"M18.56 5.44l.94 2.06.94-2.06 2.06-.94-2.06-.94-.94-2.06-.94 2.06-2.06.94zm-11 1L8.5 8.5l.94-2.06 2.06-.94-2.06-.94L8.5 2.5l-.94 2.06-2.06.94zm10 10l.94 2.06.94-2.06 2.06-.94-2.06-.94-.94-2.06-.94 2.06-2.06.94z\"/><path d=\"M17.41 7.96l-1.37-1.37c-.4-.4-.92-.59-1.43-.59-.52 0-1.04.2-1.43.59L10.3 9.45l-7.72 7.72c-.78.78-.78 2.05 0 2.83L4 21.41c.39.39.9.59 1.41.59.51 0 1.02-.2 1.41-.59l7.78-7.78 2.81-2.81c.8-.78.8-2.07 0-2.86zM5.41 20L4 18.59l7.72-7.72 1.47 1.35L5.41 20z\"/>\n",
              "  </svg>\n",
              "      </button>\n",
              "      \n",
              "  <style>\n",
              "    .colab-df-container {\n",
              "      display:flex;\n",
              "      flex-wrap:wrap;\n",
              "      gap: 12px;\n",
              "    }\n",
              "\n",
              "    .colab-df-convert {\n",
              "      background-color: #E8F0FE;\n",
              "      border: none;\n",
              "      border-radius: 50%;\n",
              "      cursor: pointer;\n",
              "      display: none;\n",
              "      fill: #1967D2;\n",
              "      height: 32px;\n",
              "      padding: 0 0 0 0;\n",
              "      width: 32px;\n",
              "    }\n",
              "\n",
              "    .colab-df-convert:hover {\n",
              "      background-color: #E2EBFA;\n",
              "      box-shadow: 0px 1px 2px rgba(60, 64, 67, 0.3), 0px 1px 3px 1px rgba(60, 64, 67, 0.15);\n",
              "      fill: #174EA6;\n",
              "    }\n",
              "\n",
              "    [theme=dark] .colab-df-convert {\n",
              "      background-color: #3B4455;\n",
              "      fill: #D2E3FC;\n",
              "    }\n",
              "\n",
              "    [theme=dark] .colab-df-convert:hover {\n",
              "      background-color: #434B5C;\n",
              "      box-shadow: 0px 1px 3px 1px rgba(0, 0, 0, 0.15);\n",
              "      filter: drop-shadow(0px 1px 2px rgba(0, 0, 0, 0.3));\n",
              "      fill: #FFFFFF;\n",
              "    }\n",
              "  </style>\n",
              "\n",
              "      <script>\n",
              "        const buttonEl =\n",
              "          document.querySelector('#df-d7406e68-107d-47c4-8667-15596f414416 button.colab-df-convert');\n",
              "        buttonEl.style.display =\n",
              "          google.colab.kernel.accessAllowed ? 'block' : 'none';\n",
              "\n",
              "        async function convertToInteractive(key) {\n",
              "          const element = document.querySelector('#df-d7406e68-107d-47c4-8667-15596f414416');\n",
              "          const dataTable =\n",
              "            await google.colab.kernel.invokeFunction('convertToInteractive',\n",
              "                                                     [key], {});\n",
              "          if (!dataTable) return;\n",
              "\n",
              "          const docLinkHtml = 'Like what you see? Visit the ' +\n",
              "            '<a target=\"_blank\" href=https://colab.research.google.com/notebooks/data_table.ipynb>data table notebook</a>'\n",
              "            + ' to learn more about interactive tables.';\n",
              "          element.innerHTML = '';\n",
              "          dataTable['output_type'] = 'display_data';\n",
              "          await google.colab.output.renderOutput(dataTable, element);\n",
              "          const docLink = document.createElement('div');\n",
              "          docLink.innerHTML = docLinkHtml;\n",
              "          element.appendChild(docLink);\n",
              "        }\n",
              "      </script>\n",
              "    </div>\n",
              "  </div>\n",
              "  "
            ]
          },
          "metadata": {},
          "execution_count": 5
        }
      ]
    },
    {
      "cell_type": "markdown",
      "source": [
        "EL tiempo máximo de entrega de pedidos es de 2 días"
      ],
      "metadata": {
        "id": "_kA8KsT4tC3M"
      }
    },
    {
      "cell_type": "code",
      "source": [
        "print(df['DIAS_EMBARQUE'].mean())"
      ],
      "metadata": {
        "colab": {
          "base_uri": "https://localhost:8080/"
        },
        "id": "DIsTBxRRmJj4",
        "outputId": "560f3285-2139-44c7-d70d-2815cc5239ce"
      },
      "execution_count": null,
      "outputs": [
        {
          "output_type": "stream",
          "name": "stdout",
          "text": [
            "6.491542288557214\n"
          ]
        }
      ]
    },
    {
      "cell_type": "markdown",
      "source": [
        "Filtrando la línea de negocio de herramientas \"IRWIN\""
      ],
      "metadata": {
        "id": "NX4uoladz-ye"
      }
    },
    {
      "cell_type": "code",
      "source": [
        "df_irwin = df[df['NEGOCIO'] == 'IRWIN']\n",
        "print(df_irwin['DIAS_EMBARQUE'].mean())"
      ],
      "metadata": {
        "colab": {
          "base_uri": "https://localhost:8080/"
        },
        "id": "5Q5dtzat0MSG",
        "outputId": "35bea553-5c4c-4fb8-831f-f428cd9ad0c9"
      },
      "execution_count": null,
      "outputs": [
        {
          "output_type": "stream",
          "name": "stdout",
          "text": [
            "10.689826302729529\n"
          ]
        }
      ]
    },
    {
      "cell_type": "code",
      "source": [
        "df_irwin['DIAS_EMBARQUE'].std()"
      ],
      "metadata": {
        "colab": {
          "base_uri": "https://localhost:8080/"
        },
        "id": "h3xfQsX_EkCy",
        "outputId": "ee371194-0216-468e-fc71-3d4f089f92f7"
      },
      "execution_count": null,
      "outputs": [
        {
          "output_type": "execute_result",
          "data": {
            "text/plain": [
              "15.53468542862899"
            ]
          },
          "metadata": {},
          "execution_count": 7
        }
      ]
    },
    {
      "cell_type": "code",
      "source": [
        "df_irwin['DIAS_EMBARQUE'].min()"
      ],
      "metadata": {
        "colab": {
          "base_uri": "https://localhost:8080/"
        },
        "id": "ud2cCQnmGO5I",
        "outputId": "ab004322-e78e-4a46-c4a2-d0335db57ec0"
      },
      "execution_count": null,
      "outputs": [
        {
          "output_type": "execute_result",
          "data": {
            "text/plain": [
              "0"
            ]
          },
          "metadata": {},
          "execution_count": 8
        }
      ]
    },
    {
      "cell_type": "code",
      "source": [
        "df_irwin['DIAS_EMBARQUE'].max()"
      ],
      "metadata": {
        "colab": {
          "base_uri": "https://localhost:8080/"
        },
        "id": "rbr_K_K7GV16",
        "outputId": "6c31de85-a35b-49c5-8816-a84125e7e98e"
      },
      "execution_count": null,
      "outputs": [
        {
          "output_type": "execute_result",
          "data": {
            "text/plain": [
              "98"
            ]
          },
          "metadata": {},
          "execution_count": 9
        }
      ]
    },
    {
      "cell_type": "code",
      "source": [
        "df_irwin['DIAS_EMBARQUE'].max() - df_irwin['DIAS_EMBARQUE'].min()"
      ],
      "metadata": {
        "colab": {
          "base_uri": "https://localhost:8080/"
        },
        "id": "dyLIq2v7Gpj6",
        "outputId": "97ce8be1-504b-4f8e-c3d5-4b30861cdaba"
      },
      "execution_count": null,
      "outputs": [
        {
          "output_type": "execute_result",
          "data": {
            "text/plain": [
              "98"
            ]
          },
          "metadata": {},
          "execution_count": 10
        }
      ]
    },
    {
      "cell_type": "code",
      "source": [
        "df_irwin['DIAS_EMBARQUE'].quantile(0.8)"
      ],
      "metadata": {
        "colab": {
          "base_uri": "https://localhost:8080/"
        },
        "id": "82FRrR1HG86W",
        "outputId": "ae0b29cc-b641-403b-9363-6cc6600cd9d7"
      },
      "execution_count": null,
      "outputs": [
        {
          "output_type": "execute_result",
          "data": {
            "text/plain": [
              "17.0"
            ]
          },
          "metadata": {},
          "execution_count": 11
        }
      ]
    },
    {
      "cell_type": "code",
      "source": [
        "print(f\"Mínimo: {df_irwin['DIAS_EMBARQUE'].min()}\")\n",
        "print(f\"Percentil 10: {df_irwin['DIAS_EMBARQUE'].quantile(0.1)}\")\n",
        "print(f\"Percentil 25: {df_irwin['DIAS_EMBARQUE'].quantile(0.25)}\")\n",
        "print(f\"Percentil 50: {df_irwin['DIAS_EMBARQUE'].median()}\")\n",
        "print(f\"Percentil 75: {df_irwin['DIAS_EMBARQUE'].quantile(0.75)}\")\n",
        "print(f\"Percentil 90: {df_irwin['DIAS_EMBARQUE'].quantile(0.9)}\")\n",
        "print(f\"Percentil 95: {df_irwin['DIAS_EMBARQUE'].quantile(0.95)}\")\n",
        "print(f\"Máximo: {df_irwin['DIAS_EMBARQUE'].max()}\")"
      ],
      "metadata": {
        "colab": {
          "base_uri": "https://localhost:8080/"
        },
        "id": "AqRdh0kSHCXn",
        "outputId": "1c3f7188-ccf6-4d1d-93d2-c37cc9fce2a5"
      },
      "execution_count": null,
      "outputs": [
        {
          "output_type": "stream",
          "name": "stdout",
          "text": [
            "Mínimo: 0\n",
            "Percentil 10: 1.0\n",
            "Percentil 25: 2.0\n",
            "Percentil 50: 4.0\n",
            "Percentil 75: 15.0\n",
            "Percentil 90: 27.90000000000009\n",
            "Percentil 95: 37.0\n",
            "Máximo: 98\n"
          ]
        }
      ]
    },
    {
      "cell_type": "markdown",
      "source": [
        "## Distribuciones de Datos"
      ],
      "metadata": {
        "id": "auyL9UZ0sQkK"
      }
    },
    {
      "cell_type": "markdown",
      "source": [
        "Tabla de frecuencias"
      ],
      "metadata": {
        "id": "V8ZvT8Qhsp-u"
      }
    },
    {
      "cell_type": "code",
      "source": [
        "plt.figure(figsize=(10, 10))\n",
        "ax = sns.histplot(df_irwin['DIAS_EMBARQUE']);\n",
        "ax.set(title=\"Días de embarque IRWIN\", xlabel=\"Dias\", ylabel=\"\");"
      ],
      "metadata": {
        "colab": {
          "base_uri": "https://localhost:8080/",
          "height": 627
        },
        "id": "wMVT1l7HIAms",
        "outputId": "0bf29b0a-3aca-409d-abe6-0135ea38c02f"
      },
      "execution_count": null,
      "outputs": [
        {
          "output_type": "display_data",
          "data": {
            "text/plain": [
              "<Figure size 720x720 with 1 Axes>"
            ],
            "image/png": "[encoded data removed]"
          },
          "metadata": {
            "needs_background": "light"
          }
        }
      ]
    },
    {
      "cell_type": "markdown",
      "source": [
        "Filtrando la linea de negocio de plásticos \"HOGAR\""
      ],
      "metadata": {
        "id": "tDWUIg5F2QQq"
      }
    },
    {
      "cell_type": "code",
      "source": [
        "df_hogar = df[df['NEGOCIO'] == 'HOGAR']\n",
        "df_hogar\n",
        "print(df_hogar['DIAS_EMBARQUE'].mean())"
      ],
      "metadata": {
        "colab": {
          "base_uri": "https://localhost:8080/"
        },
        "id": "jm0ThWqF2VT3",
        "outputId": "28f2b001-7cba-4c05-dac0-60da4c9e37fe"
      },
      "execution_count": null,
      "outputs": [
        {
          "output_type": "stream",
          "name": "stdout",
          "text": [
            "3.681063122923588\n"
          ]
        }
      ]
    },
    {
      "cell_type": "code",
      "source": [
        "plt.figure(figsize=(10, 10))\n",
        "ax = sns.distplot(df_irwin[\"DIAS_EMBARQUE\"], hist=False, label=\"Irwin\", kde_kws= {\"shade\":True})\n",
        "sns.distplot(df_hogar[\"DIAS_EMBARQUE\"], hist=False, label=\"Hogar\", kde_kws= {\"shade\": True});\n",
        "ax.set_title(\"Dias de entrega por linea de negocio\", fontsize=13, pad=15)\n",
        "ax.set(xlabel=\"Dias\", ylabel=\"\")\n",
        "ax.legend(loc=\"upper right\")"
      ],
      "metadata": {
        "colab": {
          "base_uri": "https://localhost:8080/",
          "height": 743
        },
        "id": "37g_nwvgJbHm",
        "outputId": "68dccd1d-8cbb-45dd-daa6-51e126b8d46b"
      },
      "execution_count": null,
      "outputs": [
        {
          "output_type": "stream",
          "name": "stderr",
          "text": [
            "/usr/local/lib/python3.7/dist-packages/seaborn/distributions.py:2619: FutureWarning: `distplot` is a deprecated function and will be removed in a future version. Please adapt your code to use either `displot` (a figure-level function with similar flexibility) or `kdeplot` (an axes-level function for kernel density plots).\n",
            "  warnings.warn(msg, FutureWarning)\n",
            "/usr/local/lib/python3.7/dist-packages/seaborn/distributions.py:2619: FutureWarning: `distplot` is a deprecated function and will be removed in a future version. Please adapt your code to use either `displot` (a figure-level function with similar flexibility) or `kdeplot` (an axes-level function for kernel density plots).\n",
            "  warnings.warn(msg, FutureWarning)\n"
          ]
        },
        {
          "output_type": "execute_result",
          "data": {
            "text/plain": [
              "<matplotlib.legend.Legend at 0x7f9e88650190>"
            ]
          },
          "metadata": {},
          "execution_count": 15
        },
        {
          "output_type": "display_data",
          "data": {
            "text/plain": [
              "<Figure size 720x720 with 1 Axes>"
            ],
            "image/png": "[encoded data removed]"
          },
          "metadata": {
            "needs_background": "light"
          }
        }
      ]
    },
    {
      "cell_type": "code",
      "source": [
        "df_no_repetition = df_irwin.groupby('RUTA')[[\"DIAS_EMBARQUE\", \"IMPORTE_FACTURA\", \"CAJAS\"]].mean()\n",
        "df_no_repetition.head()"
      ],
      "metadata": {
        "colab": {
          "base_uri": "https://localhost:8080/",
          "height": 238
        },
        "id": "KRK1cSKugQR8",
        "outputId": "a706c30d-f7f9-404e-faff-2a46a396b1b6"
      },
      "execution_count": null,
      "outputs": [
        {
          "output_type": "execute_result",
          "data": {
            "text/plain": [
              "                  DIAS_EMBARQUE  IMPORTE_FACTURA     CAJAS\n",
              "RUTA                                                      \n",
              "Bajío I               24.100000      5556.800000  1.566667\n",
              "Bajío II              24.904762      8946.547619  2.404762\n",
              "Centro_Occidente      28.100000      9568.200000  5.300000\n",
              "Golfo I                8.428571      6877.142857  1.571429\n",
              "Golfo II               3.200000      4483.000000  1.300000"
            ],
            "text/html": [
              "\n",
              "  <div id=\"df-a24fdf1d-fd64-4f78-80a2-2de8ac6a9c21\">\n",
              "    <div class=\"colab-df-container\">\n",
              "      <div>\n",
              "<style scoped>\n",
              "    .dataframe tbody tr th:only-of-type {\n",
              "        vertical-align: middle;\n",
              "    }\n",
              "\n",
              "    .dataframe tbody tr th {\n",
              "        vertical-align: top;\n",
              "    }\n",
              "\n",
              "    .dataframe thead th {\n",
              "        text-align: right;\n",
              "    }\n",
              "</style>\n",
              "<table border=\"1\" class=\"dataframe\">\n",
              "  <thead>\n",
              "    <tr style=\"text-align: right;\">\n",
              "      <th></th>\n",
              "      <th>DIAS_EMBARQUE</th>\n",
              "      <th>IMPORTE_FACTURA</th>\n",
              "      <th>CAJAS</th>\n",
              "    </tr>\n",
              "    <tr>\n",
              "      <th>RUTA</th>\n",
              "      <th></th>\n",
              "      <th></th>\n",
              "      <th></th>\n",
              "    </tr>\n",
              "  </thead>\n",
              "  <tbody>\n",
              "    <tr>\n",
              "      <th>Bajío I</th>\n",
              "      <td>24.100000</td>\n",
              "      <td>5556.800000</td>\n",
              "      <td>1.566667</td>\n",
              "    </tr>\n",
              "    <tr>\n",
              "      <th>Bajío II</th>\n",
              "      <td>24.904762</td>\n",
              "      <td>8946.547619</td>\n",
              "      <td>2.404762</td>\n",
              "    </tr>\n",
              "    <tr>\n",
              "      <th>Centro_Occidente</th>\n",
              "      <td>28.100000</td>\n",
              "      <td>9568.200000</td>\n",
              "      <td>5.300000</td>\n",
              "    </tr>\n",
              "    <tr>\n",
              "      <th>Golfo I</th>\n",
              "      <td>8.428571</td>\n",
              "      <td>6877.142857</td>\n",
              "      <td>1.571429</td>\n",
              "    </tr>\n",
              "    <tr>\n",
              "      <th>Golfo II</th>\n",
              "      <td>3.200000</td>\n",
              "      <td>4483.000000</td>\n",
              "      <td>1.300000</td>\n",
              "    </tr>\n",
              "  </tbody>\n",
              "</table>\n",
              "</div>\n",
              "      <button class=\"colab-df-convert\" onclick=\"convertToInteractive('df-a24fdf1d-fd64-4f78-80a2-2de8ac6a9c21')\"\n",
              "              title=\"Convert this dataframe to an interactive table.\"\n",
              "              style=\"display:none;\">\n",
              "        \n",
              "  <svg xmlns=\"http://www.w3.org/2000/svg\" height=\"24px\"viewBox=\"0 0 24 24\"\n",
              "       width=\"24px\">\n",
              "    <path d=\"M0 0h24v24H0V0z\" fill=\"none\"/>\n",
              "    <path d=\"M18.56 5.44l.94 2.06.94-2.06 2.06-.94-2.06-.94-.94-2.06-.94 2.06-2.06.94zm-11 1L8.5 8.5l.94-2.06 2.06-.94-2.06-.94L8.5 2.5l-.94 2.06-2.06.94zm10 10l.94 2.06.94-2.06 2.06-.94-2.06-.94-.94-2.06-.94 2.06-2.06.94z\"/><path d=\"M17.41 7.96l-1.37-1.37c-.4-.4-.92-.59-1.43-.59-.52 0-1.04.2-1.43.59L10.3 9.45l-7.72 7.72c-.78.78-.78 2.05 0 2.83L4 21.41c.39.39.9.59 1.41.59.51 0 1.02-.2 1.41-.59l7.78-7.78 2.81-2.81c.8-.78.8-2.07 0-2.86zM5.41 20L4 18.59l7.72-7.72 1.47 1.35L5.41 20z\"/>\n",
              "  </svg>\n",
              "      </button>\n",
              "      \n",
              "  <style>\n",
              "    .colab-df-container {\n",
              "      display:flex;\n",
              "      flex-wrap:wrap;\n",
              "      gap: 12px;\n",
              "    }\n",
              "\n",
              "    .colab-df-convert {\n",
              "      background-color: #E8F0FE;\n",
              "      border: none;\n",
              "      border-radius: 50%;\n",
              "      cursor: pointer;\n",
              "      display: none;\n",
              "      fill: #1967D2;\n",
              "      height: 32px;\n",
              "      padding: 0 0 0 0;\n",
              "      width: 32px;\n",
              "    }\n",
              "\n",
              "    .colab-df-convert:hover {\n",
              "      background-color: #E2EBFA;\n",
              "      box-shadow: 0px 1px 2px rgba(60, 64, 67, 0.3), 0px 1px 3px 1px rgba(60, 64, 67, 0.15);\n",
              "      fill: #174EA6;\n",
              "    }\n",
              "\n",
              "    [theme=dark] .colab-df-convert {\n",
              "      background-color: #3B4455;\n",
              "      fill: #D2E3FC;\n",
              "    }\n",
              "\n",
              "    [theme=dark] .colab-df-convert:hover {\n",
              "      background-color: #434B5C;\n",
              "      box-shadow: 0px 1px 3px 1px rgba(0, 0, 0, 0.15);\n",
              "      filter: drop-shadow(0px 1px 2px rgba(0, 0, 0, 0.3));\n",
              "      fill: #FFFFFF;\n",
              "    }\n",
              "  </style>\n",
              "\n",
              "      <script>\n",
              "        const buttonEl =\n",
              "          document.querySelector('#df-a24fdf1d-fd64-4f78-80a2-2de8ac6a9c21 button.colab-df-convert');\n",
              "        buttonEl.style.display =\n",
              "          google.colab.kernel.accessAllowed ? 'block' : 'none';\n",
              "\n",
              "        async function convertToInteractive(key) {\n",
              "          const element = document.querySelector('#df-a24fdf1d-fd64-4f78-80a2-2de8ac6a9c21');\n",
              "          const dataTable =\n",
              "            await google.colab.kernel.invokeFunction('convertToInteractive',\n",
              "                                                     [key], {});\n",
              "          if (!dataTable) return;\n",
              "\n",
              "          const docLinkHtml = 'Like what you see? Visit the ' +\n",
              "            '<a target=\"_blank\" href=https://colab.research.google.com/notebooks/data_table.ipynb>data table notebook</a>'\n",
              "            + ' to learn more about interactive tables.';\n",
              "          element.innerHTML = '';\n",
              "          dataTable['output_type'] = 'display_data';\n",
              "          await google.colab.output.renderOutput(dataTable, element);\n",
              "          const docLink = document.createElement('div');\n",
              "          docLink.innerHTML = docLinkHtml;\n",
              "          element.appendChild(docLink);\n",
              "        }\n",
              "      </script>\n",
              "    </div>\n",
              "  </div>\n",
              "  "
            ]
          },
          "metadata": {},
          "execution_count": 10
        }
      ]
    },
    {
      "cell_type": "code",
      "source": [
        "df_entrega_irwin = df_irwin.groupby('RUTA')['A_TIEMPO'].last()"
      ],
      "metadata": {
        "id": "ThMdwcpEjU0S"
      },
      "execution_count": null,
      "outputs": []
    },
    {
      "cell_type": "code",
      "source": [
        "df_merged = df_no_repetition.merge(df_entrega_irwin, left_index=True, right_index=True)\n",
        "df_merged.head()"
      ],
      "metadata": {
        "colab": {
          "base_uri": "https://localhost:8080/",
          "height": 238
        },
        "id": "hzHOBG4hkCR0",
        "outputId": "624b801f-0b3d-4c0a-c3ea-56982f4a9cf5"
      },
      "execution_count": null,
      "outputs": [
        {
          "output_type": "execute_result",
          "data": {
            "text/plain": [
              "                  DIAS_EMBARQUE  IMPORTE_FACTURA     CAJAS  A_TIEMPO\n",
              "RUTA                                                                \n",
              "Bajío I               24.100000      5556.800000  1.566667         0\n",
              "Bajío II              24.904762      8946.547619  2.404762         0\n",
              "Centro_Occidente      28.100000      9568.200000  5.300000         1\n",
              "Golfo I                8.428571      6877.142857  1.571429         0\n",
              "Golfo II               3.200000      4483.000000  1.300000         1"
            ],
            "text/html": [
              "\n",
              "  <div id=\"df-b365bbfc-2eab-4dba-80ba-8249f9b2e68e\">\n",
              "    <div class=\"colab-df-container\">\n",
              "      <div>\n",
              "<style scoped>\n",
              "    .dataframe tbody tr th:only-of-type {\n",
              "        vertical-align: middle;\n",
              "    }\n",
              "\n",
              "    .dataframe tbody tr th {\n",
              "        vertical-align: top;\n",
              "    }\n",
              "\n",
              "    .dataframe thead th {\n",
              "        text-align: right;\n",
              "    }\n",
              "</style>\n",
              "<table border=\"1\" class=\"dataframe\">\n",
              "  <thead>\n",
              "    <tr style=\"text-align: right;\">\n",
              "      <th></th>\n",
              "      <th>DIAS_EMBARQUE</th>\n",
              "      <th>IMPORTE_FACTURA</th>\n",
              "      <th>CAJAS</th>\n",
              "      <th>A_TIEMPO</th>\n",
              "    </tr>\n",
              "    <tr>\n",
              "      <th>RUTA</th>\n",
              "      <th></th>\n",
              "      <th></th>\n",
              "      <th></th>\n",
              "      <th></th>\n",
              "    </tr>\n",
              "  </thead>\n",
              "  <tbody>\n",
              "    <tr>\n",
              "      <th>Bajío I</th>\n",
              "      <td>24.100000</td>\n",
              "      <td>5556.800000</td>\n",
              "      <td>1.566667</td>\n",
              "      <td>0</td>\n",
              "    </tr>\n",
              "    <tr>\n",
              "      <th>Bajío II</th>\n",
              "      <td>24.904762</td>\n",
              "      <td>8946.547619</td>\n",
              "      <td>2.404762</td>\n",
              "      <td>0</td>\n",
              "    </tr>\n",
              "    <tr>\n",
              "      <th>Centro_Occidente</th>\n",
              "      <td>28.100000</td>\n",
              "      <td>9568.200000</td>\n",
              "      <td>5.300000</td>\n",
              "      <td>1</td>\n",
              "    </tr>\n",
              "    <tr>\n",
              "      <th>Golfo I</th>\n",
              "      <td>8.428571</td>\n",
              "      <td>6877.142857</td>\n",
              "      <td>1.571429</td>\n",
              "      <td>0</td>\n",
              "    </tr>\n",
              "    <tr>\n",
              "      <th>Golfo II</th>\n",
              "      <td>3.200000</td>\n",
              "      <td>4483.000000</td>\n",
              "      <td>1.300000</td>\n",
              "      <td>1</td>\n",
              "    </tr>\n",
              "  </tbody>\n",
              "</table>\n",
              "</div>\n",
              "      <button class=\"colab-df-convert\" onclick=\"convertToInteractive('df-b365bbfc-2eab-4dba-80ba-8249f9b2e68e')\"\n",
              "              title=\"Convert this dataframe to an interactive table.\"\n",
              "              style=\"display:none;\">\n",
              "        \n",
              "  <svg xmlns=\"http://www.w3.org/2000/svg\" height=\"24px\"viewBox=\"0 0 24 24\"\n",
              "       width=\"24px\">\n",
              "    <path d=\"M0 0h24v24H0V0z\" fill=\"none\"/>\n",
              "    <path d=\"M18.56 5.44l.94 2.06.94-2.06 2.06-.94-2.06-.94-.94-2.06-.94 2.06-2.06.94zm-11 1L8.5 8.5l.94-2.06 2.06-.94-2.06-.94L8.5 2.5l-.94 2.06-2.06.94zm10 10l.94 2.06.94-2.06 2.06-.94-2.06-.94-.94-2.06-.94 2.06-2.06.94z\"/><path d=\"M17.41 7.96l-1.37-1.37c-.4-.4-.92-.59-1.43-.59-.52 0-1.04.2-1.43.59L10.3 9.45l-7.72 7.72c-.78.78-.78 2.05 0 2.83L4 21.41c.39.39.9.59 1.41.59.51 0 1.02-.2 1.41-.59l7.78-7.78 2.81-2.81c.8-.78.8-2.07 0-2.86zM5.41 20L4 18.59l7.72-7.72 1.47 1.35L5.41 20z\"/>\n",
              "  </svg>\n",
              "      </button>\n",
              "      \n",
              "  <style>\n",
              "    .colab-df-container {\n",
              "      display:flex;\n",
              "      flex-wrap:wrap;\n",
              "      gap: 12px;\n",
              "    }\n",
              "\n",
              "    .colab-df-convert {\n",
              "      background-color: #E8F0FE;\n",
              "      border: none;\n",
              "      border-radius: 50%;\n",
              "      cursor: pointer;\n",
              "      display: none;\n",
              "      fill: #1967D2;\n",
              "      height: 32px;\n",
              "      padding: 0 0 0 0;\n",
              "      width: 32px;\n",
              "    }\n",
              "\n",
              "    .colab-df-convert:hover {\n",
              "      background-color: #E2EBFA;\n",
              "      box-shadow: 0px 1px 2px rgba(60, 64, 67, 0.3), 0px 1px 3px 1px rgba(60, 64, 67, 0.15);\n",
              "      fill: #174EA6;\n",
              "    }\n",
              "\n",
              "    [theme=dark] .colab-df-convert {\n",
              "      background-color: #3B4455;\n",
              "      fill: #D2E3FC;\n",
              "    }\n",
              "\n",
              "    [theme=dark] .colab-df-convert:hover {\n",
              "      background-color: #434B5C;\n",
              "      box-shadow: 0px 1px 3px 1px rgba(0, 0, 0, 0.15);\n",
              "      filter: drop-shadow(0px 1px 2px rgba(0, 0, 0, 0.3));\n",
              "      fill: #FFFFFF;\n",
              "    }\n",
              "  </style>\n",
              "\n",
              "      <script>\n",
              "        const buttonEl =\n",
              "          document.querySelector('#df-b365bbfc-2eab-4dba-80ba-8249f9b2e68e button.colab-df-convert');\n",
              "        buttonEl.style.display =\n",
              "          google.colab.kernel.accessAllowed ? 'block' : 'none';\n",
              "\n",
              "        async function convertToInteractive(key) {\n",
              "          const element = document.querySelector('#df-b365bbfc-2eab-4dba-80ba-8249f9b2e68e');\n",
              "          const dataTable =\n",
              "            await google.colab.kernel.invokeFunction('convertToInteractive',\n",
              "                                                     [key], {});\n",
              "          if (!dataTable) return;\n",
              "\n",
              "          const docLinkHtml = 'Like what you see? Visit the ' +\n",
              "            '<a target=\"_blank\" href=https://colab.research.google.com/notebooks/data_table.ipynb>data table notebook</a>'\n",
              "            + ' to learn more about interactive tables.';\n",
              "          element.innerHTML = '';\n",
              "          dataTable['output_type'] = 'display_data';\n",
              "          await google.colab.output.renderOutput(dataTable, element);\n",
              "          const docLink = document.createElement('div');\n",
              "          docLink.innerHTML = docLinkHtml;\n",
              "          element.appendChild(docLink);\n",
              "        }\n",
              "      </script>\n",
              "    </div>\n",
              "  </div>\n",
              "  "
            ]
          },
          "metadata": {},
          "execution_count": 12
        }
      ]
    },
    {
      "cell_type": "code",
      "source": [
        "plt.figure(figsize=(5, 8))\n",
        "sns.violinplot(data=df_merged, x='A_TIEMPO', y='DIAS_EMBARQUE');"
      ],
      "metadata": {
        "colab": {
          "base_uri": "https://localhost:8080/",
          "height": 502
        },
        "id": "jH0rKJByNSO-",
        "outputId": "9aea07d1-c3e6-4090-a2f2-c2db84a6fad3"
      },
      "execution_count": null,
      "outputs": [
        {
          "output_type": "display_data",
          "data": {
            "text/plain": [
              "<Figure size 360x576 with 1 Axes>"
            ],
            "image/png": "[encoded data removed]"
          },
          "metadata": {}
        }
      ]
    },
    {
      "cell_type": "code",
      "source": [
        "plt.figure(figsize=(5, 8))\n",
        "sns.boxplot(data=df_merged, x='A_TIEMPO', y='DIAS_EMBARQUE');"
      ],
      "metadata": {
        "colab": {
          "base_uri": "https://localhost:8080/",
          "height": 502
        },
        "id": "fDnMZabupxY-",
        "outputId": "c93437b4-934a-4a85-d476-0834053d63ab"
      },
      "execution_count": null,
      "outputs": [
        {
          "output_type": "display_data",
          "data": {
            "text/plain": [
              "<Figure size 360x576 with 1 Axes>"
            ],
            "image/png": "[encoded data removed]"
          },
          "metadata": {}
        }
      ]
    },
    {
      "cell_type": "code",
      "source": [
        "plt.figure(figsize=(10, 10))\n",
        "sns.boxplot(x=df_irwin['DIAS_EMBARQUE']);"
      ],
      "metadata": {
        "colab": {
          "base_uri": "https://localhost:8080/",
          "height": 611
        },
        "id": "C00Ul01-qFJu",
        "outputId": "fa2b3424-21f9-4a96-e6da-2611529b7e67"
      },
      "execution_count": null,
      "outputs": [
        {
          "output_type": "display_data",
          "data": {
            "text/plain": [
              "<Figure size 720x720 with 1 Axes>"
            ],
            "image/png": "[encoded data removed]"
          },
          "metadata": {}
        }
      ]
    },
    {
      "cell_type": "code",
      "source": [
        ""
      ],
      "metadata": {
        "id": "mrfmE93mtVmb"
      },
      "execution_count": null,
      "outputs": []
    },
    {
      "cell_type": "code",
      "source": [
        "transp_irwin = df_irwin[\"LINEA_TRANSPORTE\"].value_counts()\n",
        "print(transp_irwin)"
      ],
      "metadata": {
        "colab": {
          "base_uri": "https://localhost:8080/"
        },
        "outputId": "91069f47-7907-4edb-bddf-730744374d53",
        "id": "XiakHcdytWCP"
      },
      "execution_count": null,
      "outputs": [
        {
          "output_type": "stream",
          "name": "stdout",
          "text": [
            "TRANSPORTES TIGRE        209\n",
            "TRANSPORTES MEJIA        194\n",
            "TRANSPORTES OLIVARES     191\n",
            "TRANSPORTES MARSA        147\n",
            "TRANSPORTES CORTES       129\n",
            "TRANSPORTES SANCHEZ      126\n",
            "TRANSPORTES PEREZ        118\n",
            "TRANSPORTES QUINTANAR    104\n",
            "TRANSPORTES ZEPEDA        89\n",
            "TRANSPORTES ORTIZ         82\n",
            "TRANSPORTES LEDESMA       50\n",
            "TRANSPORTES  GARCIA       49\n",
            "TRANSPORTES RODRIGUEZ     25\n",
            "TRANSPORTES GM            23\n",
            "TRANSPORTES RUIZ          23\n",
            "TRANSPORTES VALENCIA      14\n",
            "TRANSPORTES ARACELY        8\n",
            "TRANSPORTES MCM            6\n",
            "TRANSPORTES SPEED          6\n",
            "TRANSPORTES SANDY          4\n",
            "TRANSPORTE QUINTANAR       4\n",
            "TRANSPORTES CHAVARRIA      3\n",
            "CLIENTE RECOGE             2\n",
            "TRANSPORTES TAFOLLA        2\n",
            "TRANSPORTES OSVALDO        2\n",
            "TRANSPORTES GRCIA          1\n",
            "BLANCA                     1\n",
            "Name: LINEA_TRANSPORTE, dtype: int64\n"
          ]
        }
      ]
    },
    {
      "cell_type": "code",
      "source": [
        "plt.figure(figsize=(10, 10))\n",
        "ax = sns.barplot(x=transp_irwin.index, y=transp_irwin);\n",
        "ax.set_title(\"Viajes por transportista Irwin\")\n",
        "ax.set(xlabel=\"Viajes\")\n",
        "ax.set(ylabel=\"\");\n",
        "ax.set_xticklabels(ax.get_xticklabels(), rotation=90);"
      ],
      "metadata": {
        "colab": {
          "base_uri": "https://localhost:8080/",
          "height": 767
        },
        "outputId": "77f5b2de-3346-4673-d181-8b00876b3356",
        "id": "9meU6sWRtgI2"
      },
      "execution_count": null,
      "outputs": [
        {
          "output_type": "display_data",
          "data": {
            "text/plain": [
              "<Figure size 720x720 with 1 Axes>"
            ],
            "image/png": "[encoded data removed]"
          },
          "metadata": {}
        }
      ]
    },
    {
      "cell_type": "code",
      "source": [
        "counts_percentage_irwin = transp_irwin * 100 / transp_irwin.sum()"
      ],
      "metadata": {
        "id": "sxIpG-H7ttNH"
      },
      "execution_count": null,
      "outputs": []
    },
    {
      "cell_type": "code",
      "source": [
        "plt.figure(figsize=(10, 10))\n",
        "ax = sns.barplot(x=counts_percentage_irwin, y=transp_irwin.index);\n",
        "ax.set_title(\"Participación porcentual de transportistas Irwin\")\n",
        "ax.set(xlabel=\"Rating\")\n",
        "ax.set(ylabel=\"Percentage\");\n"
      ],
      "metadata": {
        "colab": {
          "base_uri": "https://localhost:8080/",
          "height": 627
        },
        "outputId": "3453fde4-d58d-424f-f8fe-4fcfded3a948",
        "id": "ckJFz4m9t4_7"
      },
      "execution_count": null,
      "outputs": [
        {
          "output_type": "display_data",
          "data": {
            "text/plain": [
              "<Figure size 720x720 with 1 Axes>"
            ],
            "image/png": "[encoded data removed]"
          },
          "metadata": {}
        }
      ]
    },
    {
      "cell_type": "code",
      "source": [
        "df_irwin.groupby('UBICACION')['TIPO_UNIDAD'].value_counts()"
      ],
      "metadata": {
        "colab": {
          "base_uri": "https://localhost:8080/"
        },
        "outputId": "d180f044-db98-4d2c-cf91-2d2af65f2943",
        "id": "ndhcMZLAuPxO"
      },
      "execution_count": null,
      "outputs": [
        {
          "output_type": "execute_result",
          "data": {
            "text/plain": [
              "UBICACION  TIPO_UNIDAD\n",
              "Centro     CAMIONETA      1274\n",
              "           TRAILER         162\n",
              "           TORTON           44\n",
              "Norte      CAMIONETA        60\n",
              "           TORTON            9\n",
              "           TRAILER           8\n",
              "Sur        CAMIONETA        49\n",
              "           TORTON            5\n",
              "           MUDANZA           1\n",
              "Name: TIPO_UNIDAD, dtype: int64"
            ]
          },
          "metadata": {},
          "execution_count": 110
        }
      ]
    },
    {
      "cell_type": "code",
      "source": [
        "pd.crosstab(df_irwin['RUTA'], [df_irwin['A_TIEMPO'], df_irwin['UBICACION']], margins=True, margins_name=\"Total\")"
      ],
      "metadata": {
        "colab": {
          "base_uri": "https://localhost:8080/",
          "height": 645
        },
        "id": "5Yh3FcRYzHOd",
        "outputId": "fc6252dd-69bc-4015-9b1c-58fb6af56885"
      },
      "execution_count": null,
      "outputs": [
        {
          "output_type": "execute_result",
          "data": {
            "text/plain": [
              "A_TIEMPO              0                1           Total\n",
              "UBICACION        Centro Norte Sur Centro Norte Sur      \n",
              "RUTA                                                    \n",
              "Bajío I              21     0   0      9     0   0    30\n",
              "Bajío II             30     0   0     12     0   0    42\n",
              "Centro_Occidente      7     0   0      3     0   0    10\n",
              "Golfo I               0     0   9      0     0   5    14\n",
              "Golfo II              0     0   4      0     0   6    10\n",
              "Local               724     0   0    660     0   0  1384\n",
              "Norte                 0    12   0      0     9   0    21\n",
              "Norte_Centro          0    12   0      0    18   0    30\n",
              "Occidente            10     0   0      4     0   0    14\n",
              "Pacifico I            0     5   0      0     4   0     9\n",
              "Pacifico II           0     4   0      0     3   0     7\n",
              "Pacífico_Norte        0     0   0      0     2   0     2\n",
              "Paquetería            0     4   0      0     4   0     8\n",
              "Península             0     0   2      0     0   3     5\n",
              "Sur I                 0     0  11      0     0   8    19\n",
              "Sureste               0     0   2      0     0   5     7\n",
              "Total               792    37  28    688    40  27  1612"
            ],
            "text/html": [
              "\n",
              "  <div id=\"df-43280ccc-5a6d-42ff-9fff-f17a472e9133\">\n",
              "    <div class=\"colab-df-container\">\n",
              "      <div>\n",
              "<style scoped>\n",
              "    .dataframe tbody tr th:only-of-type {\n",
              "        vertical-align: middle;\n",
              "    }\n",
              "\n",
              "    .dataframe tbody tr th {\n",
              "        vertical-align: top;\n",
              "    }\n",
              "\n",
              "    .dataframe thead tr th {\n",
              "        text-align: left;\n",
              "    }\n",
              "\n",
              "    .dataframe thead tr:last-of-type th {\n",
              "        text-align: right;\n",
              "    }\n",
              "</style>\n",
              "<table border=\"1\" class=\"dataframe\">\n",
              "  <thead>\n",
              "    <tr>\n",
              "      <th>A_TIEMPO</th>\n",
              "      <th colspan=\"3\" halign=\"left\">0</th>\n",
              "      <th colspan=\"3\" halign=\"left\">1</th>\n",
              "      <th>Total</th>\n",
              "    </tr>\n",
              "    <tr>\n",
              "      <th>UBICACION</th>\n",
              "      <th>Centro</th>\n",
              "      <th>Norte</th>\n",
              "      <th>Sur</th>\n",
              "      <th>Centro</th>\n",
              "      <th>Norte</th>\n",
              "      <th>Sur</th>\n",
              "      <th></th>\n",
              "    </tr>\n",
              "    <tr>\n",
              "      <th>RUTA</th>\n",
              "      <th></th>\n",
              "      <th></th>\n",
              "      <th></th>\n",
              "      <th></th>\n",
              "      <th></th>\n",
              "      <th></th>\n",
              "      <th></th>\n",
              "    </tr>\n",
              "  </thead>\n",
              "  <tbody>\n",
              "    <tr>\n",
              "      <th>Bajío I</th>\n",
              "      <td>21</td>\n",
              "      <td>0</td>\n",
              "      <td>0</td>\n",
              "      <td>9</td>\n",
              "      <td>0</td>\n",
              "      <td>0</td>\n",
              "      <td>30</td>\n",
              "    </tr>\n",
              "    <tr>\n",
              "      <th>Bajío II</th>\n",
              "      <td>30</td>\n",
              "      <td>0</td>\n",
              "      <td>0</td>\n",
              "      <td>12</td>\n",
              "      <td>0</td>\n",
              "      <td>0</td>\n",
              "      <td>42</td>\n",
              "    </tr>\n",
              "    <tr>\n",
              "      <th>Centro_Occidente</th>\n",
              "      <td>7</td>\n",
              "      <td>0</td>\n",
              "      <td>0</td>\n",
              "      <td>3</td>\n",
              "      <td>0</td>\n",
              "      <td>0</td>\n",
              "      <td>10</td>\n",
              "    </tr>\n",
              "    <tr>\n",
              "      <th>Golfo I</th>\n",
              "      <td>0</td>\n",
              "      <td>0</td>\n",
              "      <td>9</td>\n",
              "      <td>0</td>\n",
              "      <td>0</td>\n",
              "      <td>5</td>\n",
              "      <td>14</td>\n",
              "    </tr>\n",
              "    <tr>\n",
              "      <th>Golfo II</th>\n",
              "      <td>0</td>\n",
              "      <td>0</td>\n",
              "      <td>4</td>\n",
              "      <td>0</td>\n",
              "      <td>0</td>\n",
              "      <td>6</td>\n",
              "      <td>10</td>\n",
              "    </tr>\n",
              "    <tr>\n",
              "      <th>Local</th>\n",
              "      <td>724</td>\n",
              "      <td>0</td>\n",
              "      <td>0</td>\n",
              "      <td>660</td>\n",
              "      <td>0</td>\n",
              "      <td>0</td>\n",
              "      <td>1384</td>\n",
              "    </tr>\n",
              "    <tr>\n",
              "      <th>Norte</th>\n",
              "      <td>0</td>\n",
              "      <td>12</td>\n",
              "      <td>0</td>\n",
              "      <td>0</td>\n",
              "      <td>9</td>\n",
              "      <td>0</td>\n",
              "      <td>21</td>\n",
              "    </tr>\n",
              "    <tr>\n",
              "      <th>Norte_Centro</th>\n",
              "      <td>0</td>\n",
              "      <td>12</td>\n",
              "      <td>0</td>\n",
              "      <td>0</td>\n",
              "      <td>18</td>\n",
              "      <td>0</td>\n",
              "      <td>30</td>\n",
              "    </tr>\n",
              "    <tr>\n",
              "      <th>Occidente</th>\n",
              "      <td>10</td>\n",
              "      <td>0</td>\n",
              "      <td>0</td>\n",
              "      <td>4</td>\n",
              "      <td>0</td>\n",
              "      <td>0</td>\n",
              "      <td>14</td>\n",
              "    </tr>\n",
              "    <tr>\n",
              "      <th>Pacifico I</th>\n",
              "      <td>0</td>\n",
              "      <td>5</td>\n",
              "      <td>0</td>\n",
              "      <td>0</td>\n",
              "      <td>4</td>\n",
              "      <td>0</td>\n",
              "      <td>9</td>\n",
              "    </tr>\n",
              "    <tr>\n",
              "      <th>Pacifico II</th>\n",
              "      <td>0</td>\n",
              "      <td>4</td>\n",
              "      <td>0</td>\n",
              "      <td>0</td>\n",
              "      <td>3</td>\n",
              "      <td>0</td>\n",
              "      <td>7</td>\n",
              "    </tr>\n",
              "    <tr>\n",
              "      <th>Pacífico_Norte</th>\n",
              "      <td>0</td>\n",
              "      <td>0</td>\n",
              "      <td>0</td>\n",
              "      <td>0</td>\n",
              "      <td>2</td>\n",
              "      <td>0</td>\n",
              "      <td>2</td>\n",
              "    </tr>\n",
              "    <tr>\n",
              "      <th>Paquetería</th>\n",
              "      <td>0</td>\n",
              "      <td>4</td>\n",
              "      <td>0</td>\n",
              "      <td>0</td>\n",
              "      <td>4</td>\n",
              "      <td>0</td>\n",
              "      <td>8</td>\n",
              "    </tr>\n",
              "    <tr>\n",
              "      <th>Península</th>\n",
              "      <td>0</td>\n",
              "      <td>0</td>\n",
              "      <td>2</td>\n",
              "      <td>0</td>\n",
              "      <td>0</td>\n",
              "      <td>3</td>\n",
              "      <td>5</td>\n",
              "    </tr>\n",
              "    <tr>\n",
              "      <th>Sur I</th>\n",
              "      <td>0</td>\n",
              "      <td>0</td>\n",
              "      <td>11</td>\n",
              "      <td>0</td>\n",
              "      <td>0</td>\n",
              "      <td>8</td>\n",
              "      <td>19</td>\n",
              "    </tr>\n",
              "    <tr>\n",
              "      <th>Sureste</th>\n",
              "      <td>0</td>\n",
              "      <td>0</td>\n",
              "      <td>2</td>\n",
              "      <td>0</td>\n",
              "      <td>0</td>\n",
              "      <td>5</td>\n",
              "      <td>7</td>\n",
              "    </tr>\n",
              "    <tr>\n",
              "      <th>Total</th>\n",
              "      <td>792</td>\n",
              "      <td>37</td>\n",
              "      <td>28</td>\n",
              "      <td>688</td>\n",
              "      <td>40</td>\n",
              "      <td>27</td>\n",
              "      <td>1612</td>\n",
              "    </tr>\n",
              "  </tbody>\n",
              "</table>\n",
              "</div>\n",
              "      <button class=\"colab-df-convert\" onclick=\"convertToInteractive('df-43280ccc-5a6d-42ff-9fff-f17a472e9133')\"\n",
              "              title=\"Convert this dataframe to an interactive table.\"\n",
              "              style=\"display:none;\">\n",
              "        \n",
              "  <svg xmlns=\"http://www.w3.org/2000/svg\" height=\"24px\"viewBox=\"0 0 24 24\"\n",
              "       width=\"24px\">\n",
              "    <path d=\"M0 0h24v24H0V0z\" fill=\"none\"/>\n",
              "    <path d=\"M18.56 5.44l.94 2.06.94-2.06 2.06-.94-2.06-.94-.94-2.06-.94 2.06-2.06.94zm-11 1L8.5 8.5l.94-2.06 2.06-.94-2.06-.94L8.5 2.5l-.94 2.06-2.06.94zm10 10l.94 2.06.94-2.06 2.06-.94-2.06-.94-.94-2.06-.94 2.06-2.06.94z\"/><path d=\"M17.41 7.96l-1.37-1.37c-.4-.4-.92-.59-1.43-.59-.52 0-1.04.2-1.43.59L10.3 9.45l-7.72 7.72c-.78.78-.78 2.05 0 2.83L4 21.41c.39.39.9.59 1.41.59.51 0 1.02-.2 1.41-.59l7.78-7.78 2.81-2.81c.8-.78.8-2.07 0-2.86zM5.41 20L4 18.59l7.72-7.72 1.47 1.35L5.41 20z\"/>\n",
              "  </svg>\n",
              "      </button>\n",
              "      \n",
              "  <style>\n",
              "    .colab-df-container {\n",
              "      display:flex;\n",
              "      flex-wrap:wrap;\n",
              "      gap: 12px;\n",
              "    }\n",
              "\n",
              "    .colab-df-convert {\n",
              "      background-color: #E8F0FE;\n",
              "      border: none;\n",
              "      border-radius: 50%;\n",
              "      cursor: pointer;\n",
              "      display: none;\n",
              "      fill: #1967D2;\n",
              "      height: 32px;\n",
              "      padding: 0 0 0 0;\n",
              "      width: 32px;\n",
              "    }\n",
              "\n",
              "    .colab-df-convert:hover {\n",
              "      background-color: #E2EBFA;\n",
              "      box-shadow: 0px 1px 2px rgba(60, 64, 67, 0.3), 0px 1px 3px 1px rgba(60, 64, 67, 0.15);\n",
              "      fill: #174EA6;\n",
              "    }\n",
              "\n",
              "    [theme=dark] .colab-df-convert {\n",
              "      background-color: #3B4455;\n",
              "      fill: #D2E3FC;\n",
              "    }\n",
              "\n",
              "    [theme=dark] .colab-df-convert:hover {\n",
              "      background-color: #434B5C;\n",
              "      box-shadow: 0px 1px 3px 1px rgba(0, 0, 0, 0.15);\n",
              "      filter: drop-shadow(0px 1px 2px rgba(0, 0, 0, 0.3));\n",
              "      fill: #FFFFFF;\n",
              "    }\n",
              "  </style>\n",
              "\n",
              "      <script>\n",
              "        const buttonEl =\n",
              "          document.querySelector('#df-43280ccc-5a6d-42ff-9fff-f17a472e9133 button.colab-df-convert');\n",
              "        buttonEl.style.display =\n",
              "          google.colab.kernel.accessAllowed ? 'block' : 'none';\n",
              "\n",
              "        async function convertToInteractive(key) {\n",
              "          const element = document.querySelector('#df-43280ccc-5a6d-42ff-9fff-f17a472e9133');\n",
              "          const dataTable =\n",
              "            await google.colab.kernel.invokeFunction('convertToInteractive',\n",
              "                                                     [key], {});\n",
              "          if (!dataTable) return;\n",
              "\n",
              "          const docLinkHtml = 'Like what you see? Visit the ' +\n",
              "            '<a target=\"_blank\" href=https://colab.research.google.com/notebooks/data_table.ipynb>data table notebook</a>'\n",
              "            + ' to learn more about interactive tables.';\n",
              "          element.innerHTML = '';\n",
              "          dataTable['output_type'] = 'display_data';\n",
              "          await google.colab.output.renderOutput(dataTable, element);\n",
              "          const docLink = document.createElement('div');\n",
              "          docLink.innerHTML = docLinkHtml;\n",
              "          element.appendChild(docLink);\n",
              "        }\n",
              "      </script>\n",
              "    </div>\n",
              "  </div>\n",
              "  "
            ]
          },
          "metadata": {},
          "execution_count": 16
        }
      ]
    },
    {
      "cell_type": "code",
      "source": [
        "crosstab = pd.crosstab(df_irwin['A_TIEMPO'], df_irwin['UBICACION'])\n",
        "crosstab"
      ],
      "metadata": {
        "colab": {
          "base_uri": "https://localhost:8080/",
          "height": 143
        },
        "id": "EcWj-qEPz2An",
        "outputId": "7ba2243a-b8bc-4d70-905d-14eff23b608f"
      },
      "execution_count": null,
      "outputs": [
        {
          "output_type": "execute_result",
          "data": {
            "text/plain": [
              "UBICACION  Centro  Norte  Sur\n",
              "A_TIEMPO                     \n",
              "0             792     37   28\n",
              "1             688     40   27"
            ],
            "text/html": [
              "\n",
              "  <div id=\"df-a6045415-5a08-458c-a8bf-4d5fc3a0895b\">\n",
              "    <div class=\"colab-df-container\">\n",
              "      <div>\n",
              "<style scoped>\n",
              "    .dataframe tbody tr th:only-of-type {\n",
              "        vertical-align: middle;\n",
              "    }\n",
              "\n",
              "    .dataframe tbody tr th {\n",
              "        vertical-align: top;\n",
              "    }\n",
              "\n",
              "    .dataframe thead th {\n",
              "        text-align: right;\n",
              "    }\n",
              "</style>\n",
              "<table border=\"1\" class=\"dataframe\">\n",
              "  <thead>\n",
              "    <tr style=\"text-align: right;\">\n",
              "      <th>UBICACION</th>\n",
              "      <th>Centro</th>\n",
              "      <th>Norte</th>\n",
              "      <th>Sur</th>\n",
              "    </tr>\n",
              "    <tr>\n",
              "      <th>A_TIEMPO</th>\n",
              "      <th></th>\n",
              "      <th></th>\n",
              "      <th></th>\n",
              "    </tr>\n",
              "  </thead>\n",
              "  <tbody>\n",
              "    <tr>\n",
              "      <th>0</th>\n",
              "      <td>792</td>\n",
              "      <td>37</td>\n",
              "      <td>28</td>\n",
              "    </tr>\n",
              "    <tr>\n",
              "      <th>1</th>\n",
              "      <td>688</td>\n",
              "      <td>40</td>\n",
              "      <td>27</td>\n",
              "    </tr>\n",
              "  </tbody>\n",
              "</table>\n",
              "</div>\n",
              "      <button class=\"colab-df-convert\" onclick=\"convertToInteractive('df-a6045415-5a08-458c-a8bf-4d5fc3a0895b')\"\n",
              "              title=\"Convert this dataframe to an interactive table.\"\n",
              "              style=\"display:none;\">\n",
              "        \n",
              "  <svg xmlns=\"http://www.w3.org/2000/svg\" height=\"24px\"viewBox=\"0 0 24 24\"\n",
              "       width=\"24px\">\n",
              "    <path d=\"M0 0h24v24H0V0z\" fill=\"none\"/>\n",
              "    <path d=\"M18.56 5.44l.94 2.06.94-2.06 2.06-.94-2.06-.94-.94-2.06-.94 2.06-2.06.94zm-11 1L8.5 8.5l.94-2.06 2.06-.94-2.06-.94L8.5 2.5l-.94 2.06-2.06.94zm10 10l.94 2.06.94-2.06 2.06-.94-2.06-.94-.94-2.06-.94 2.06-2.06.94z\"/><path d=\"M17.41 7.96l-1.37-1.37c-.4-.4-.92-.59-1.43-.59-.52 0-1.04.2-1.43.59L10.3 9.45l-7.72 7.72c-.78.78-.78 2.05 0 2.83L4 21.41c.39.39.9.59 1.41.59.51 0 1.02-.2 1.41-.59l7.78-7.78 2.81-2.81c.8-.78.8-2.07 0-2.86zM5.41 20L4 18.59l7.72-7.72 1.47 1.35L5.41 20z\"/>\n",
              "  </svg>\n",
              "      </button>\n",
              "      \n",
              "  <style>\n",
              "    .colab-df-container {\n",
              "      display:flex;\n",
              "      flex-wrap:wrap;\n",
              "      gap: 12px;\n",
              "    }\n",
              "\n",
              "    .colab-df-convert {\n",
              "      background-color: #E8F0FE;\n",
              "      border: none;\n",
              "      border-radius: 50%;\n",
              "      cursor: pointer;\n",
              "      display: none;\n",
              "      fill: #1967D2;\n",
              "      height: 32px;\n",
              "      padding: 0 0 0 0;\n",
              "      width: 32px;\n",
              "    }\n",
              "\n",
              "    .colab-df-convert:hover {\n",
              "      background-color: #E2EBFA;\n",
              "      box-shadow: 0px 1px 2px rgba(60, 64, 67, 0.3), 0px 1px 3px 1px rgba(60, 64, 67, 0.15);\n",
              "      fill: #174EA6;\n",
              "    }\n",
              "\n",
              "    [theme=dark] .colab-df-convert {\n",
              "      background-color: #3B4455;\n",
              "      fill: #D2E3FC;\n",
              "    }\n",
              "\n",
              "    [theme=dark] .colab-df-convert:hover {\n",
              "      background-color: #434B5C;\n",
              "      box-shadow: 0px 1px 3px 1px rgba(0, 0, 0, 0.15);\n",
              "      filter: drop-shadow(0px 1px 2px rgba(0, 0, 0, 0.3));\n",
              "      fill: #FFFFFF;\n",
              "    }\n",
              "  </style>\n",
              "\n",
              "      <script>\n",
              "        const buttonEl =\n",
              "          document.querySelector('#df-a6045415-5a08-458c-a8bf-4d5fc3a0895b button.colab-df-convert');\n",
              "        buttonEl.style.display =\n",
              "          google.colab.kernel.accessAllowed ? 'block' : 'none';\n",
              "\n",
              "        async function convertToInteractive(key) {\n",
              "          const element = document.querySelector('#df-a6045415-5a08-458c-a8bf-4d5fc3a0895b');\n",
              "          const dataTable =\n",
              "            await google.colab.kernel.invokeFunction('convertToInteractive',\n",
              "                                                     [key], {});\n",
              "          if (!dataTable) return;\n",
              "\n",
              "          const docLinkHtml = 'Like what you see? Visit the ' +\n",
              "            '<a target=\"_blank\" href=https://colab.research.google.com/notebooks/data_table.ipynb>data table notebook</a>'\n",
              "            + ' to learn more about interactive tables.';\n",
              "          element.innerHTML = '';\n",
              "          dataTable['output_type'] = 'display_data';\n",
              "          await google.colab.output.renderOutput(dataTable, element);\n",
              "          const docLink = document.createElement('div');\n",
              "          docLink.innerHTML = docLinkHtml;\n",
              "          element.appendChild(docLink);\n",
              "        }\n",
              "      </script>\n",
              "    </div>\n",
              "  </div>\n",
              "  "
            ]
          },
          "metadata": {},
          "execution_count": 17
        }
      ]
    },
    {
      "cell_type": "code",
      "source": [
        "crosstab.stack(level=0)"
      ],
      "metadata": {
        "colab": {
          "base_uri": "https://localhost:8080/"
        },
        "id": "Y9VHMDIH71tV",
        "outputId": "01335711-5559-4156-a647-2030ffaaf754"
      },
      "execution_count": null,
      "outputs": [
        {
          "output_type": "execute_result",
          "data": {
            "text/plain": [
              "A_TIEMPO  UBICACION\n",
              "0         Centro       792\n",
              "          Norte         37\n",
              "          Sur           28\n",
              "1         Centro       688\n",
              "          Norte         40\n",
              "          Sur           27\n",
              "dtype: int64"
            ]
          },
          "metadata": {},
          "execution_count": 24
        }
      ]
    },
    {
      "cell_type": "code",
      "source": [
        "crosstab.loc[0]"
      ],
      "metadata": {
        "colab": {
          "base_uri": "https://localhost:8080/"
        },
        "id": "WNY0o2CD5-RX",
        "outputId": "ec1c1d8f-822e-4f81-d774-ffb3557df0bf"
      },
      "execution_count": null,
      "outputs": [
        {
          "output_type": "execute_result",
          "data": {
            "text/plain": [
              "UBICACION\n",
              "Centro    792\n",
              "Norte      37\n",
              "Sur        28\n",
              "Name: 0, dtype: int64"
            ]
          },
          "metadata": {},
          "execution_count": 25
        }
      ]
    },
    {
      "cell_type": "code",
      "source": [
        "fig, axes = plt.subplots(2, 1, figsize=(10, 8), sharex=True, sharey=True);\n",
        "\n",
        "sns.barplot(x=crosstab.columns, y=crosstab.loc[0], ax=axes[0]);\n",
        "sns.barplot(x=crosstab.columns, y=crosstab.loc[1], ax=axes[1])\n",
        "\n",
        "axes[0].set(xlabel='', ylabel='', title=\"Entregas a tiempo\")\n",
        "axes[1].set(xlabel='', ylabel='', title=\"Entregas fuera de tiempo\");\n",
        "\n",
        "fig.suptitle(\"Cantidad de entregas por zona\", fontsize=15);"
      ],
      "metadata": {
        "colab": {
          "base_uri": "https://localhost:8080/",
          "height": 543
        },
        "id": "5zAa3ofU2x0Z",
        "outputId": "ea4b156a-afe8-456a-fa13-64f63387573e"
      },
      "execution_count": null,
      "outputs": [
        {
          "output_type": "display_data",
          "data": {
            "text/plain": [
              "<Figure size 720x576 with 2 Axes>"
            ],
            "image/png": "[encoded data removed]"
          },
          "metadata": {
            "needs_background": "light"
          }
        }
      ]
    },
    {
      "cell_type": "code",
      "source": [
        "plt.figure(figsize=(8, 6))\n",
        "ax = sns.heatmap(df_irwin.corr(), vmin=-1, vmax=1, annot=True, linewidths=.5, cmap=\"YlGnBu_r\")"
      ],
      "metadata": {
        "colab": {
          "base_uri": "https://localhost:8080/",
          "height": 488
        },
        "id": "aAaZFhcfb5dp",
        "outputId": "0bb557e4-b56b-40f8-e098-21d51a762d6f"
      },
      "execution_count": null,
      "outputs": [
        {
          "output_type": "display_data",
          "data": {
            "text/plain": [
              "<Figure size 576x432 with 2 Axes>"
            ],
            "image/png": "[encoded data removed]"
          },
          "metadata": {
            "needs_background": "light"
          }
        }
      ]
    },
    {
      "cell_type": "code",
      "source": [
        "df_irwin_filtered = df.drop(columns=['GUIA', 'FECHA_DE_PEDIDO','FECHA_DE_EMBARQUE', 'A_TIEMPO', 'ID_PEDIDO','FACTURA' ,'CLIENTE', \n",
        "                                     'COSIGNADO', 'TIPO_FLETE', 'NEGOCIO', 'LINEA_TRANSPORTE' ,\n",
        "                                     'STATUS','MES', 'UBICACION', 'CIUDAD', 'ESTADO', 'RUTA', 'TARIFA_CAMION', 'N_PIEZAS',\n",
        "                                     'REPARTOS', 'MANIOBRAS','TARIFA_PAQUETERIA'])\n",
        "df_irwin_filtered.head(5)"
      ],
      "metadata": {
        "colab": {
          "base_uri": "https://localhost:8080/",
          "height": 206
        },
        "id": "1m28o5dzFi6p",
        "outputId": "2e0d7cb5-1046-4783-a22f-c9d576eb7c76"
      },
      "execution_count": null,
      "outputs": [
        {
          "output_type": "execute_result",
          "data": {
            "text/plain": [
              "   DIAS_EMBARQUE  IMPORTE_FACTURA  CAJAS TIPO_UNIDAD  COSTO_TOTAL_FLETE\n",
              "0              2             2369     11      TORTON             1100.0\n",
              "1              2              602      1      TORTON                0.0\n",
              "2              2             1498      5      TORTON                0.0\n",
              "3              2              696      2      TORTON                0.0\n",
              "4              2             2092      7      TORTON                0.0"
            ],
            "text/html": [
              "\n",
              "  <div id=\"df-f614b403-6999-4635-b2ba-25bd99577c03\">\n",
              "    <div class=\"colab-df-container\">\n",
              "      <div>\n",
              "<style scoped>\n",
              "    .dataframe tbody tr th:only-of-type {\n",
              "        vertical-align: middle;\n",
              "    }\n",
              "\n",
              "    .dataframe tbody tr th {\n",
              "        vertical-align: top;\n",
              "    }\n",
              "\n",
              "    .dataframe thead th {\n",
              "        text-align: right;\n",
              "    }\n",
              "</style>\n",
              "<table border=\"1\" class=\"dataframe\">\n",
              "  <thead>\n",
              "    <tr style=\"text-align: right;\">\n",
              "      <th></th>\n",
              "      <th>DIAS_EMBARQUE</th>\n",
              "      <th>IMPORTE_FACTURA</th>\n",
              "      <th>CAJAS</th>\n",
              "      <th>TIPO_UNIDAD</th>\n",
              "      <th>COSTO_TOTAL_FLETE</th>\n",
              "    </tr>\n",
              "  </thead>\n",
              "  <tbody>\n",
              "    <tr>\n",
              "      <th>0</th>\n",
              "      <td>2</td>\n",
              "      <td>2369</td>\n",
              "      <td>11</td>\n",
              "      <td>TORTON</td>\n",
              "      <td>1100.0</td>\n",
              "    </tr>\n",
              "    <tr>\n",
              "      <th>1</th>\n",
              "      <td>2</td>\n",
              "      <td>602</td>\n",
              "      <td>1</td>\n",
              "      <td>TORTON</td>\n",
              "      <td>0.0</td>\n",
              "    </tr>\n",
              "    <tr>\n",
              "      <th>2</th>\n",
              "      <td>2</td>\n",
              "      <td>1498</td>\n",
              "      <td>5</td>\n",
              "      <td>TORTON</td>\n",
              "      <td>0.0</td>\n",
              "    </tr>\n",
              "    <tr>\n",
              "      <th>3</th>\n",
              "      <td>2</td>\n",
              "      <td>696</td>\n",
              "      <td>2</td>\n",
              "      <td>TORTON</td>\n",
              "      <td>0.0</td>\n",
              "    </tr>\n",
              "    <tr>\n",
              "      <th>4</th>\n",
              "      <td>2</td>\n",
              "      <td>2092</td>\n",
              "      <td>7</td>\n",
              "      <td>TORTON</td>\n",
              "      <td>0.0</td>\n",
              "    </tr>\n",
              "  </tbody>\n",
              "</table>\n",
              "</div>\n",
              "      <button class=\"colab-df-convert\" onclick=\"convertToInteractive('df-f614b403-6999-4635-b2ba-25bd99577c03')\"\n",
              "              title=\"Convert this dataframe to an interactive table.\"\n",
              "              style=\"display:none;\">\n",
              "        \n",
              "  <svg xmlns=\"http://www.w3.org/2000/svg\" height=\"24px\"viewBox=\"0 0 24 24\"\n",
              "       width=\"24px\">\n",
              "    <path d=\"M0 0h24v24H0V0z\" fill=\"none\"/>\n",
              "    <path d=\"M18.56 5.44l.94 2.06.94-2.06 2.06-.94-2.06-.94-.94-2.06-.94 2.06-2.06.94zm-11 1L8.5 8.5l.94-2.06 2.06-.94-2.06-.94L8.5 2.5l-.94 2.06-2.06.94zm10 10l.94 2.06.94-2.06 2.06-.94-2.06-.94-.94-2.06-.94 2.06-2.06.94z\"/><path d=\"M17.41 7.96l-1.37-1.37c-.4-.4-.92-.59-1.43-.59-.52 0-1.04.2-1.43.59L10.3 9.45l-7.72 7.72c-.78.78-.78 2.05 0 2.83L4 21.41c.39.39.9.59 1.41.59.51 0 1.02-.2 1.41-.59l7.78-7.78 2.81-2.81c.8-.78.8-2.07 0-2.86zM5.41 20L4 18.59l7.72-7.72 1.47 1.35L5.41 20z\"/>\n",
              "  </svg>\n",
              "      </button>\n",
              "      \n",
              "  <style>\n",
              "    .colab-df-container {\n",
              "      display:flex;\n",
              "      flex-wrap:wrap;\n",
              "      gap: 12px;\n",
              "    }\n",
              "\n",
              "    .colab-df-convert {\n",
              "      background-color: #E8F0FE;\n",
              "      border: none;\n",
              "      border-radius: 50%;\n",
              "      cursor: pointer;\n",
              "      display: none;\n",
              "      fill: #1967D2;\n",
              "      height: 32px;\n",
              "      padding: 0 0 0 0;\n",
              "      width: 32px;\n",
              "    }\n",
              "\n",
              "    .colab-df-convert:hover {\n",
              "      background-color: #E2EBFA;\n",
              "      box-shadow: 0px 1px 2px rgba(60, 64, 67, 0.3), 0px 1px 3px 1px rgba(60, 64, 67, 0.15);\n",
              "      fill: #174EA6;\n",
              "    }\n",
              "\n",
              "    [theme=dark] .colab-df-convert {\n",
              "      background-color: #3B4455;\n",
              "      fill: #D2E3FC;\n",
              "    }\n",
              "\n",
              "    [theme=dark] .colab-df-convert:hover {\n",
              "      background-color: #434B5C;\n",
              "      box-shadow: 0px 1px 3px 1px rgba(0, 0, 0, 0.15);\n",
              "      filter: drop-shadow(0px 1px 2px rgba(0, 0, 0, 0.3));\n",
              "      fill: #FFFFFF;\n",
              "    }\n",
              "  </style>\n",
              "\n",
              "      <script>\n",
              "        const buttonEl =\n",
              "          document.querySelector('#df-f614b403-6999-4635-b2ba-25bd99577c03 button.colab-df-convert');\n",
              "        buttonEl.style.display =\n",
              "          google.colab.kernel.accessAllowed ? 'block' : 'none';\n",
              "\n",
              "        async function convertToInteractive(key) {\n",
              "          const element = document.querySelector('#df-f614b403-6999-4635-b2ba-25bd99577c03');\n",
              "          const dataTable =\n",
              "            await google.colab.kernel.invokeFunction('convertToInteractive',\n",
              "                                                     [key], {});\n",
              "          if (!dataTable) return;\n",
              "\n",
              "          const docLinkHtml = 'Like what you see? Visit the ' +\n",
              "            '<a target=\"_blank\" href=https://colab.research.google.com/notebooks/data_table.ipynb>data table notebook</a>'\n",
              "            + ' to learn more about interactive tables.';\n",
              "          element.innerHTML = '';\n",
              "          dataTable['output_type'] = 'display_data';\n",
              "          await google.colab.output.renderOutput(dataTable, element);\n",
              "          const docLink = document.createElement('div');\n",
              "          docLink.innerHTML = docLinkHtml;\n",
              "          element.appendChild(docLink);\n",
              "        }\n",
              "      </script>\n",
              "    </div>\n",
              "  </div>\n",
              "  "
            ]
          },
          "metadata": {},
          "execution_count": 18
        }
      ]
    },
    {
      "cell_type": "code",
      "source": [
        "df_irwin_filtered.corr()"
      ],
      "metadata": {
        "colab": {
          "base_uri": "https://localhost:8080/",
          "height": 175
        },
        "id": "UI6H96FeJygL",
        "outputId": "d9d0daa9-9935-47d6-e7f2-0a66548e6740"
      },
      "execution_count": null,
      "outputs": [
        {
          "output_type": "execute_result",
          "data": {
            "text/plain": [
              "                   DIAS_EMBARQUE  IMPORTE_FACTURA     CAJAS  COSTO_TOTAL_FLETE\n",
              "DIAS_EMBARQUE           1.000000        -0.002463 -0.084665          -0.028256\n",
              "IMPORTE_FACTURA        -0.002463         1.000000  0.370676           0.183998\n",
              "CAJAS                  -0.084665         0.370676  1.000000           0.326140\n",
              "COSTO_TOTAL_FLETE      -0.028256         0.183998  0.326140           1.000000"
            ],
            "text/html": [
              "\n",
              "  <div id=\"df-dace9f3a-68af-474b-8bc1-fdcdc47eddd3\">\n",
              "    <div class=\"colab-df-container\">\n",
              "      <div>\n",
              "<style scoped>\n",
              "    .dataframe tbody tr th:only-of-type {\n",
              "        vertical-align: middle;\n",
              "    }\n",
              "\n",
              "    .dataframe tbody tr th {\n",
              "        vertical-align: top;\n",
              "    }\n",
              "\n",
              "    .dataframe thead th {\n",
              "        text-align: right;\n",
              "    }\n",
              "</style>\n",
              "<table border=\"1\" class=\"dataframe\">\n",
              "  <thead>\n",
              "    <tr style=\"text-align: right;\">\n",
              "      <th></th>\n",
              "      <th>DIAS_EMBARQUE</th>\n",
              "      <th>IMPORTE_FACTURA</th>\n",
              "      <th>CAJAS</th>\n",
              "      <th>COSTO_TOTAL_FLETE</th>\n",
              "    </tr>\n",
              "  </thead>\n",
              "  <tbody>\n",
              "    <tr>\n",
              "      <th>DIAS_EMBARQUE</th>\n",
              "      <td>1.000000</td>\n",
              "      <td>-0.002463</td>\n",
              "      <td>-0.084665</td>\n",
              "      <td>-0.028256</td>\n",
              "    </tr>\n",
              "    <tr>\n",
              "      <th>IMPORTE_FACTURA</th>\n",
              "      <td>-0.002463</td>\n",
              "      <td>1.000000</td>\n",
              "      <td>0.370676</td>\n",
              "      <td>0.183998</td>\n",
              "    </tr>\n",
              "    <tr>\n",
              "      <th>CAJAS</th>\n",
              "      <td>-0.084665</td>\n",
              "      <td>0.370676</td>\n",
              "      <td>1.000000</td>\n",
              "      <td>0.326140</td>\n",
              "    </tr>\n",
              "    <tr>\n",
              "      <th>COSTO_TOTAL_FLETE</th>\n",
              "      <td>-0.028256</td>\n",
              "      <td>0.183998</td>\n",
              "      <td>0.326140</td>\n",
              "      <td>1.000000</td>\n",
              "    </tr>\n",
              "  </tbody>\n",
              "</table>\n",
              "</div>\n",
              "      <button class=\"colab-df-convert\" onclick=\"convertToInteractive('df-dace9f3a-68af-474b-8bc1-fdcdc47eddd3')\"\n",
              "              title=\"Convert this dataframe to an interactive table.\"\n",
              "              style=\"display:none;\">\n",
              "        \n",
              "  <svg xmlns=\"http://www.w3.org/2000/svg\" height=\"24px\"viewBox=\"0 0 24 24\"\n",
              "       width=\"24px\">\n",
              "    <path d=\"M0 0h24v24H0V0z\" fill=\"none\"/>\n",
              "    <path d=\"M18.56 5.44l.94 2.06.94-2.06 2.06-.94-2.06-.94-.94-2.06-.94 2.06-2.06.94zm-11 1L8.5 8.5l.94-2.06 2.06-.94-2.06-.94L8.5 2.5l-.94 2.06-2.06.94zm10 10l.94 2.06.94-2.06 2.06-.94-2.06-.94-.94-2.06-.94 2.06-2.06.94z\"/><path d=\"M17.41 7.96l-1.37-1.37c-.4-.4-.92-.59-1.43-.59-.52 0-1.04.2-1.43.59L10.3 9.45l-7.72 7.72c-.78.78-.78 2.05 0 2.83L4 21.41c.39.39.9.59 1.41.59.51 0 1.02-.2 1.41-.59l7.78-7.78 2.81-2.81c.8-.78.8-2.07 0-2.86zM5.41 20L4 18.59l7.72-7.72 1.47 1.35L5.41 20z\"/>\n",
              "  </svg>\n",
              "      </button>\n",
              "      \n",
              "  <style>\n",
              "    .colab-df-container {\n",
              "      display:flex;\n",
              "      flex-wrap:wrap;\n",
              "      gap: 12px;\n",
              "    }\n",
              "\n",
              "    .colab-df-convert {\n",
              "      background-color: #E8F0FE;\n",
              "      border: none;\n",
              "      border-radius: 50%;\n",
              "      cursor: pointer;\n",
              "      display: none;\n",
              "      fill: #1967D2;\n",
              "      height: 32px;\n",
              "      padding: 0 0 0 0;\n",
              "      width: 32px;\n",
              "    }\n",
              "\n",
              "    .colab-df-convert:hover {\n",
              "      background-color: #E2EBFA;\n",
              "      box-shadow: 0px 1px 2px rgba(60, 64, 67, 0.3), 0px 1px 3px 1px rgba(60, 64, 67, 0.15);\n",
              "      fill: #174EA6;\n",
              "    }\n",
              "\n",
              "    [theme=dark] .colab-df-convert {\n",
              "      background-color: #3B4455;\n",
              "      fill: #D2E3FC;\n",
              "    }\n",
              "\n",
              "    [theme=dark] .colab-df-convert:hover {\n",
              "      background-color: #434B5C;\n",
              "      box-shadow: 0px 1px 3px 1px rgba(0, 0, 0, 0.15);\n",
              "      filter: drop-shadow(0px 1px 2px rgba(0, 0, 0, 0.3));\n",
              "      fill: #FFFFFF;\n",
              "    }\n",
              "  </style>\n",
              "\n",
              "      <script>\n",
              "        const buttonEl =\n",
              "          document.querySelector('#df-dace9f3a-68af-474b-8bc1-fdcdc47eddd3 button.colab-df-convert');\n",
              "        buttonEl.style.display =\n",
              "          google.colab.kernel.accessAllowed ? 'block' : 'none';\n",
              "\n",
              "        async function convertToInteractive(key) {\n",
              "          const element = document.querySelector('#df-dace9f3a-68af-474b-8bc1-fdcdc47eddd3');\n",
              "          const dataTable =\n",
              "            await google.colab.kernel.invokeFunction('convertToInteractive',\n",
              "                                                     [key], {});\n",
              "          if (!dataTable) return;\n",
              "\n",
              "          const docLinkHtml = 'Like what you see? Visit the ' +\n",
              "            '<a target=\"_blank\" href=https://colab.research.google.com/notebooks/data_table.ipynb>data table notebook</a>'\n",
              "            + ' to learn more about interactive tables.';\n",
              "          element.innerHTML = '';\n",
              "          dataTable['output_type'] = 'display_data';\n",
              "          await google.colab.output.renderOutput(dataTable, element);\n",
              "          const docLink = document.createElement('div');\n",
              "          docLink.innerHTML = docLinkHtml;\n",
              "          element.appendChild(docLink);\n",
              "        }\n",
              "      </script>\n",
              "    </div>\n",
              "  </div>\n",
              "  "
            ]
          },
          "metadata": {},
          "execution_count": 19
        }
      ]
    },
    {
      "cell_type": "code",
      "source": [
        "df_irwin.corr()"
      ],
      "metadata": {
        "colab": {
          "base_uri": "https://localhost:8080/",
          "height": 521
        },
        "id": "GXVIeHZAQp-i",
        "outputId": "7e4e4e1d-8a44-431a-d662-21dc225200d8"
      },
      "execution_count": null,
      "outputs": [
        {
          "output_type": "execute_result",
          "data": {
            "text/plain": [
              "                       GUIA  DIAS_EMBARQUE  A_TIEMPO  ID_PEDIDO   FACTURA  \\\n",
              "GUIA               1.000000       0.055075 -0.248655   0.076638  0.009012   \n",
              "DIAS_EMBARQUE      0.055075       1.000000 -0.516236  -0.030736 -0.011421   \n",
              "A_TIEMPO          -0.248655      -0.516236  1.000000   0.008667 -0.040766   \n",
              "ID_PEDIDO          0.076638      -0.030736  0.008667   1.000000  0.000216   \n",
              "FACTURA            0.009012      -0.011421 -0.040766   0.000216  1.000000   \n",
              "IMPORTE_FACTURA   -0.032393      -0.031758 -0.023552  -0.005114 -0.004904   \n",
              "CAJAS             -0.028148      -0.049613  0.074729   0.002030 -0.008713   \n",
              "N_PIEZAS          -0.026665      -0.023985  0.008517  -0.007095 -0.006822   \n",
              "TARIFA_CAMION     -0.006400      -0.012199  0.000815   0.019015 -0.015798   \n",
              "TARIFA_PAQUETERIA -0.011147      -0.055668  0.036940  -0.003827 -0.004532   \n",
              "MANIOBRAS          0.126639      -0.021842 -0.014921   0.013751 -0.000754   \n",
              "REPARTOS           0.043135      -0.004660  0.002368   0.004801 -0.000750   \n",
              "COSTO_TOTAL_FLETE  0.005905      -0.014854  0.001983   0.018305 -0.011968   \n",
              "\n",
              "                   IMPORTE_FACTURA     CAJAS  N_PIEZAS  TARIFA_CAMION  \\\n",
              "GUIA                     -0.032393 -0.028148 -0.026665      -0.006400   \n",
              "DIAS_EMBARQUE            -0.031758 -0.049613 -0.023985      -0.012199   \n",
              "A_TIEMPO                 -0.023552  0.074729  0.008517       0.000815   \n",
              "ID_PEDIDO                -0.005114  0.002030 -0.007095       0.019015   \n",
              "FACTURA                  -0.004904 -0.008713 -0.006822      -0.015798   \n",
              "IMPORTE_FACTURA           1.000000  0.554882  0.822735       0.061931   \n",
              "CAJAS                     0.554882  1.000000  0.486159       0.049067   \n",
              "N_PIEZAS                  0.822735  0.486159  1.000000       0.025922   \n",
              "TARIFA_CAMION             0.061931  0.049067  0.025922       1.000000   \n",
              "TARIFA_PAQUETERIA        -0.018199 -0.027265 -0.007008      -0.009761   \n",
              "MANIOBRAS                 0.073157 -0.009848  0.030884       0.557922   \n",
              "REPARTOS                 -0.003938 -0.003539 -0.007153       0.711559   \n",
              "COSTO_TOTAL_FLETE         0.060748  0.042253  0.025082       0.993721   \n",
              "\n",
              "                   TARIFA_PAQUETERIA  MANIOBRAS  REPARTOS  COSTO_TOTAL_FLETE  \n",
              "GUIA                       -0.011147   0.126639  0.043135           0.005905  \n",
              "DIAS_EMBARQUE              -0.055668  -0.021842 -0.004660          -0.014854  \n",
              "A_TIEMPO                    0.036940  -0.014921  0.002368           0.001983  \n",
              "ID_PEDIDO                  -0.003827   0.013751  0.004801           0.018305  \n",
              "FACTURA                    -0.004532  -0.000754 -0.000750          -0.011968  \n",
              "IMPORTE_FACTURA            -0.018199   0.073157 -0.003938           0.060748  \n",
              "CAJAS                      -0.027265  -0.009848 -0.003539           0.042253  \n",
              "N_PIEZAS                   -0.007008   0.030884 -0.007153           0.025082  \n",
              "TARIFA_CAMION              -0.009761   0.557922  0.711559           0.993721  \n",
              "TARIFA_PAQUETERIA           1.000000  -0.012194 -0.006481           0.028955  \n",
              "MANIOBRAS                  -0.012194   1.000000  0.584534           0.624470  \n",
              "REPARTOS                   -0.006481   0.584534  1.000000           0.760169  \n",
              "COSTO_TOTAL_FLETE           0.028955   0.624470  0.760169           1.000000  "
            ],
            "text/html": [
              "\n",
              "  <div id=\"df-3500a860-a45f-4838-9e3d-671aa1cb2690\">\n",
              "    <div class=\"colab-df-container\">\n",
              "      <div>\n",
              "<style scoped>\n",
              "    .dataframe tbody tr th:only-of-type {\n",
              "        vertical-align: middle;\n",
              "    }\n",
              "\n",
              "    .dataframe tbody tr th {\n",
              "        vertical-align: top;\n",
              "    }\n",
              "\n",
              "    .dataframe thead th {\n",
              "        text-align: right;\n",
              "    }\n",
              "</style>\n",
              "<table border=\"1\" class=\"dataframe\">\n",
              "  <thead>\n",
              "    <tr style=\"text-align: right;\">\n",
              "      <th></th>\n",
              "      <th>GUIA</th>\n",
              "      <th>DIAS_EMBARQUE</th>\n",
              "      <th>A_TIEMPO</th>\n",
              "      <th>ID_PEDIDO</th>\n",
              "      <th>FACTURA</th>\n",
              "      <th>IMPORTE_FACTURA</th>\n",
              "      <th>CAJAS</th>\n",
              "      <th>N_PIEZAS</th>\n",
              "      <th>TARIFA_CAMION</th>\n",
              "      <th>TARIFA_PAQUETERIA</th>\n",
              "      <th>MANIOBRAS</th>\n",
              "      <th>REPARTOS</th>\n",
              "      <th>COSTO_TOTAL_FLETE</th>\n",
              "    </tr>\n",
              "  </thead>\n",
              "  <tbody>\n",
              "    <tr>\n",
              "      <th>GUIA</th>\n",
              "      <td>1.000000</td>\n",
              "      <td>0.055075</td>\n",
              "      <td>-0.248655</td>\n",
              "      <td>0.076638</td>\n",
              "      <td>0.009012</td>\n",
              "      <td>-0.032393</td>\n",
              "      <td>-0.028148</td>\n",
              "      <td>-0.026665</td>\n",
              "      <td>-0.006400</td>\n",
              "      <td>-0.011147</td>\n",
              "      <td>0.126639</td>\n",
              "      <td>0.043135</td>\n",
              "      <td>0.005905</td>\n",
              "    </tr>\n",
              "    <tr>\n",
              "      <th>DIAS_EMBARQUE</th>\n",
              "      <td>0.055075</td>\n",
              "      <td>1.000000</td>\n",
              "      <td>-0.516236</td>\n",
              "      <td>-0.030736</td>\n",
              "      <td>-0.011421</td>\n",
              "      <td>-0.031758</td>\n",
              "      <td>-0.049613</td>\n",
              "      <td>-0.023985</td>\n",
              "      <td>-0.012199</td>\n",
              "      <td>-0.055668</td>\n",
              "      <td>-0.021842</td>\n",
              "      <td>-0.004660</td>\n",
              "      <td>-0.014854</td>\n",
              "    </tr>\n",
              "    <tr>\n",
              "      <th>A_TIEMPO</th>\n",
              "      <td>-0.248655</td>\n",
              "      <td>-0.516236</td>\n",
              "      <td>1.000000</td>\n",
              "      <td>0.008667</td>\n",
              "      <td>-0.040766</td>\n",
              "      <td>-0.023552</td>\n",
              "      <td>0.074729</td>\n",
              "      <td>0.008517</td>\n",
              "      <td>0.000815</td>\n",
              "      <td>0.036940</td>\n",
              "      <td>-0.014921</td>\n",
              "      <td>0.002368</td>\n",
              "      <td>0.001983</td>\n",
              "    </tr>\n",
              "    <tr>\n",
              "      <th>ID_PEDIDO</th>\n",
              "      <td>0.076638</td>\n",
              "      <td>-0.030736</td>\n",
              "      <td>0.008667</td>\n",
              "      <td>1.000000</td>\n",
              "      <td>0.000216</td>\n",
              "      <td>-0.005114</td>\n",
              "      <td>0.002030</td>\n",
              "      <td>-0.007095</td>\n",
              "      <td>0.019015</td>\n",
              "      <td>-0.003827</td>\n",
              "      <td>0.013751</td>\n",
              "      <td>0.004801</td>\n",
              "      <td>0.018305</td>\n",
              "    </tr>\n",
              "    <tr>\n",
              "      <th>FACTURA</th>\n",
              "      <td>0.009012</td>\n",
              "      <td>-0.011421</td>\n",
              "      <td>-0.040766</td>\n",
              "      <td>0.000216</td>\n",
              "      <td>1.000000</td>\n",
              "      <td>-0.004904</td>\n",
              "      <td>-0.008713</td>\n",
              "      <td>-0.006822</td>\n",
              "      <td>-0.015798</td>\n",
              "      <td>-0.004532</td>\n",
              "      <td>-0.000754</td>\n",
              "      <td>-0.000750</td>\n",
              "      <td>-0.011968</td>\n",
              "    </tr>\n",
              "    <tr>\n",
              "      <th>IMPORTE_FACTURA</th>\n",
              "      <td>-0.032393</td>\n",
              "      <td>-0.031758</td>\n",
              "      <td>-0.023552</td>\n",
              "      <td>-0.005114</td>\n",
              "      <td>-0.004904</td>\n",
              "      <td>1.000000</td>\n",
              "      <td>0.554882</td>\n",
              "      <td>0.822735</td>\n",
              "      <td>0.061931</td>\n",
              "      <td>-0.018199</td>\n",
              "      <td>0.073157</td>\n",
              "      <td>-0.003938</td>\n",
              "      <td>0.060748</td>\n",
              "    </tr>\n",
              "    <tr>\n",
              "      <th>CAJAS</th>\n",
              "      <td>-0.028148</td>\n",
              "      <td>-0.049613</td>\n",
              "      <td>0.074729</td>\n",
              "      <td>0.002030</td>\n",
              "      <td>-0.008713</td>\n",
              "      <td>0.554882</td>\n",
              "      <td>1.000000</td>\n",
              "      <td>0.486159</td>\n",
              "      <td>0.049067</td>\n",
              "      <td>-0.027265</td>\n",
              "      <td>-0.009848</td>\n",
              "      <td>-0.003539</td>\n",
              "      <td>0.042253</td>\n",
              "    </tr>\n",
              "    <tr>\n",
              "      <th>N_PIEZAS</th>\n",
              "      <td>-0.026665</td>\n",
              "      <td>-0.023985</td>\n",
              "      <td>0.008517</td>\n",
              "      <td>-0.007095</td>\n",
              "      <td>-0.006822</td>\n",
              "      <td>0.822735</td>\n",
              "      <td>0.486159</td>\n",
              "      <td>1.000000</td>\n",
              "      <td>0.025922</td>\n",
              "      <td>-0.007008</td>\n",
              "      <td>0.030884</td>\n",
              "      <td>-0.007153</td>\n",
              "      <td>0.025082</td>\n",
              "    </tr>\n",
              "    <tr>\n",
              "      <th>TARIFA_CAMION</th>\n",
              "      <td>-0.006400</td>\n",
              "      <td>-0.012199</td>\n",
              "      <td>0.000815</td>\n",
              "      <td>0.019015</td>\n",
              "      <td>-0.015798</td>\n",
              "      <td>0.061931</td>\n",
              "      <td>0.049067</td>\n",
              "      <td>0.025922</td>\n",
              "      <td>1.000000</td>\n",
              "      <td>-0.009761</td>\n",
              "      <td>0.557922</td>\n",
              "      <td>0.711559</td>\n",
              "      <td>0.993721</td>\n",
              "    </tr>\n",
              "    <tr>\n",
              "      <th>TARIFA_PAQUETERIA</th>\n",
              "      <td>-0.011147</td>\n",
              "      <td>-0.055668</td>\n",
              "      <td>0.036940</td>\n",
              "      <td>-0.003827</td>\n",
              "      <td>-0.004532</td>\n",
              "      <td>-0.018199</td>\n",
              "      <td>-0.027265</td>\n",
              "      <td>-0.007008</td>\n",
              "      <td>-0.009761</td>\n",
              "      <td>1.000000</td>\n",
              "      <td>-0.012194</td>\n",
              "      <td>-0.006481</td>\n",
              "      <td>0.028955</td>\n",
              "    </tr>\n",
              "    <tr>\n",
              "      <th>MANIOBRAS</th>\n",
              "      <td>0.126639</td>\n",
              "      <td>-0.021842</td>\n",
              "      <td>-0.014921</td>\n",
              "      <td>0.013751</td>\n",
              "      <td>-0.000754</td>\n",
              "      <td>0.073157</td>\n",
              "      <td>-0.009848</td>\n",
              "      <td>0.030884</td>\n",
              "      <td>0.557922</td>\n",
              "      <td>-0.012194</td>\n",
              "      <td>1.000000</td>\n",
              "      <td>0.584534</td>\n",
              "      <td>0.624470</td>\n",
              "    </tr>\n",
              "    <tr>\n",
              "      <th>REPARTOS</th>\n",
              "      <td>0.043135</td>\n",
              "      <td>-0.004660</td>\n",
              "      <td>0.002368</td>\n",
              "      <td>0.004801</td>\n",
              "      <td>-0.000750</td>\n",
              "      <td>-0.003938</td>\n",
              "      <td>-0.003539</td>\n",
              "      <td>-0.007153</td>\n",
              "      <td>0.711559</td>\n",
              "      <td>-0.006481</td>\n",
              "      <td>0.584534</td>\n",
              "      <td>1.000000</td>\n",
              "      <td>0.760169</td>\n",
              "    </tr>\n",
              "    <tr>\n",
              "      <th>COSTO_TOTAL_FLETE</th>\n",
              "      <td>0.005905</td>\n",
              "      <td>-0.014854</td>\n",
              "      <td>0.001983</td>\n",
              "      <td>0.018305</td>\n",
              "      <td>-0.011968</td>\n",
              "      <td>0.060748</td>\n",
              "      <td>0.042253</td>\n",
              "      <td>0.025082</td>\n",
              "      <td>0.993721</td>\n",
              "      <td>0.028955</td>\n",
              "      <td>0.624470</td>\n",
              "      <td>0.760169</td>\n",
              "      <td>1.000000</td>\n",
              "    </tr>\n",
              "  </tbody>\n",
              "</table>\n",
              "</div>\n",
              "      <button class=\"colab-df-convert\" onclick=\"convertToInteractive('df-3500a860-a45f-4838-9e3d-671aa1cb2690')\"\n",
              "              title=\"Convert this dataframe to an interactive table.\"\n",
              "              style=\"display:none;\">\n",
              "        \n",
              "  <svg xmlns=\"http://www.w3.org/2000/svg\" height=\"24px\"viewBox=\"0 0 24 24\"\n",
              "       width=\"24px\">\n",
              "    <path d=\"M0 0h24v24H0V0z\" fill=\"none\"/>\n",
              "    <path d=\"M18.56 5.44l.94 2.06.94-2.06 2.06-.94-2.06-.94-.94-2.06-.94 2.06-2.06.94zm-11 1L8.5 8.5l.94-2.06 2.06-.94-2.06-.94L8.5 2.5l-.94 2.06-2.06.94zm10 10l.94 2.06.94-2.06 2.06-.94-2.06-.94-.94-2.06-.94 2.06-2.06.94z\"/><path d=\"M17.41 7.96l-1.37-1.37c-.4-.4-.92-.59-1.43-.59-.52 0-1.04.2-1.43.59L10.3 9.45l-7.72 7.72c-.78.78-.78 2.05 0 2.83L4 21.41c.39.39.9.59 1.41.59.51 0 1.02-.2 1.41-.59l7.78-7.78 2.81-2.81c.8-.78.8-2.07 0-2.86zM5.41 20L4 18.59l7.72-7.72 1.47 1.35L5.41 20z\"/>\n",
              "  </svg>\n",
              "      </button>\n",
              "      \n",
              "  <style>\n",
              "    .colab-df-container {\n",
              "      display:flex;\n",
              "      flex-wrap:wrap;\n",
              "      gap: 12px;\n",
              "    }\n",
              "\n",
              "    .colab-df-convert {\n",
              "      background-color: #E8F0FE;\n",
              "      border: none;\n",
              "      border-radius: 50%;\n",
              "      cursor: pointer;\n",
              "      display: none;\n",
              "      fill: #1967D2;\n",
              "      height: 32px;\n",
              "      padding: 0 0 0 0;\n",
              "      width: 32px;\n",
              "    }\n",
              "\n",
              "    .colab-df-convert:hover {\n",
              "      background-color: #E2EBFA;\n",
              "      box-shadow: 0px 1px 2px rgba(60, 64, 67, 0.3), 0px 1px 3px 1px rgba(60, 64, 67, 0.15);\n",
              "      fill: #174EA6;\n",
              "    }\n",
              "\n",
              "    [theme=dark] .colab-df-convert {\n",
              "      background-color: #3B4455;\n",
              "      fill: #D2E3FC;\n",
              "    }\n",
              "\n",
              "    [theme=dark] .colab-df-convert:hover {\n",
              "      background-color: #434B5C;\n",
              "      box-shadow: 0px 1px 3px 1px rgba(0, 0, 0, 0.15);\n",
              "      filter: drop-shadow(0px 1px 2px rgba(0, 0, 0, 0.3));\n",
              "      fill: #FFFFFF;\n",
              "    }\n",
              "  </style>\n",
              "\n",
              "      <script>\n",
              "        const buttonEl =\n",
              "          document.querySelector('#df-3500a860-a45f-4838-9e3d-671aa1cb2690 button.colab-df-convert');\n",
              "        buttonEl.style.display =\n",
              "          google.colab.kernel.accessAllowed ? 'block' : 'none';\n",
              "\n",
              "        async function convertToInteractive(key) {\n",
              "          const element = document.querySelector('#df-3500a860-a45f-4838-9e3d-671aa1cb2690');\n",
              "          const dataTable =\n",
              "            await google.colab.kernel.invokeFunction('convertToInteractive',\n",
              "                                                     [key], {});\n",
              "          if (!dataTable) return;\n",
              "\n",
              "          const docLinkHtml = 'Like what you see? Visit the ' +\n",
              "            '<a target=\"_blank\" href=https://colab.research.google.com/notebooks/data_table.ipynb>data table notebook</a>'\n",
              "            + ' to learn more about interactive tables.';\n",
              "          element.innerHTML = '';\n",
              "          dataTable['output_type'] = 'display_data';\n",
              "          await google.colab.output.renderOutput(dataTable, element);\n",
              "          const docLink = document.createElement('div');\n",
              "          docLink.innerHTML = docLinkHtml;\n",
              "          element.appendChild(docLink);\n",
              "        }\n",
              "      </script>\n",
              "    </div>\n",
              "  </div>\n",
              "  "
            ]
          },
          "metadata": {},
          "execution_count": 30
        }
      ]
    },
    {
      "cell_type": "code",
      "source": [
        "plt.figure(figsize=(8, 6))\n",
        "ax = sns.heatmap(df_irwin_filtered.corr(), vmin=-1, vmax=1, annot=True, linewidths=.5, cmap=\"YlGnBu_r\")"
      ],
      "metadata": {
        "colab": {
          "base_uri": "https://localhost:8080/",
          "height": 488
        },
        "id": "skXXt0Y3J8la",
        "outputId": "4cac20df-4283-4fba-8016-6dada5d38a7b"
      },
      "execution_count": null,
      "outputs": [
        {
          "output_type": "display_data",
          "data": {
            "text/plain": [
              "<Figure size 576x432 with 2 Axes>"
            ],
            "image/png": "[encoded data removed]"
          },
          "metadata": {
            "needs_background": "light"
          }
        }
      ]
    },
    {
      "cell_type": "code",
      "source": [
        "sns.scatterplot(x=df_irwin_filtered['IMPORTE_FACTURA'], y=df_irwin_filtered['CAJAS']);"
      ],
      "metadata": {
        "colab": {
          "base_uri": "https://localhost:8080/",
          "height": 285
        },
        "id": "RGGNL3oKN25r",
        "outputId": "dec60bd3-a770-46ec-ec67-28e7275013bf"
      },
      "execution_count": null,
      "outputs": [
        {
          "output_type": "display_data",
          "data": {
            "text/plain": [
              "<Figure size 432x288 with 1 Axes>"
            ],
            "image/png": "[encoded data removed]"
          },
          "metadata": {
            "needs_background": "light"
          }
        }
      ]
    },
    {
      "cell_type": "code",
      "source": [
        "df_irwin_filtered['IMPORTE_FACTURA'].corr(df_irwin_filtered['CAJAS'])"
      ],
      "metadata": {
        "colab": {
          "base_uri": "https://localhost:8080/"
        },
        "id": "TdgGm-8tOWP5",
        "outputId": "f37ff773-0728-41d6-dee6-8b91c9d05b28"
      },
      "execution_count": null,
      "outputs": [
        {
          "output_type": "execute_result",
          "data": {
            "text/plain": [
              "0.3706759138000079"
            ]
          },
          "metadata": {},
          "execution_count": 33
        }
      ]
    },
    {
      "cell_type": "code",
      "source": [
        "sns.scatterplot(x=df_irwin_filtered['COSTO_TOTAL_FLETE'], y=df_irwin_filtered['CAJAS']);"
      ],
      "metadata": {
        "colab": {
          "base_uri": "https://localhost:8080/",
          "height": 285
        },
        "id": "ikFV17dbOgI9",
        "outputId": "82cc7cf4-7a9a-41cc-9bd0-44fd2c8d12c3"
      },
      "execution_count": null,
      "outputs": [
        {
          "output_type": "display_data",
          "data": {
            "text/plain": [
              "<Figure size 432x288 with 1 Axes>"
            ],
            "image/png": "[encoded data removed]"
          },
          "metadata": {
            "needs_background": "light"
          }
        }
      ]
    },
    {
      "cell_type": "code",
      "source": [
        "df_irwin_filtered['COSTO_TOTAL_FLETE'].corr(df_irwin_filtered['CAJAS'])"
      ],
      "metadata": {
        "colab": {
          "base_uri": "https://localhost:8080/"
        },
        "id": "Er0zFVWzPxsJ",
        "outputId": "538bfa71-fea9-4b79-fb59-c25db1cfe9e6"
      },
      "execution_count": null,
      "outputs": [
        {
          "output_type": "execute_result",
          "data": {
            "text/plain": [
              "0.32613968145658273"
            ]
          },
          "metadata": {},
          "execution_count": 35
        }
      ]
    },
    {
      "cell_type": "code",
      "source": [
        "sns.pairplot(df_irwin_filtered);"
      ],
      "metadata": {
        "colab": {
          "base_uri": "https://localhost:8080/",
          "height": 727
        },
        "id": "_Rax0noGQOEs",
        "outputId": "dca8aeda-6bb2-4045-e803-9aac3fde36a6"
      },
      "execution_count": null,
      "outputs": [
        {
          "output_type": "display_data",
          "data": {
            "text/plain": [
              "<Figure size 720x720 with 20 Axes>"
            ],
            "image/png": "[encoded data removed]"
          },
          "metadata": {
            "needs_background": "light"
          }
        }
      ]
    },
    {
      "cell_type": "code",
      "source": [
        "from sklearn.linear_model import LinearRegression"
      ],
      "metadata": {
        "id": "nsbl8NiBRbn6"
      },
      "execution_count": null,
      "outputs": []
    },
    {
      "cell_type": "code",
      "source": [
        "lr = LinearRegression()\n",
        "lr.fit(df_irwin['N_PIEZAS'].to_frame(), df_irwin['IMPORTE_FACTURA'])\n"
      ],
      "metadata": {
        "colab": {
          "base_uri": "https://localhost:8080/"
        },
        "id": "pR9CtE_CRdLg",
        "outputId": "03bb54ef-dd0b-4d02-92d5-8ce7c520285a"
      },
      "execution_count": null,
      "outputs": [
        {
          "output_type": "execute_result",
          "data": {
            "text/plain": [
              "LinearRegression()"
            ]
          },
          "metadata": {},
          "execution_count": 21
        }
      ]
    },
    {
      "cell_type": "code",
      "source": [
        "y_predict = lr.predict(df_irwin['N_PIEZAS'].to_frame())"
      ],
      "metadata": {
        "id": "4W7MuDmKUJ2Y"
      },
      "execution_count": null,
      "outputs": []
    },
    {
      "cell_type": "code",
      "source": [
        "sns.scatterplot(df_irwin['N_PIEZAS'], df_irwin['IMPORTE_FACTURA'], s=40);\n",
        "sns.scatterplot(df_irwin['N_PIEZAS'], y=y_predict, s=25);"
      ],
      "metadata": {
        "colab": {
          "base_uri": "https://localhost:8080/",
          "height": 385
        },
        "id": "o6-d1tCIUlDn",
        "outputId": "679afbc6-bde5-4255-d9a1-f702a1f21512"
      },
      "execution_count": null,
      "outputs": [
        {
          "output_type": "stream",
          "name": "stderr",
          "text": [
            "/usr/local/lib/python3.7/dist-packages/seaborn/_decorators.py:43: FutureWarning: Pass the following variables as keyword args: x, y. From version 0.12, the only valid positional argument will be `data`, and passing other arguments without an explicit keyword will result in an error or misinterpretation.\n",
            "  FutureWarning\n",
            "/usr/local/lib/python3.7/dist-packages/seaborn/_decorators.py:43: FutureWarning: Pass the following variable as a keyword arg: x. From version 0.12, the only valid positional argument will be `data`, and passing other arguments without an explicit keyword will result in an error or misinterpretation.\n",
            "  FutureWarning\n"
          ]
        },
        {
          "output_type": "display_data",
          "data": {
            "text/plain": [
              "<Figure size 432x288 with 1 Axes>"
            ],
            "image/png": "[encoded data removed]"
          },
          "metadata": {}
        }
      ]
    },
    {
      "cell_type": "code",
      "source": [
        "df_irwin['N_PIEZAS'].corr(df_irwin['IMPORTE_FACTURA'])"
      ],
      "metadata": {
        "colab": {
          "base_uri": "https://localhost:8080/"
        },
        "id": "4_X31G2zcFWn",
        "outputId": "ea63c830-7512-4fb4-d89f-dd68386f9369"
      },
      "execution_count": null,
      "outputs": [
        {
          "output_type": "execute_result",
          "data": {
            "text/plain": [
              "0.8227351095598141"
            ]
          },
          "metadata": {},
          "execution_count": 24
        }
      ]
    },
    {
      "cell_type": "code",
      "source": [
        "intercept = lr.intercept_\n",
        "intercept"
      ],
      "metadata": {
        "colab": {
          "base_uri": "https://localhost:8080/"
        },
        "id": "c5cKHESvdDbi",
        "outputId": "d62d2b91-7636-45c3-cc47-034f89ed83ac"
      },
      "execution_count": null,
      "outputs": [
        {
          "output_type": "execute_result",
          "data": {
            "text/plain": [
              "7275.23445729633"
            ]
          },
          "metadata": {},
          "execution_count": 42
        }
      ]
    },
    {
      "cell_type": "code",
      "source": [
        "coefficient = lr.coef_[0]\n",
        "coefficient"
      ],
      "metadata": {
        "colab": {
          "base_uri": "https://localhost:8080/"
        },
        "id": "tAMyiKZmdHkw",
        "outputId": "a820aca3-c988-4aa7-933f-797429ca9e7e"
      },
      "execution_count": null,
      "outputs": [
        {
          "output_type": "execute_result",
          "data": {
            "text/plain": [
              "13.380112917695149"
            ]
          },
          "metadata": {},
          "execution_count": 43
        }
      ]
    },
    {
      "cell_type": "markdown",
      "source": [
        "y = 13.380112917695149 * x + 7275.23445729633"
      ],
      "metadata": {
        "id": "Zi4vLC42dSZh"
      }
    },
    {
      "cell_type": "code",
      "source": [
        "np.power(df_irwin['N_PIEZAS'].corr(df_irwin['IMPORTE_FACTURA']), 2)"
      ],
      "metadata": {
        "colab": {
          "base_uri": "https://localhost:8080/"
        },
        "id": "KYlrWNsKqoxl",
        "outputId": "61bce3f3-fa32-4078-dac1-6d4e6f2c4204"
      },
      "execution_count": null,
      "outputs": [
        {
          "output_type": "execute_result",
          "data": {
            "text/plain": [
              "0.6768930605023993"
            ]
          },
          "metadata": {},
          "execution_count": 44
        }
      ]
    },
    {
      "cell_type": "markdown",
      "source": [
        "## Distribuciones muestrales de estadísticas"
      ],
      "metadata": {
        "id": "KcaMKgR5xu-M"
      }
    },
    {
      "cell_type": "code",
      "source": [
        "import pandas as pd\n",
        "import matplotlib.pyplot as plt\n",
        "import seaborn as sns"
      ],
      "metadata": {
        "id": "AFFrdwRKxqQH"
      },
      "execution_count": null,
      "outputs": []
    },
    {
      "cell_type": "code",
      "source": [
        "df_irwin.head(5)"
      ],
      "metadata": {
        "colab": {
          "base_uri": "https://localhost:8080/",
          "height": 473
        },
        "id": "4Kn6ayyPyCET",
        "outputId": "c1c7eb3a-ac7a-415c-b0d8-9fb0d436c158"
      },
      "execution_count": null,
      "outputs": [
        {
          "output_type": "execute_result",
          "data": {
            "text/plain": [
              "    GUIA FECHA_DE_PEDIDO FECHA_DE_EMBARQUE  DIAS_EMBARQUE  A_TIEMPO  \\\n",
              "37  2529      2006-01-04        2006-01-06              2         1   \n",
              "38  2529      2006-01-04        2006-01-06              2         1   \n",
              "39  2529      2006-01-04        2006-01-06              2         1   \n",
              "40  2529      2006-01-04        2006-01-06              2         1   \n",
              "41  2529      2006-01-04        2006-01-06              2         1   \n",
              "\n",
              "    ID_PEDIDO  FACTURA  IMPORTE_FACTURA          CLIENTE       COSIGNADO  ...  \\\n",
              "37      65954   409622            17615  NUEVA WAL MART   CRUCE DE ANDEN  ...   \n",
              "38      65947   409621            21942  NUEVA WAL MART   CRUCE DE ANDEN  ...   \n",
              "39      65950   409614            19262  NUEVA WAL MART   CRUCE DE ANDEN  ...   \n",
              "40      65949   409602             6797  NUEVA WAL MART   CRUCE DE ANDEN  ...   \n",
              "41      65951   409603              439  NUEVA WAL MART   CRUCE DE ANDEN  ...   \n",
              "\n",
              "    COSTO_TOTAL_FLETE  TIPO_FLETE NEGOCIO   LINEA_TRANSPORTE      STATUS  \\\n",
              "37                0.0       LOCAL   IRWIN  TRANSPORTES TIGRE  ENTREGADO    \n",
              "38                0.0       LOCAL   IRWIN  TRANSPORTES TIGRE  ENTREGADO    \n",
              "39                0.0       LOCAL   IRWIN  TRANSPORTES TIGRE  ENTREGADO    \n",
              "40                0.0       LOCAL   IRWIN  TRANSPORTES TIGRE  ENTREGADO    \n",
              "41                0.0       LOCAL   IRWIN  TRANSPORTES TIGRE  ENTREGADO    \n",
              "\n",
              "          MES  UBICACION      CIUDAD         ESTADO   RUTA  \n",
              "37 2006-01-01     Centro  CUAUTITLAN  EDO DE MEXICO  Local  \n",
              "38 2006-01-01     Centro  CUAUTITLAN  EDO DE MEXICO  Local  \n",
              "39 2006-01-01     Centro  CUAUTITLAN  EDO DE MEXICO  Local  \n",
              "40 2006-01-01     Centro  CUAUTITLAN  EDO DE MEXICO  Local  \n",
              "41 2006-01-01     Centro  CUAUTITLAN  EDO DE MEXICO  Local  \n",
              "\n",
              "[5 rows x 27 columns]"
            ],
            "text/html": [
              "\n",
              "  <div id=\"df-5297c1e0-7389-4a7a-81a3-74e3b8965ece\">\n",
              "    <div class=\"colab-df-container\">\n",
              "      <div>\n",
              "<style scoped>\n",
              "    .dataframe tbody tr th:only-of-type {\n",
              "        vertical-align: middle;\n",
              "    }\n",
              "\n",
              "    .dataframe tbody tr th {\n",
              "        vertical-align: top;\n",
              "    }\n",
              "\n",
              "    .dataframe thead th {\n",
              "        text-align: right;\n",
              "    }\n",
              "</style>\n",
              "<table border=\"1\" class=\"dataframe\">\n",
              "  <thead>\n",
              "    <tr style=\"text-align: right;\">\n",
              "      <th></th>\n",
              "      <th>GUIA</th>\n",
              "      <th>FECHA_DE_PEDIDO</th>\n",
              "      <th>FECHA_DE_EMBARQUE</th>\n",
              "      <th>DIAS_EMBARQUE</th>\n",
              "      <th>A_TIEMPO</th>\n",
              "      <th>ID_PEDIDO</th>\n",
              "      <th>FACTURA</th>\n",
              "      <th>IMPORTE_FACTURA</th>\n",
              "      <th>CLIENTE</th>\n",
              "      <th>COSIGNADO</th>\n",
              "      <th>...</th>\n",
              "      <th>COSTO_TOTAL_FLETE</th>\n",
              "      <th>TIPO_FLETE</th>\n",
              "      <th>NEGOCIO</th>\n",
              "      <th>LINEA_TRANSPORTE</th>\n",
              "      <th>STATUS</th>\n",
              "      <th>MES</th>\n",
              "      <th>UBICACION</th>\n",
              "      <th>CIUDAD</th>\n",
              "      <th>ESTADO</th>\n",
              "      <th>RUTA</th>\n",
              "    </tr>\n",
              "  </thead>\n",
              "  <tbody>\n",
              "    <tr>\n",
              "      <th>37</th>\n",
              "      <td>2529</td>\n",
              "      <td>2006-01-04</td>\n",
              "      <td>2006-01-06</td>\n",
              "      <td>2</td>\n",
              "      <td>1</td>\n",
              "      <td>65954</td>\n",
              "      <td>409622</td>\n",
              "      <td>17615</td>\n",
              "      <td>NUEVA WAL MART</td>\n",
              "      <td>CRUCE DE ANDEN</td>\n",
              "      <td>...</td>\n",
              "      <td>0.0</td>\n",
              "      <td>LOCAL</td>\n",
              "      <td>IRWIN</td>\n",
              "      <td>TRANSPORTES TIGRE</td>\n",
              "      <td>ENTREGADO</td>\n",
              "      <td>2006-01-01</td>\n",
              "      <td>Centro</td>\n",
              "      <td>CUAUTITLAN</td>\n",
              "      <td>EDO DE MEXICO</td>\n",
              "      <td>Local</td>\n",
              "    </tr>\n",
              "    <tr>\n",
              "      <th>38</th>\n",
              "      <td>2529</td>\n",
              "      <td>2006-01-04</td>\n",
              "      <td>2006-01-06</td>\n",
              "      <td>2</td>\n",
              "      <td>1</td>\n",
              "      <td>65947</td>\n",
              "      <td>409621</td>\n",
              "      <td>21942</td>\n",
              "      <td>NUEVA WAL MART</td>\n",
              "      <td>CRUCE DE ANDEN</td>\n",
              "      <td>...</td>\n",
              "      <td>0.0</td>\n",
              "      <td>LOCAL</td>\n",
              "      <td>IRWIN</td>\n",
              "      <td>TRANSPORTES TIGRE</td>\n",
              "      <td>ENTREGADO</td>\n",
              "      <td>2006-01-01</td>\n",
              "      <td>Centro</td>\n",
              "      <td>CUAUTITLAN</td>\n",
              "      <td>EDO DE MEXICO</td>\n",
              "      <td>Local</td>\n",
              "    </tr>\n",
              "    <tr>\n",
              "      <th>39</th>\n",
              "      <td>2529</td>\n",
              "      <td>2006-01-04</td>\n",
              "      <td>2006-01-06</td>\n",
              "      <td>2</td>\n",
              "      <td>1</td>\n",
              "      <td>65950</td>\n",
              "      <td>409614</td>\n",
              "      <td>19262</td>\n",
              "      <td>NUEVA WAL MART</td>\n",
              "      <td>CRUCE DE ANDEN</td>\n",
              "      <td>...</td>\n",
              "      <td>0.0</td>\n",
              "      <td>LOCAL</td>\n",
              "      <td>IRWIN</td>\n",
              "      <td>TRANSPORTES TIGRE</td>\n",
              "      <td>ENTREGADO</td>\n",
              "      <td>2006-01-01</td>\n",
              "      <td>Centro</td>\n",
              "      <td>CUAUTITLAN</td>\n",
              "      <td>EDO DE MEXICO</td>\n",
              "      <td>Local</td>\n",
              "    </tr>\n",
              "    <tr>\n",
              "      <th>40</th>\n",
              "      <td>2529</td>\n",
              "      <td>2006-01-04</td>\n",
              "      <td>2006-01-06</td>\n",
              "      <td>2</td>\n",
              "      <td>1</td>\n",
              "      <td>65949</td>\n",
              "      <td>409602</td>\n",
              "      <td>6797</td>\n",
              "      <td>NUEVA WAL MART</td>\n",
              "      <td>CRUCE DE ANDEN</td>\n",
              "      <td>...</td>\n",
              "      <td>0.0</td>\n",
              "      <td>LOCAL</td>\n",
              "      <td>IRWIN</td>\n",
              "      <td>TRANSPORTES TIGRE</td>\n",
              "      <td>ENTREGADO</td>\n",
              "      <td>2006-01-01</td>\n",
              "      <td>Centro</td>\n",
              "      <td>CUAUTITLAN</td>\n",
              "      <td>EDO DE MEXICO</td>\n",
              "      <td>Local</td>\n",
              "    </tr>\n",
              "    <tr>\n",
              "      <th>41</th>\n",
              "      <td>2529</td>\n",
              "      <td>2006-01-04</td>\n",
              "      <td>2006-01-06</td>\n",
              "      <td>2</td>\n",
              "      <td>1</td>\n",
              "      <td>65951</td>\n",
              "      <td>409603</td>\n",
              "      <td>439</td>\n",
              "      <td>NUEVA WAL MART</td>\n",
              "      <td>CRUCE DE ANDEN</td>\n",
              "      <td>...</td>\n",
              "      <td>0.0</td>\n",
              "      <td>LOCAL</td>\n",
              "      <td>IRWIN</td>\n",
              "      <td>TRANSPORTES TIGRE</td>\n",
              "      <td>ENTREGADO</td>\n",
              "      <td>2006-01-01</td>\n",
              "      <td>Centro</td>\n",
              "      <td>CUAUTITLAN</td>\n",
              "      <td>EDO DE MEXICO</td>\n",
              "      <td>Local</td>\n",
              "    </tr>\n",
              "  </tbody>\n",
              "</table>\n",
              "<p>5 rows × 27 columns</p>\n",
              "</div>\n",
              "      <button class=\"colab-df-convert\" onclick=\"convertToInteractive('df-5297c1e0-7389-4a7a-81a3-74e3b8965ece')\"\n",
              "              title=\"Convert this dataframe to an interactive table.\"\n",
              "              style=\"display:none;\">\n",
              "        \n",
              "  <svg xmlns=\"http://www.w3.org/2000/svg\" height=\"24px\"viewBox=\"0 0 24 24\"\n",
              "       width=\"24px\">\n",
              "    <path d=\"M0 0h24v24H0V0z\" fill=\"none\"/>\n",
              "    <path d=\"M18.56 5.44l.94 2.06.94-2.06 2.06-.94-2.06-.94-.94-2.06-.94 2.06-2.06.94zm-11 1L8.5 8.5l.94-2.06 2.06-.94-2.06-.94L8.5 2.5l-.94 2.06-2.06.94zm10 10l.94 2.06.94-2.06 2.06-.94-2.06-.94-.94-2.06-.94 2.06-2.06.94z\"/><path d=\"M17.41 7.96l-1.37-1.37c-.4-.4-.92-.59-1.43-.59-.52 0-1.04.2-1.43.59L10.3 9.45l-7.72 7.72c-.78.78-.78 2.05 0 2.83L4 21.41c.39.39.9.59 1.41.59.51 0 1.02-.2 1.41-.59l7.78-7.78 2.81-2.81c.8-.78.8-2.07 0-2.86zM5.41 20L4 18.59l7.72-7.72 1.47 1.35L5.41 20z\"/>\n",
              "  </svg>\n",
              "      </button>\n",
              "      \n",
              "  <style>\n",
              "    .colab-df-container {\n",
              "      display:flex;\n",
              "      flex-wrap:wrap;\n",
              "      gap: 12px;\n",
              "    }\n",
              "\n",
              "    .colab-df-convert {\n",
              "      background-color: #E8F0FE;\n",
              "      border: none;\n",
              "      border-radius: 50%;\n",
              "      cursor: pointer;\n",
              "      display: none;\n",
              "      fill: #1967D2;\n",
              "      height: 32px;\n",
              "      padding: 0 0 0 0;\n",
              "      width: 32px;\n",
              "    }\n",
              "\n",
              "    .colab-df-convert:hover {\n",
              "      background-color: #E2EBFA;\n",
              "      box-shadow: 0px 1px 2px rgba(60, 64, 67, 0.3), 0px 1px 3px 1px rgba(60, 64, 67, 0.15);\n",
              "      fill: #174EA6;\n",
              "    }\n",
              "\n",
              "    [theme=dark] .colab-df-convert {\n",
              "      background-color: #3B4455;\n",
              "      fill: #D2E3FC;\n",
              "    }\n",
              "\n",
              "    [theme=dark] .colab-df-convert:hover {\n",
              "      background-color: #434B5C;\n",
              "      box-shadow: 0px 1px 3px 1px rgba(0, 0, 0, 0.15);\n",
              "      filter: drop-shadow(0px 1px 2px rgba(0, 0, 0, 0.3));\n",
              "      fill: #FFFFFF;\n",
              "    }\n",
              "  </style>\n",
              "\n",
              "      <script>\n",
              "        const buttonEl =\n",
              "          document.querySelector('#df-5297c1e0-7389-4a7a-81a3-74e3b8965ece button.colab-df-convert');\n",
              "        buttonEl.style.display =\n",
              "          google.colab.kernel.accessAllowed ? 'block' : 'none';\n",
              "\n",
              "        async function convertToInteractive(key) {\n",
              "          const element = document.querySelector('#df-5297c1e0-7389-4a7a-81a3-74e3b8965ece');\n",
              "          const dataTable =\n",
              "            await google.colab.kernel.invokeFunction('convertToInteractive',\n",
              "                                                     [key], {});\n",
              "          if (!dataTable) return;\n",
              "\n",
              "          const docLinkHtml = 'Like what you see? Visit the ' +\n",
              "            '<a target=\"_blank\" href=https://colab.research.google.com/notebooks/data_table.ipynb>data table notebook</a>'\n",
              "            + ' to learn more about interactive tables.';\n",
              "          element.innerHTML = '';\n",
              "          dataTable['output_type'] = 'display_data';\n",
              "          await google.colab.output.renderOutput(dataTable, element);\n",
              "          const docLink = document.createElement('div');\n",
              "          docLink.innerHTML = docLinkHtml;\n",
              "          element.appendChild(docLink);\n",
              "        }\n",
              "      </script>\n",
              "    </div>\n",
              "  </div>\n",
              "  "
            ]
          },
          "metadata": {},
          "execution_count": 26
        }
      ]
    },
    {
      "cell_type": "code",
      "source": [
        "df_irwin['DIAS_EMBARQUE'].mean()"
      ],
      "metadata": {
        "id": "K4hMQXQcrhaR",
        "colab": {
          "base_uri": "https://localhost:8080/"
        },
        "outputId": "22295ad3-d278-4d50-8615-bf2220712b38"
      },
      "execution_count": null,
      "outputs": [
        {
          "output_type": "execute_result",
          "data": {
            "text/plain": [
              "10.689826302729529"
            ]
          },
          "metadata": {},
          "execution_count": 49
        }
      ]
    },
    {
      "cell_type": "code",
      "source": [
        "df_irwin['DIAS_EMBARQUE'].std()"
      ],
      "metadata": {
        "colab": {
          "base_uri": "https://localhost:8080/"
        },
        "id": "OZKzW9GqyZUb",
        "outputId": "5290db5f-8186-476e-8a44-5a4b695b34fe"
      },
      "execution_count": null,
      "outputs": [
        {
          "output_type": "execute_result",
          "data": {
            "text/plain": [
              "15.53468542862899"
            ]
          },
          "metadata": {},
          "execution_count": 50
        }
      ]
    },
    {
      "cell_type": "code",
      "source": [
        "df_irwin['DIAS_EMBARQUE'].sample(n=20, replace=False)"
      ],
      "metadata": {
        "colab": {
          "base_uri": "https://localhost:8080/"
        },
        "id": "WxUPvP0xyb-5",
        "outputId": "731dc992-5c6d-4449-d724-62ab75c9055e"
      },
      "execution_count": null,
      "outputs": [
        {
          "output_type": "execute_result",
          "data": {
            "text/plain": [
              "368      4\n",
              "3344     1\n",
              "3541     2\n",
              "3573     1\n",
              "3456     3\n",
              "1892    15\n",
              "1107    11\n",
              "342      3\n",
              "410      2\n",
              "2760     6\n",
              "559     18\n",
              "1887    15\n",
              "1982    29\n",
              "2726     0\n",
              "2836    91\n",
              "386      4\n",
              "1190     4\n",
              "3845     4\n",
              "2002    29\n",
              "3963     4\n",
              "Name: DIAS_EMBARQUE, dtype: int64"
            ]
          },
          "metadata": {},
          "execution_count": 51
        }
      ]
    },
    {
      "cell_type": "code",
      "source": [
        "dias_embarque_irwin = df_irwin['DIAS_EMBARQUE']"
      ],
      "metadata": {
        "id": "tiJWETCRzV-v"
      },
      "execution_count": null,
      "outputs": []
    },
    {
      "cell_type": "code",
      "source": [
        "means = []\n",
        "for i in range(100_000):\n",
        "  sample = dias_embarque_irwin.sample(n=10, replace=True)\n",
        "  means.append(sample.mean())"
      ],
      "metadata": {
        "id": "86n3rBmuykLH"
      },
      "execution_count": null,
      "outputs": []
    },
    {
      "cell_type": "code",
      "source": [
        "serie_irwin = pd.Series(means)"
      ],
      "metadata": {
        "id": "Q5Ug-XQi0IPJ"
      },
      "execution_count": null,
      "outputs": []
    },
    {
      "cell_type": "code",
      "source": [
        "sns.histplot(data=serie_irwin);"
      ],
      "metadata": {
        "colab": {
          "base_uri": "https://localhost:8080/",
          "height": 268
        },
        "id": "SNffvfsF0Pa-",
        "outputId": "802603db-4f20-4e33-e575-bf2498e1859d"
      },
      "execution_count": null,
      "outputs": [
        {
          "output_type": "display_data",
          "data": {
            "text/plain": [
              "<Figure size 432x288 with 1 Axes>"
            ],
            "image/png": "[encoded data removed]"
          },
          "metadata": {}
        }
      ]
    },
    {
      "cell_type": "markdown",
      "source": [
        "Teorema del limite central"
      ],
      "metadata": {
        "id": "lawxGHvZ0XY9"
      }
    },
    {
      "cell_type": "code",
      "source": [
        "serie_irwin.skew()"
      ],
      "metadata": {
        "colab": {
          "base_uri": "https://localhost:8080/"
        },
        "id": "b-Y_ucJq0ZpZ",
        "outputId": "c81f7f07-99e8-49b6-c585-5859513edcab"
      },
      "execution_count": null,
      "outputs": [
        {
          "output_type": "execute_result",
          "data": {
            "text/plain": [
              "0.9957993083132173"
            ]
          },
          "metadata": {},
          "execution_count": 31
        }
      ]
    },
    {
      "cell_type": "code",
      "source": [
        "serie_irwin.kurtosis()"
      ],
      "metadata": {
        "colab": {
          "base_uri": "https://localhost:8080/"
        },
        "id": "A1uh5EFw0irt",
        "outputId": "2b241bb0-537f-4158-bb95-2f201861248f"
      },
      "execution_count": null,
      "outputs": [
        {
          "output_type": "execute_result",
          "data": {
            "text/plain": [
              "1.1938011570936538"
            ]
          },
          "metadata": {},
          "execution_count": 32
        }
      ]
    },
    {
      "cell_type": "markdown",
      "source": [
        "Error estándar"
      ],
      "metadata": {
        "id": "5VL57HlQ0uod"
      }
    },
    {
      "cell_type": "code",
      "source": [
        "serie_irwin.std()"
      ],
      "metadata": {
        "colab": {
          "base_uri": "https://localhost:8080/"
        },
        "id": "L83k3nro0tgJ",
        "outputId": "62f2f629-10fa-408d-fba3-32e1aad6fb7c"
      },
      "execution_count": null,
      "outputs": [
        {
          "output_type": "execute_result",
          "data": {
            "text/plain": [
              "4.931876669022563"
            ]
          },
          "metadata": {},
          "execution_count": 33
        }
      ]
    },
    {
      "cell_type": "code",
      "source": [
        "serie_irwin.min()"
      ],
      "metadata": {
        "colab": {
          "base_uri": "https://localhost:8080/"
        },
        "id": "5Pu21EFd03s_",
        "outputId": "3b4a5af1-c73c-4f8b-8d68-01226dbd37f3"
      },
      "execution_count": null,
      "outputs": [
        {
          "output_type": "execute_result",
          "data": {
            "text/plain": [
              "1.1"
            ]
          },
          "metadata": {},
          "execution_count": 34
        }
      ]
    },
    {
      "cell_type": "code",
      "source": [
        "serie_irwin.max()"
      ],
      "metadata": {
        "colab": {
          "base_uri": "https://localhost:8080/"
        },
        "id": "W6rq1I-X09XI",
        "outputId": "70ecab68-2908-49c2-a69b-31525b2a8a64"
      },
      "execution_count": null,
      "outputs": [
        {
          "output_type": "execute_result",
          "data": {
            "text/plain": [
              "46.0"
            ]
          },
          "metadata": {},
          "execution_count": 35
        }
      ]
    },
    {
      "cell_type": "code",
      "source": [
        "serie_irwin.max() - serie_irwin.min()"
      ],
      "metadata": {
        "colab": {
          "base_uri": "https://localhost:8080/"
        },
        "id": "xs_qpLdi1ENa",
        "outputId": "d7f108c9-793a-44d9-a59e-f11c1f1249ed"
      },
      "execution_count": null,
      "outputs": [
        {
          "output_type": "execute_result",
          "data": {
            "text/plain": [
              "44.9"
            ]
          },
          "metadata": {},
          "execution_count": 36
        }
      ]
    },
    {
      "cell_type": "code",
      "source": [
        "sns.histplot(data=serie_irwin);"
      ],
      "metadata": {
        "colab": {
          "base_uri": "https://localhost:8080/",
          "height": 268
        },
        "id": "_zE1FE791cuS",
        "outputId": "98104258-33a6-4e1e-c416-ec36536b0191"
      },
      "execution_count": null,
      "outputs": [
        {
          "output_type": "display_data",
          "data": {
            "text/plain": [
              "<Figure size 432x288 with 1 Axes>"
            ],
            "image/png": "[encoded data removed]"
          },
          "metadata": {}
        }
      ]
    },
    {
      "cell_type": "markdown",
      "source": [
        "Intervalos de confianza"
      ],
      "metadata": {
        "id": "MpNOHfzV1qA7"
      }
    },
    {
      "cell_type": "code",
      "source": [
        "limite_inferior = serie_irwin.quantile(0.025)\n",
        "limite_superior = serie_irwin.quantile(0.975)"
      ],
      "metadata": {
        "id": "at8z5rB_1tKQ"
      },
      "execution_count": null,
      "outputs": []
    },
    {
      "cell_type": "code",
      "source": [
        "f\"Intervalo de 95% de confianza de: {limite_inferior} < {dias_embarque_irwin.mean()} < {limite_superior}\""
      ],
      "metadata": {
        "colab": {
          "base_uri": "https://localhost:8080/",
          "height": 35
        },
        "id": "OKlK1woN11Ln",
        "outputId": "028d5aed-87ea-47e5-82cb-202fb4fe182c"
      },
      "execution_count": null,
      "outputs": [
        {
          "output_type": "execute_result",
          "data": {
            "text/plain": [
              "'Intervalo de 95% de confianza de: 3.8 < 10.689826302729529 < 22.5'"
            ],
            "application/vnd.google.colaboratory.intrinsic+json": {
              "type": "string"
            }
          },
          "metadata": {},
          "execution_count": 39
        }
      ]
    },
    {
      "cell_type": "code",
      "source": [
        "promedio_de_intervalos = ((dias_embarque_irwin.mean() - limite_inferior) + (limite_superior - dias_embarque_irwin.mean())) / 2\n",
        "f\"Intervalo de 95% de confianza de: {dias_embarque_irwin.mean():.2f} +/- {promedio_de_intervalos:.2f}\""
      ],
      "metadata": {
        "colab": {
          "base_uri": "https://localhost:8080/",
          "height": 35
        },
        "id": "hKGWMMvD2Mcf",
        "outputId": "767dc139-bacb-4962-c66d-4782678d09f6"
      },
      "execution_count": null,
      "outputs": [
        {
          "output_type": "execute_result",
          "data": {
            "text/plain": [
              "'Intervalo de 95% de confianza de: 10.69 +/- 9.35'"
            ],
            "application/vnd.google.colaboratory.intrinsic+json": {
              "type": "string"
            }
          },
          "metadata": {},
          "execution_count": 40
        }
      ]
    },
    {
      "cell_type": "code",
      "source": [
        "sns.histplot(data=serie_irwin);\n",
        "plt.axvline(limite_inferior)\n",
        "plt.axvline(limite_superior);"
      ],
      "metadata": {
        "colab": {
          "base_uri": "https://localhost:8080/",
          "height": 268
        },
        "id": "f9qZiEe92eUI",
        "outputId": "8dd8211d-735a-45f5-865b-2b6ad7bee748"
      },
      "execution_count": null,
      "outputs": [
        {
          "output_type": "display_data",
          "data": {
            "text/plain": [
              "<Figure size 432x288 with 1 Axes>"
            ],
            "image/png": "[encoded data removed]"
          },
          "metadata": {}
        }
      ]
    },
    {
      "cell_type": "markdown",
      "source": [
        "## Gráficas"
      ],
      "metadata": {
        "id": "Z27djmkG3Jxt"
      }
    },
    {
      "cell_type": "markdown",
      "source": [
        "Histograma"
      ],
      "metadata": {
        "id": "ITjJ9r2r3pqE"
      }
    },
    {
      "cell_type": "code",
      "source": [
        "import pandas as pd\n",
        "import seaborn as sns\n",
        "import matplotlib.pyplot as plt"
      ],
      "metadata": {
        "id": "L-J4M8NS22AC"
      },
      "execution_count": null,
      "outputs": []
    },
    {
      "cell_type": "code",
      "source": [
        "sns.set_style(\"whitegrid\")\n",
        "\n",
        "sns.histplot(df_irwin['DIAS_EMBARQUE'], bins=50);"
      ],
      "metadata": {
        "colab": {
          "base_uri": "https://localhost:8080/",
          "height": 285
        },
        "id": "8VsdrdHw3ONb",
        "outputId": "a1f30c9a-78f4-4620-fd53-c54498dda7a5"
      },
      "execution_count": null,
      "outputs": [
        {
          "output_type": "display_data",
          "data": {
            "text/plain": [
              "<Figure size 432x288 with 1 Axes>"
            ],
            "image/png": "[encoded data removed]"
          },
          "metadata": {}
        }
      ]
    },
    {
      "cell_type": "markdown",
      "source": [
        "Treemaps"
      ],
      "metadata": {
        "id": "UHhvPzZ83tdk"
      }
    },
    {
      "cell_type": "code",
      "source": [
        "from IPython.display import Image"
      ],
      "metadata": {
        "id": "HvuiwWZQ3u2g"
      },
      "execution_count": null,
      "outputs": []
    },
    {
      "cell_type": "code",
      "source": [
        "import plotly.express as px"
      ],
      "metadata": {
        "id": "jEPd9vlr33l9"
      },
      "execution_count": null,
      "outputs": []
    },
    {
      "cell_type": "code",
      "source": [
        "df_irwin.head(3)"
      ],
      "metadata": {
        "colab": {
          "base_uri": "https://localhost:8080/",
          "height": 341
        },
        "id": "pofyeNq9348G",
        "outputId": "c6031438-c2b9-4ba9-ce59-30c4c1f2460e"
      },
      "execution_count": null,
      "outputs": [
        {
          "output_type": "execute_result",
          "data": {
            "text/plain": [
              "    GUIA FECHA_DE_PEDIDO FECHA_DE_EMBARQUE  DIAS_EMBARQUE  A_TIEMPO  \\\n",
              "37  2529      2006-01-04        2006-01-06              2         1   \n",
              "38  2529      2006-01-04        2006-01-06              2         1   \n",
              "39  2529      2006-01-04        2006-01-06              2         1   \n",
              "\n",
              "    ID_PEDIDO  FACTURA  IMPORTE_FACTURA          CLIENTE       COSIGNADO  ...  \\\n",
              "37      65954   409622            17615  NUEVA WAL MART   CRUCE DE ANDEN  ...   \n",
              "38      65947   409621            21942  NUEVA WAL MART   CRUCE DE ANDEN  ...   \n",
              "39      65950   409614            19262  NUEVA WAL MART   CRUCE DE ANDEN  ...   \n",
              "\n",
              "    COSTO_TOTAL_FLETE  TIPO_FLETE NEGOCIO   LINEA_TRANSPORTE      STATUS  \\\n",
              "37                0.0       LOCAL   IRWIN  TRANSPORTES TIGRE  ENTREGADO    \n",
              "38                0.0       LOCAL   IRWIN  TRANSPORTES TIGRE  ENTREGADO    \n",
              "39                0.0       LOCAL   IRWIN  TRANSPORTES TIGRE  ENTREGADO    \n",
              "\n",
              "          MES  UBICACION      CIUDAD         ESTADO   RUTA  \n",
              "37 2006-01-01     Centro  CUAUTITLAN  EDO DE MEXICO  Local  \n",
              "38 2006-01-01     Centro  CUAUTITLAN  EDO DE MEXICO  Local  \n",
              "39 2006-01-01     Centro  CUAUTITLAN  EDO DE MEXICO  Local  \n",
              "\n",
              "[3 rows x 27 columns]"
            ],
            "text/html": [
              "\n",
              "  <div id=\"df-3e74a7d6-fd54-4520-ab5b-5df2db90670d\">\n",
              "    <div class=\"colab-df-container\">\n",
              "      <div>\n",
              "<style scoped>\n",
              "    .dataframe tbody tr th:only-of-type {\n",
              "        vertical-align: middle;\n",
              "    }\n",
              "\n",
              "    .dataframe tbody tr th {\n",
              "        vertical-align: top;\n",
              "    }\n",
              "\n",
              "    .dataframe thead th {\n",
              "        text-align: right;\n",
              "    }\n",
              "</style>\n",
              "<table border=\"1\" class=\"dataframe\">\n",
              "  <thead>\n",
              "    <tr style=\"text-align: right;\">\n",
              "      <th></th>\n",
              "      <th>GUIA</th>\n",
              "      <th>FECHA_DE_PEDIDO</th>\n",
              "      <th>FECHA_DE_EMBARQUE</th>\n",
              "      <th>DIAS_EMBARQUE</th>\n",
              "      <th>A_TIEMPO</th>\n",
              "      <th>ID_PEDIDO</th>\n",
              "      <th>FACTURA</th>\n",
              "      <th>IMPORTE_FACTURA</th>\n",
              "      <th>CLIENTE</th>\n",
              "      <th>COSIGNADO</th>\n",
              "      <th>...</th>\n",
              "      <th>COSTO_TOTAL_FLETE</th>\n",
              "      <th>TIPO_FLETE</th>\n",
              "      <th>NEGOCIO</th>\n",
              "      <th>LINEA_TRANSPORTE</th>\n",
              "      <th>STATUS</th>\n",
              "      <th>MES</th>\n",
              "      <th>UBICACION</th>\n",
              "      <th>CIUDAD</th>\n",
              "      <th>ESTADO</th>\n",
              "      <th>RUTA</th>\n",
              "    </tr>\n",
              "  </thead>\n",
              "  <tbody>\n",
              "    <tr>\n",
              "      <th>37</th>\n",
              "      <td>2529</td>\n",
              "      <td>2006-01-04</td>\n",
              "      <td>2006-01-06</td>\n",
              "      <td>2</td>\n",
              "      <td>1</td>\n",
              "      <td>65954</td>\n",
              "      <td>409622</td>\n",
              "      <td>17615</td>\n",
              "      <td>NUEVA WAL MART</td>\n",
              "      <td>CRUCE DE ANDEN</td>\n",
              "      <td>...</td>\n",
              "      <td>0.0</td>\n",
              "      <td>LOCAL</td>\n",
              "      <td>IRWIN</td>\n",
              "      <td>TRANSPORTES TIGRE</td>\n",
              "      <td>ENTREGADO</td>\n",
              "      <td>2006-01-01</td>\n",
              "      <td>Centro</td>\n",
              "      <td>CUAUTITLAN</td>\n",
              "      <td>EDO DE MEXICO</td>\n",
              "      <td>Local</td>\n",
              "    </tr>\n",
              "    <tr>\n",
              "      <th>38</th>\n",
              "      <td>2529</td>\n",
              "      <td>2006-01-04</td>\n",
              "      <td>2006-01-06</td>\n",
              "      <td>2</td>\n",
              "      <td>1</td>\n",
              "      <td>65947</td>\n",
              "      <td>409621</td>\n",
              "      <td>21942</td>\n",
              "      <td>NUEVA WAL MART</td>\n",
              "      <td>CRUCE DE ANDEN</td>\n",
              "      <td>...</td>\n",
              "      <td>0.0</td>\n",
              "      <td>LOCAL</td>\n",
              "      <td>IRWIN</td>\n",
              "      <td>TRANSPORTES TIGRE</td>\n",
              "      <td>ENTREGADO</td>\n",
              "      <td>2006-01-01</td>\n",
              "      <td>Centro</td>\n",
              "      <td>CUAUTITLAN</td>\n",
              "      <td>EDO DE MEXICO</td>\n",
              "      <td>Local</td>\n",
              "    </tr>\n",
              "    <tr>\n",
              "      <th>39</th>\n",
              "      <td>2529</td>\n",
              "      <td>2006-01-04</td>\n",
              "      <td>2006-01-06</td>\n",
              "      <td>2</td>\n",
              "      <td>1</td>\n",
              "      <td>65950</td>\n",
              "      <td>409614</td>\n",
              "      <td>19262</td>\n",
              "      <td>NUEVA WAL MART</td>\n",
              "      <td>CRUCE DE ANDEN</td>\n",
              "      <td>...</td>\n",
              "      <td>0.0</td>\n",
              "      <td>LOCAL</td>\n",
              "      <td>IRWIN</td>\n",
              "      <td>TRANSPORTES TIGRE</td>\n",
              "      <td>ENTREGADO</td>\n",
              "      <td>2006-01-01</td>\n",
              "      <td>Centro</td>\n",
              "      <td>CUAUTITLAN</td>\n",
              "      <td>EDO DE MEXICO</td>\n",
              "      <td>Local</td>\n",
              "    </tr>\n",
              "  </tbody>\n",
              "</table>\n",
              "<p>3 rows × 27 columns</p>\n",
              "</div>\n",
              "      <button class=\"colab-df-convert\" onclick=\"convertToInteractive('df-3e74a7d6-fd54-4520-ab5b-5df2db90670d')\"\n",
              "              title=\"Convert this dataframe to an interactive table.\"\n",
              "              style=\"display:none;\">\n",
              "        \n",
              "  <svg xmlns=\"http://www.w3.org/2000/svg\" height=\"24px\"viewBox=\"0 0 24 24\"\n",
              "       width=\"24px\">\n",
              "    <path d=\"M0 0h24v24H0V0z\" fill=\"none\"/>\n",
              "    <path d=\"M18.56 5.44l.94 2.06.94-2.06 2.06-.94-2.06-.94-.94-2.06-.94 2.06-2.06.94zm-11 1L8.5 8.5l.94-2.06 2.06-.94-2.06-.94L8.5 2.5l-.94 2.06-2.06.94zm10 10l.94 2.06.94-2.06 2.06-.94-2.06-.94-.94-2.06-.94 2.06-2.06.94z\"/><path d=\"M17.41 7.96l-1.37-1.37c-.4-.4-.92-.59-1.43-.59-.52 0-1.04.2-1.43.59L10.3 9.45l-7.72 7.72c-.78.78-.78 2.05 0 2.83L4 21.41c.39.39.9.59 1.41.59.51 0 1.02-.2 1.41-.59l7.78-7.78 2.81-2.81c.8-.78.8-2.07 0-2.86zM5.41 20L4 18.59l7.72-7.72 1.47 1.35L5.41 20z\"/>\n",
              "  </svg>\n",
              "      </button>\n",
              "      \n",
              "  <style>\n",
              "    .colab-df-container {\n",
              "      display:flex;\n",
              "      flex-wrap:wrap;\n",
              "      gap: 12px;\n",
              "    }\n",
              "\n",
              "    .colab-df-convert {\n",
              "      background-color: #E8F0FE;\n",
              "      border: none;\n",
              "      border-radius: 50%;\n",
              "      cursor: pointer;\n",
              "      display: none;\n",
              "      fill: #1967D2;\n",
              "      height: 32px;\n",
              "      padding: 0 0 0 0;\n",
              "      width: 32px;\n",
              "    }\n",
              "\n",
              "    .colab-df-convert:hover {\n",
              "      background-color: #E2EBFA;\n",
              "      box-shadow: 0px 1px 2px rgba(60, 64, 67, 0.3), 0px 1px 3px 1px rgba(60, 64, 67, 0.15);\n",
              "      fill: #174EA6;\n",
              "    }\n",
              "\n",
              "    [theme=dark] .colab-df-convert {\n",
              "      background-color: #3B4455;\n",
              "      fill: #D2E3FC;\n",
              "    }\n",
              "\n",
              "    [theme=dark] .colab-df-convert:hover {\n",
              "      background-color: #434B5C;\n",
              "      box-shadow: 0px 1px 3px 1px rgba(0, 0, 0, 0.15);\n",
              "      filter: drop-shadow(0px 1px 2px rgba(0, 0, 0, 0.3));\n",
              "      fill: #FFFFFF;\n",
              "    }\n",
              "  </style>\n",
              "\n",
              "      <script>\n",
              "        const buttonEl =\n",
              "          document.querySelector('#df-3e74a7d6-fd54-4520-ab5b-5df2db90670d button.colab-df-convert');\n",
              "        buttonEl.style.display =\n",
              "          google.colab.kernel.accessAllowed ? 'block' : 'none';\n",
              "\n",
              "        async function convertToInteractive(key) {\n",
              "          const element = document.querySelector('#df-3e74a7d6-fd54-4520-ab5b-5df2db90670d');\n",
              "          const dataTable =\n",
              "            await google.colab.kernel.invokeFunction('convertToInteractive',\n",
              "                                                     [key], {});\n",
              "          if (!dataTable) return;\n",
              "\n",
              "          const docLinkHtml = 'Like what you see? Visit the ' +\n",
              "            '<a target=\"_blank\" href=https://colab.research.google.com/notebooks/data_table.ipynb>data table notebook</a>'\n",
              "            + ' to learn more about interactive tables.';\n",
              "          element.innerHTML = '';\n",
              "          dataTable['output_type'] = 'display_data';\n",
              "          await google.colab.output.renderOutput(dataTable, element);\n",
              "          const docLink = document.createElement('div');\n",
              "          docLink.innerHTML = docLinkHtml;\n",
              "          element.appendChild(docLink);\n",
              "        }\n",
              "      </script>\n",
              "    </div>\n",
              "  </div>\n",
              "  "
            ]
          },
          "metadata": {},
          "execution_count": 46
        }
      ]
    },
    {
      "cell_type": "code",
      "source": [
        "df_grouped = df_irwin.groupby(\"CLIENTE\")[['ESTADO', 'CIUDAD','LINEA_TRANSPORTE','UBICACION']].max()"
      ],
      "metadata": {
        "id": "t9753MtE4Oi0"
      },
      "execution_count": null,
      "outputs": []
    },
    {
      "cell_type": "code",
      "source": [
        "df_grouped.head()"
      ],
      "metadata": {
        "colab": {
          "base_uri": "https://localhost:8080/",
          "height": 238
        },
        "id": "MEV4dnuF4OZJ",
        "outputId": "b0246d1a-94ea-4f36-a7ae-ac90f3d8ffee"
      },
      "execution_count": null,
      "outputs": [
        {
          "output_type": "execute_result",
          "data": {
            "text/plain": [
              "                                   ESTADO      CIUDAD      LINEA_TRANSPORTE  \\\n",
              "CLIENTE                                                                       \n",
              "ABASTECEDORA DE SOLDADURAS     NUEVO LEON  MONTERREY   TRANSPORTES VALENCIA   \n",
              "ACEROS TUCAN                EDO DE MEXICO  LOS  REYES     TRANSPORTES MARSA   \n",
              "ACEROS Y REFACC Y HTAS           COAHUILA    TORREON      TRANSPORTES ORTIZ   \n",
              "ALBERTO MOLINA                    CHIAPAS  TUXTLA GTZ    TRANSPORTES CORTES   \n",
              "ALBERTO ROMERO VALADEZ          CD MEXICO     MEXICO     TRANSPORTES ZEPEDA   \n",
              "\n",
              "                           UBICACION  \n",
              "CLIENTE                               \n",
              "ABASTECEDORA DE SOLDADURAS     Norte  \n",
              "ACEROS TUCAN                  Centro  \n",
              "ACEROS Y REFACC Y HTAS         Norte  \n",
              "ALBERTO MOLINA                   Sur  \n",
              "ALBERTO ROMERO VALADEZ        Centro  "
            ],
            "text/html": [
              "\n",
              "  <div id=\"df-598bc495-8cd6-4ed5-b1f6-4947853682f7\">\n",
              "    <div class=\"colab-df-container\">\n",
              "      <div>\n",
              "<style scoped>\n",
              "    .dataframe tbody tr th:only-of-type {\n",
              "        vertical-align: middle;\n",
              "    }\n",
              "\n",
              "    .dataframe tbody tr th {\n",
              "        vertical-align: top;\n",
              "    }\n",
              "\n",
              "    .dataframe thead th {\n",
              "        text-align: right;\n",
              "    }\n",
              "</style>\n",
              "<table border=\"1\" class=\"dataframe\">\n",
              "  <thead>\n",
              "    <tr style=\"text-align: right;\">\n",
              "      <th></th>\n",
              "      <th>ESTADO</th>\n",
              "      <th>CIUDAD</th>\n",
              "      <th>LINEA_TRANSPORTE</th>\n",
              "      <th>UBICACION</th>\n",
              "    </tr>\n",
              "    <tr>\n",
              "      <th>CLIENTE</th>\n",
              "      <th></th>\n",
              "      <th></th>\n",
              "      <th></th>\n",
              "      <th></th>\n",
              "    </tr>\n",
              "  </thead>\n",
              "  <tbody>\n",
              "    <tr>\n",
              "      <th>ABASTECEDORA DE SOLDADURAS</th>\n",
              "      <td>NUEVO LEON</td>\n",
              "      <td>MONTERREY</td>\n",
              "      <td>TRANSPORTES VALENCIA</td>\n",
              "      <td>Norte</td>\n",
              "    </tr>\n",
              "    <tr>\n",
              "      <th>ACEROS TUCAN</th>\n",
              "      <td>EDO DE MEXICO</td>\n",
              "      <td>LOS  REYES</td>\n",
              "      <td>TRANSPORTES MARSA</td>\n",
              "      <td>Centro</td>\n",
              "    </tr>\n",
              "    <tr>\n",
              "      <th>ACEROS Y REFACC Y HTAS</th>\n",
              "      <td>COAHUILA</td>\n",
              "      <td>TORREON</td>\n",
              "      <td>TRANSPORTES ORTIZ</td>\n",
              "      <td>Norte</td>\n",
              "    </tr>\n",
              "    <tr>\n",
              "      <th>ALBERTO MOLINA</th>\n",
              "      <td>CHIAPAS</td>\n",
              "      <td>TUXTLA GTZ</td>\n",
              "      <td>TRANSPORTES CORTES</td>\n",
              "      <td>Sur</td>\n",
              "    </tr>\n",
              "    <tr>\n",
              "      <th>ALBERTO ROMERO VALADEZ</th>\n",
              "      <td>CD MEXICO</td>\n",
              "      <td>MEXICO</td>\n",
              "      <td>TRANSPORTES ZEPEDA</td>\n",
              "      <td>Centro</td>\n",
              "    </tr>\n",
              "  </tbody>\n",
              "</table>\n",
              "</div>\n",
              "      <button class=\"colab-df-convert\" onclick=\"convertToInteractive('df-598bc495-8cd6-4ed5-b1f6-4947853682f7')\"\n",
              "              title=\"Convert this dataframe to an interactive table.\"\n",
              "              style=\"display:none;\">\n",
              "        \n",
              "  <svg xmlns=\"http://www.w3.org/2000/svg\" height=\"24px\"viewBox=\"0 0 24 24\"\n",
              "       width=\"24px\">\n",
              "    <path d=\"M0 0h24v24H0V0z\" fill=\"none\"/>\n",
              "    <path d=\"M18.56 5.44l.94 2.06.94-2.06 2.06-.94-2.06-.94-.94-2.06-.94 2.06-2.06.94zm-11 1L8.5 8.5l.94-2.06 2.06-.94-2.06-.94L8.5 2.5l-.94 2.06-2.06.94zm10 10l.94 2.06.94-2.06 2.06-.94-2.06-.94-.94-2.06-.94 2.06-2.06.94z\"/><path d=\"M17.41 7.96l-1.37-1.37c-.4-.4-.92-.59-1.43-.59-.52 0-1.04.2-1.43.59L10.3 9.45l-7.72 7.72c-.78.78-.78 2.05 0 2.83L4 21.41c.39.39.9.59 1.41.59.51 0 1.02-.2 1.41-.59l7.78-7.78 2.81-2.81c.8-.78.8-2.07 0-2.86zM5.41 20L4 18.59l7.72-7.72 1.47 1.35L5.41 20z\"/>\n",
              "  </svg>\n",
              "      </button>\n",
              "      \n",
              "  <style>\n",
              "    .colab-df-container {\n",
              "      display:flex;\n",
              "      flex-wrap:wrap;\n",
              "      gap: 12px;\n",
              "    }\n",
              "\n",
              "    .colab-df-convert {\n",
              "      background-color: #E8F0FE;\n",
              "      border: none;\n",
              "      border-radius: 50%;\n",
              "      cursor: pointer;\n",
              "      display: none;\n",
              "      fill: #1967D2;\n",
              "      height: 32px;\n",
              "      padding: 0 0 0 0;\n",
              "      width: 32px;\n",
              "    }\n",
              "\n",
              "    .colab-df-convert:hover {\n",
              "      background-color: #E2EBFA;\n",
              "      box-shadow: 0px 1px 2px rgba(60, 64, 67, 0.3), 0px 1px 3px 1px rgba(60, 64, 67, 0.15);\n",
              "      fill: #174EA6;\n",
              "    }\n",
              "\n",
              "    [theme=dark] .colab-df-convert {\n",
              "      background-color: #3B4455;\n",
              "      fill: #D2E3FC;\n",
              "    }\n",
              "\n",
              "    [theme=dark] .colab-df-convert:hover {\n",
              "      background-color: #434B5C;\n",
              "      box-shadow: 0px 1px 3px 1px rgba(0, 0, 0, 0.15);\n",
              "      filter: drop-shadow(0px 1px 2px rgba(0, 0, 0, 0.3));\n",
              "      fill: #FFFFFF;\n",
              "    }\n",
              "  </style>\n",
              "\n",
              "      <script>\n",
              "        const buttonEl =\n",
              "          document.querySelector('#df-598bc495-8cd6-4ed5-b1f6-4947853682f7 button.colab-df-convert');\n",
              "        buttonEl.style.display =\n",
              "          google.colab.kernel.accessAllowed ? 'block' : 'none';\n",
              "\n",
              "        async function convertToInteractive(key) {\n",
              "          const element = document.querySelector('#df-598bc495-8cd6-4ed5-b1f6-4947853682f7');\n",
              "          const dataTable =\n",
              "            await google.colab.kernel.invokeFunction('convertToInteractive',\n",
              "                                                     [key], {});\n",
              "          if (!dataTable) return;\n",
              "\n",
              "          const docLinkHtml = 'Like what you see? Visit the ' +\n",
              "            '<a target=\"_blank\" href=https://colab.research.google.com/notebooks/data_table.ipynb>data table notebook</a>'\n",
              "            + ' to learn more about interactive tables.';\n",
              "          element.innerHTML = '';\n",
              "          dataTable['output_type'] = 'display_data';\n",
              "          await google.colab.output.renderOutput(dataTable, element);\n",
              "          const docLink = document.createElement('div');\n",
              "          docLink.innerHTML = docLinkHtml;\n",
              "          element.appendChild(docLink);\n",
              "        }\n",
              "      </script>\n",
              "    </div>\n",
              "  </div>\n",
              "  "
            ]
          },
          "metadata": {},
          "execution_count": 49
        }
      ]
    },
    {
      "cell_type": "code",
      "source": [
        "df_grouped['count'] = 1"
      ],
      "metadata": {
        "id": "Wikv4FAX4OIT"
      },
      "execution_count": null,
      "outputs": []
    },
    {
      "cell_type": "code",
      "source": [
        "df_grouped"
      ],
      "metadata": {
        "colab": {
          "base_uri": "https://localhost:8080/",
          "height": 455
        },
        "id": "gccltCinZtgy",
        "outputId": "32b6ec9f-0640-4982-b797-f006a6ee28a2"
      },
      "execution_count": null,
      "outputs": [
        {
          "output_type": "execute_result",
          "data": {
            "text/plain": [
              "                                   ESTADO         CIUDAD  \\\n",
              "CLIENTE                                                    \n",
              "ABASTECEDORA DE SOLDADURAS     NUEVO LEON     MONTERREY    \n",
              "ACEROS TUCAN                EDO DE MEXICO     LOS  REYES   \n",
              "ACEROS Y REFACC Y HTAS           COAHUILA       TORREON    \n",
              "ALBERTO MOLINA                    CHIAPAS     TUXTLA GTZ   \n",
              "ALBERTO ROMERO VALADEZ          CD MEXICO        MEXICO    \n",
              "...                                   ...            ...   \n",
              "TORNILLOS Y TUERCAS             CHIHUAHUA      CHIHUAHUA   \n",
              "TRAVERS  TOOL                  QUERETARO      QUERETARO    \n",
              "VAZQUEZ MENDOZA               GUANAJUATO         MEXICO    \n",
              "VICTOR SANCHEZ                  CHIHUAHUA  CD. DELICIAS    \n",
              "VILCHES FERRETEROS            GUANAJUATO           LEON    \n",
              "\n",
              "                                LINEA_TRANSPORTE UBICACION  count  \n",
              "CLIENTE                                                            \n",
              "ABASTECEDORA DE SOLDADURAS  TRANSPORTES VALENCIA     Norte      1  \n",
              "ACEROS TUCAN                   TRANSPORTES MARSA    Centro      1  \n",
              "ACEROS Y REFACC Y HTAS         TRANSPORTES ORTIZ     Norte      1  \n",
              "ALBERTO MOLINA                TRANSPORTES CORTES       Sur      1  \n",
              "ALBERTO ROMERO VALADEZ        TRANSPORTES ZEPEDA    Centro      1  \n",
              "...                                          ...       ...    ...  \n",
              "TORNILLOS Y TUERCAS            TRANSPORTES MARSA     Norte      1  \n",
              "TRAVERS  TOOL                 TRANSPORTES ZEPEDA    Centro      1  \n",
              "VAZQUEZ MENDOZA               TRANSPORTES ZEPEDA    Centro      1  \n",
              "VICTOR SANCHEZ                 TRANSPORTES ORTIZ     Norte      1  \n",
              "VILCHES FERRETEROS            TRANSPORTES ZEPEDA    Centro      1  \n",
              "\n",
              "[167 rows x 5 columns]"
            ],
            "text/html": [
              "\n",
              "  <div id=\"df-415bbe5d-cf48-4656-8e95-6bd24f535f1f\">\n",
              "    <div class=\"colab-df-container\">\n",
              "      <div>\n",
              "<style scoped>\n",
              "    .dataframe tbody tr th:only-of-type {\n",
              "        vertical-align: middle;\n",
              "    }\n",
              "\n",
              "    .dataframe tbody tr th {\n",
              "        vertical-align: top;\n",
              "    }\n",
              "\n",
              "    .dataframe thead th {\n",
              "        text-align: right;\n",
              "    }\n",
              "</style>\n",
              "<table border=\"1\" class=\"dataframe\">\n",
              "  <thead>\n",
              "    <tr style=\"text-align: right;\">\n",
              "      <th></th>\n",
              "      <th>ESTADO</th>\n",
              "      <th>CIUDAD</th>\n",
              "      <th>LINEA_TRANSPORTE</th>\n",
              "      <th>UBICACION</th>\n",
              "      <th>count</th>\n",
              "    </tr>\n",
              "    <tr>\n",
              "      <th>CLIENTE</th>\n",
              "      <th></th>\n",
              "      <th></th>\n",
              "      <th></th>\n",
              "      <th></th>\n",
              "      <th></th>\n",
              "    </tr>\n",
              "  </thead>\n",
              "  <tbody>\n",
              "    <tr>\n",
              "      <th>ABASTECEDORA DE SOLDADURAS</th>\n",
              "      <td>NUEVO LEON</td>\n",
              "      <td>MONTERREY</td>\n",
              "      <td>TRANSPORTES VALENCIA</td>\n",
              "      <td>Norte</td>\n",
              "      <td>1</td>\n",
              "    </tr>\n",
              "    <tr>\n",
              "      <th>ACEROS TUCAN</th>\n",
              "      <td>EDO DE MEXICO</td>\n",
              "      <td>LOS  REYES</td>\n",
              "      <td>TRANSPORTES MARSA</td>\n",
              "      <td>Centro</td>\n",
              "      <td>1</td>\n",
              "    </tr>\n",
              "    <tr>\n",
              "      <th>ACEROS Y REFACC Y HTAS</th>\n",
              "      <td>COAHUILA</td>\n",
              "      <td>TORREON</td>\n",
              "      <td>TRANSPORTES ORTIZ</td>\n",
              "      <td>Norte</td>\n",
              "      <td>1</td>\n",
              "    </tr>\n",
              "    <tr>\n",
              "      <th>ALBERTO MOLINA</th>\n",
              "      <td>CHIAPAS</td>\n",
              "      <td>TUXTLA GTZ</td>\n",
              "      <td>TRANSPORTES CORTES</td>\n",
              "      <td>Sur</td>\n",
              "      <td>1</td>\n",
              "    </tr>\n",
              "    <tr>\n",
              "      <th>ALBERTO ROMERO VALADEZ</th>\n",
              "      <td>CD MEXICO</td>\n",
              "      <td>MEXICO</td>\n",
              "      <td>TRANSPORTES ZEPEDA</td>\n",
              "      <td>Centro</td>\n",
              "      <td>1</td>\n",
              "    </tr>\n",
              "    <tr>\n",
              "      <th>...</th>\n",
              "      <td>...</td>\n",
              "      <td>...</td>\n",
              "      <td>...</td>\n",
              "      <td>...</td>\n",
              "      <td>...</td>\n",
              "    </tr>\n",
              "    <tr>\n",
              "      <th>TORNILLOS Y TUERCAS</th>\n",
              "      <td>CHIHUAHUA</td>\n",
              "      <td>CHIHUAHUA</td>\n",
              "      <td>TRANSPORTES MARSA</td>\n",
              "      <td>Norte</td>\n",
              "      <td>1</td>\n",
              "    </tr>\n",
              "    <tr>\n",
              "      <th>TRAVERS  TOOL</th>\n",
              "      <td>QUERETARO</td>\n",
              "      <td>QUERETARO</td>\n",
              "      <td>TRANSPORTES ZEPEDA</td>\n",
              "      <td>Centro</td>\n",
              "      <td>1</td>\n",
              "    </tr>\n",
              "    <tr>\n",
              "      <th>VAZQUEZ MENDOZA</th>\n",
              "      <td>GUANAJUATO</td>\n",
              "      <td>MEXICO</td>\n",
              "      <td>TRANSPORTES ZEPEDA</td>\n",
              "      <td>Centro</td>\n",
              "      <td>1</td>\n",
              "    </tr>\n",
              "    <tr>\n",
              "      <th>VICTOR SANCHEZ</th>\n",
              "      <td>CHIHUAHUA</td>\n",
              "      <td>CD. DELICIAS</td>\n",
              "      <td>TRANSPORTES ORTIZ</td>\n",
              "      <td>Norte</td>\n",
              "      <td>1</td>\n",
              "    </tr>\n",
              "    <tr>\n",
              "      <th>VILCHES FERRETEROS</th>\n",
              "      <td>GUANAJUATO</td>\n",
              "      <td>LEON</td>\n",
              "      <td>TRANSPORTES ZEPEDA</td>\n",
              "      <td>Centro</td>\n",
              "      <td>1</td>\n",
              "    </tr>\n",
              "  </tbody>\n",
              "</table>\n",
              "<p>167 rows × 5 columns</p>\n",
              "</div>\n",
              "      <button class=\"colab-df-convert\" onclick=\"convertToInteractive('df-415bbe5d-cf48-4656-8e95-6bd24f535f1f')\"\n",
              "              title=\"Convert this dataframe to an interactive table.\"\n",
              "              style=\"display:none;\">\n",
              "        \n",
              "  <svg xmlns=\"http://www.w3.org/2000/svg\" height=\"24px\"viewBox=\"0 0 24 24\"\n",
              "       width=\"24px\">\n",
              "    <path d=\"M0 0h24v24H0V0z\" fill=\"none\"/>\n",
              "    <path d=\"M18.56 5.44l.94 2.06.94-2.06 2.06-.94-2.06-.94-.94-2.06-.94 2.06-2.06.94zm-11 1L8.5 8.5l.94-2.06 2.06-.94-2.06-.94L8.5 2.5l-.94 2.06-2.06.94zm10 10l.94 2.06.94-2.06 2.06-.94-2.06-.94-.94-2.06-.94 2.06-2.06.94z\"/><path d=\"M17.41 7.96l-1.37-1.37c-.4-.4-.92-.59-1.43-.59-.52 0-1.04.2-1.43.59L10.3 9.45l-7.72 7.72c-.78.78-.78 2.05 0 2.83L4 21.41c.39.39.9.59 1.41.59.51 0 1.02-.2 1.41-.59l7.78-7.78 2.81-2.81c.8-.78.8-2.07 0-2.86zM5.41 20L4 18.59l7.72-7.72 1.47 1.35L5.41 20z\"/>\n",
              "  </svg>\n",
              "      </button>\n",
              "      \n",
              "  <style>\n",
              "    .colab-df-container {\n",
              "      display:flex;\n",
              "      flex-wrap:wrap;\n",
              "      gap: 12px;\n",
              "    }\n",
              "\n",
              "    .colab-df-convert {\n",
              "      background-color: #E8F0FE;\n",
              "      border: none;\n",
              "      border-radius: 50%;\n",
              "      cursor: pointer;\n",
              "      display: none;\n",
              "      fill: #1967D2;\n",
              "      height: 32px;\n",
              "      padding: 0 0 0 0;\n",
              "      width: 32px;\n",
              "    }\n",
              "\n",
              "    .colab-df-convert:hover {\n",
              "      background-color: #E2EBFA;\n",
              "      box-shadow: 0px 1px 2px rgba(60, 64, 67, 0.3), 0px 1px 3px 1px rgba(60, 64, 67, 0.15);\n",
              "      fill: #174EA6;\n",
              "    }\n",
              "\n",
              "    [theme=dark] .colab-df-convert {\n",
              "      background-color: #3B4455;\n",
              "      fill: #D2E3FC;\n",
              "    }\n",
              "\n",
              "    [theme=dark] .colab-df-convert:hover {\n",
              "      background-color: #434B5C;\n",
              "      box-shadow: 0px 1px 3px 1px rgba(0, 0, 0, 0.15);\n",
              "      filter: drop-shadow(0px 1px 2px rgba(0, 0, 0, 0.3));\n",
              "      fill: #FFFFFF;\n",
              "    }\n",
              "  </style>\n",
              "\n",
              "      <script>\n",
              "        const buttonEl =\n",
              "          document.querySelector('#df-415bbe5d-cf48-4656-8e95-6bd24f535f1f button.colab-df-convert');\n",
              "        buttonEl.style.display =\n",
              "          google.colab.kernel.accessAllowed ? 'block' : 'none';\n",
              "\n",
              "        async function convertToInteractive(key) {\n",
              "          const element = document.querySelector('#df-415bbe5d-cf48-4656-8e95-6bd24f535f1f');\n",
              "          const dataTable =\n",
              "            await google.colab.kernel.invokeFunction('convertToInteractive',\n",
              "                                                     [key], {});\n",
              "          if (!dataTable) return;\n",
              "\n",
              "          const docLinkHtml = 'Like what you see? Visit the ' +\n",
              "            '<a target=\"_blank\" href=https://colab.research.google.com/notebooks/data_table.ipynb>data table notebook</a>'\n",
              "            + ' to learn more about interactive tables.';\n",
              "          element.innerHTML = '';\n",
              "          dataTable['output_type'] = 'display_data';\n",
              "          await google.colab.output.renderOutput(dataTable, element);\n",
              "          const docLink = document.createElement('div');\n",
              "          docLink.innerHTML = docLinkHtml;\n",
              "          element.appendChild(docLink);\n",
              "        }\n",
              "      </script>\n",
              "    </div>\n",
              "  </div>\n",
              "  "
            ]
          },
          "metadata": {},
          "execution_count": 79
        }
      ]
    },
    {
      "cell_type": "code",
      "source": [
        "fig = px.treemap(df_grouped, path=['ESTADO', 'CIUDAD','LINEA_TRANSPORTE', 'UBICACION'], values='count')\n",
        "\n",
        "fig.show()"
      ],
      "metadata": {
        "colab": {
          "base_uri": "https://localhost:8080/",
          "height": 542
        },
        "id": "dtMjHxG-ZtVF",
        "outputId": "c60b5b9f-0027-48e2-bc4b-ed8cb44a2add"
      },
      "execution_count": null,
      "outputs": [
        {
          "output_type": "display_data",
          "data": {
            "text/html": [
              "<html>\n",
              "<head><meta charset=\"utf-8\" /></head>\n",
              "<body>\n",
              "    <div>            <script src=\"https://cdnjs.cloudflare.com/ajax/libs/mathjax/2.7.5/MathJax.js?config=TeX-AMS-MML_SVG\"></script><script type=\"text/javascript\">if (window.MathJax) {MathJax.Hub.Config({SVG: {font: \"STIX-Web\"}});}</script>                <script type=\"text/javascript\">window.PlotlyConfig = {MathJaxConfig: 'local'};</script>\n",
              "        <script src=\"https://cdn.plot.ly/plotly-2.8.3.min.js\"></script>                <div id=\"43f46418-1486-4945-9de1-a89eb415ada0\" class=\"plotly-graph-div\" style=\"height:525px; width:100%;\"></div>            <script type=\"text/javascript\">                                    window.PLOTLYENV=window.PLOTLYENV || {};                                    if (document.getElementById(\"43f46418-1486-4945-9de1-a89eb415ada0\")) {                    Plotly.newPlot(                        \"43f46418-1486-4945-9de1-a89eb415ada0\",                        [{\"branchvalues\":\"total\",\"domain\":{\"x\":[0.0,1.0],\"y\":[0.0,1.0]},\"hovertemplate\":\"labels=%{label}<br>count=%{value}<br>parent=%{parent}<br>id=%{id}<extra></extra>\",\"ids\":[\"EDO DE MEXICO/ECATEPEC/TRANSPORTES CORTES/Centro\",\"CD MEXICO/MEXICO /TRANSPORTES CORTES/Centro\",\"CD MEXICO/MEXICO /TRANSPORTES GRCIA/Centro\",\"EDO DE MEXICO/NAUCALPAN /TRANSPORTES LEDESMA/Centro\",\"EDO DE MEXICO/TLANEPANTLA/TRANSPORTES LEDESMA/Centro\",\"EDO DE MEXICO/LOS  REYES/TRANSPORTES MARSA/Centro\",\"CD MEXICO/MEXICO /TRANSPORTES MARSA/Centro\",\"EDO DE MEXICO/TEXCOCO/TRANSPORTES MARSA/Centro\",\"EDO DE MEXICO/TLANEPANTLA/TRANSPORTES MARSA/Centro\",\"EDO DE MEXICO/CHALCO /TRANSPORTES MEJIA/Centro\",\"CD MEXICO/MEXICO /TRANSPORTES MEJIA/Centro\",\"EDO DE MEXICO/MEXICO /TRANSPORTES MEJIA/Centro\",\"QUERETARO /QUERETARO /TRANSPORTES MEJIA/Centro\",\"EDO DE MEXICO/CUAUTITLAN/TRANSPORTES OLIVARES/Centro\",\"CD MEXICO/MEXICO /TRANSPORTES OLIVARES/Centro\",\"CD MEXICO/MEXICO /TRANSPORTES ORTIZ/Centro\",\"QUERETARO /QUERETARO /TRANSPORTES ORTIZ/Centro\",\"SAN LUIS POTOSI/S L P /TRANSPORTES ORTIZ/Centro\",\"CD MEXICO/MEXICO /TRANSPORTES PEREZ/Centro\",\"EDO DE MEXICO/NAUCALPAN /TRANSPORTES PEREZ/Centro\",\"EDO DE MEXICO/NEZAHUALCOYOTL/TRANSPORTES PEREZ/Centro\",\"EDO DE MEXICO/TLANEPANTLA/TRANSPORTES PEREZ/Centro\",\"EDO DE MEXICO/TULTITLAN /TRANSPORTES PEREZ/Centro\",\"GUANAJUATO /CELAYA /TRANSPORTES QUINTANAR/Centro\",\"GUANAJUATO /IRAPUATO /TRANSPORTES QUINTANAR/Centro\",\"CD MEXICO/MEXICO /TRANSPORTES QUINTANAR/Centro\",\"EDO DE MEXICO/MEXICO /TRANSPORTES QUINTANAR/Centro\",\"EDO DE MEXICO/NEZAHUALCOYOTL/TRANSPORTES QUINTANAR/Centro\",\"QUERETARO /SALAMANCA /TRANSPORTES QUINTANAR/Centro\",\"EDO DE MEXICO/TEXCOCO/TRANSPORTES QUINTANAR/Centro\",\"EDO DE MEXICO/TLANEPANTLA/TRANSPORTES QUINTANAR/Centro\",\"EDO DE MEXICO/NAUCALPAN /TRANSPORTES RODRIGUEZ/Centro\",\"CD MEXICO/MEXICO /TRANSPORTES RUIZ/Centro\",\"EDO DE MEXICO/NAUCALPAN /TRANSPORTES RUIZ/Centro\",\"EDO DE MEXICO/TULTITLAN /TRANSPORTES RUIZ/Centro\",\"GUANAJUATO /CELAYA /TRANSPORTES SANCHEZ/Centro\",\"EDO DE MEXICO/CUAUTITLAN/TRANSPORTES SANCHEZ/Centro\",\"JALISCO /GUADALAJARA /TRANSPORTES SANCHEZ/Centro\",\"GUANAJUATO /GUANAJUATO /TRANSPORTES SANCHEZ/Centro\",\"EDO DE MEXICO/LOS REYES TEXCOCO/TRANSPORTES SANCHEZ/Centro\",\"CD MEXICO/MEXICO /TRANSPORTES SANCHEZ/Centro\",\"EDO DE MEXICO/MEXICO /TRANSPORTES SANCHEZ/Centro\",\"EDO DE MEXICO/NAUCALPAN /TRANSPORTES SANCHEZ/Centro\",\"EDO DE MEXICO/NEZAHUALCOYOTL/TRANSPORTES SANCHEZ/Centro\",\"SAN LUIS POTOSI/S L P /TRANSPORTES SANCHEZ/Centro\",\"EDO DE MEXICO/TLANEPANTLA/TRANSPORTES SANCHEZ/Centro\",\"EDO DE MEXICO/TOLUCA/TRANSPORTES SANCHEZ/Centro\",\"EDO DE MEXICO/XALOSTOC/TRANSPORTES SANCHEZ/Centro\",\"CD MEXICO/MEXICO /TRANSPORTES SANDY/Centro\",\"CD MEXICO/MEXICO /TRANSPORTES TIGRE/Centro\",\"EDO DE MEXICO/TLANEPANTLA/TRANSPORTES TIGRE/Centro\",\"CD MEXICO/MEXICO /TRANSPORTES VALENCIA/Centro\",\"GUANAJUATO /LEON /TRANSPORTES ZEPEDA/Centro\",\"CD MEXICO/MEXICO /TRANSPORTES ZEPEDA/Centro\",\"EDO DE MEXICO/MEXICO /TRANSPORTES ZEPEDA/Centro\",\"GUANAJUATO /MEXICO /TRANSPORTES ZEPEDA/Centro\",\"EDO DE MEXICO/NEZAHUALCOYOTL/TRANSPORTES ZEPEDA/Centro\",\"QUERETARO /QUERETARO /TRANSPORTES ZEPEDA/Centro\",\"GUANAJUATO /TLANEPANTLA/TRANSPORTES ZEPEDA/Centro\",\"EDO DE MEXICO/TULPETLAC/TRANSPORTES ZEPEDA/Centro\",\"TAMAULIPAS/NUEVO LAREDO/TRANSPORTES LEDESMA/Norte\",\"COAHUILA/TORREON /TRANSPORTES LEDESMA/Norte\",\"CHIHUAHUA/CHIHUAHUA/TRANSPORTES MARSA/Norte\",\"DURANGO/GOMEZ  PALACIO/TRANSPORTES MARSA/Norte\",\"SONORA/HERMOSILLO/TRANSPORTES MARSA/Norte\",\"CHIHUAHUA/CHIHUAHUA/TRANSPORTES OLIVARES/Norte\",\"COAHUILA/TORREON /TRANSPORTES OLIVARES/Norte\",\"CHIHUAHUA/CD. DELICIAS /TRANSPORTES ORTIZ/Norte\",\"CHIHUAHUA/CHIHUAHUA/TRANSPORTES ORTIZ/Norte\",\"DURANGO/DURANGO/TRANSPORTES ORTIZ/Norte\",\"NUEVO LEON/MONTERREY /TRANSPORTES ORTIZ/Norte\",\"SONORA/NOGALES/TRANSPORTES ORTIZ/Norte\",\"B. C. /TIJUANA /TRANSPORTES ORTIZ/Norte\",\"COAHUILA/TORREON /TRANSPORTES ORTIZ/Norte\",\"SONORA/HERMOSILLO/TRANSPORTES QUINTANAR/Norte\",\"NUEVO LEON/MONTERREY /TRANSPORTES QUINTANAR/Norte\",\"TAMAULIPAS/NUEVO LAREDO/TRANSPORTES QUINTANAR/Norte\",\"COAHUILA/SALTILLO/TRANSPORTES QUINTANAR/Norte\",\"TAMAULIPAS/TAMPICO /TRANSPORTES QUINTANAR/Norte\",\"EDO DE MEXICO/TORREON /TRANSPORTES QUINTANAR/Norte\",\"SINALOA/CULIACAN /TRANSPORTES RODRIGUEZ/Norte\",\"NUEVO LEON/MONTERREY /TRANSPORTES RUIZ/Norte\",\"SINALOA/CULIACAN /TRANSPORTES SANCHEZ/Norte\",\"SONORA/HERMOSILLO/TRANSPORTES SANCHEZ/Norte\",\"SINALOA/MAZATLAN /TRANSPORTES SANCHEZ/Norte\",\"COAHUILA/MONCLOVA/TRANSPORTES SANCHEZ/Norte\",\"NUEVO LEON/MONTERREY /TRANSPORTES SANCHEZ/Norte\",\"TAMAULIPAS/REYNOSA/TRANSPORTES SANCHEZ/Norte\",\"COAHUILA/TORREON /TRANSPORTES SANCHEZ/Norte\",\"SONORA/GUAYMAS/TRANSPORTES VALENCIA/Norte\",\"SONORA/HERMOSILLO/TRANSPORTES VALENCIA/Norte\",\"SINALOA/LOS MOCHIS /TRANSPORTES VALENCIA/Norte\",\"NUEVO LEON/MONTERREY /TRANSPORTES VALENCIA/Norte\",\"NUEVO LEON/MONTERREY /TRANSPORTES ZEPEDA/Norte\",\"VERACRUZ/COATEPEC/TRANSPORTES CHAVARRIA/Sur\",\"CHIAPAS/TUXTLA GTZ/TRANSPORTES CORTES/Sur\",\"CAMPECHE/CD CARMEN /TRANSPORTES MARSA/Sur\",\"PUEBLA /PUEBLA /TRANSPORTES MARSA/Sur\",\"OAXACA/TUXTEPEC/TRANSPORTES MARSA/Sur\",\"CHIAPAS/TUXTLA GTZ/TRANSPORTES MARSA/Sur\",\"YUCATAN/MEXICO /TRANSPORTES OLIVARES/Sur\",\"VERACRUZ/MINATITLAN/TRANSPORTES OLIVARES/Sur\",\"VERACRUZ/XALAPA /TRANSPORTES OLIVARES/Sur\",\"OAXACA/TUXTEPEC/TRANSPORTES PEREZ/Sur\",\"TABASCO/VILLAHERMOSA/TRANSPORTES PEREZ/Sur\",\"PUEBLA /PUEBLA /TRANSPORTES QUINTANAR/Sur\",\"VERACRUZ/QUERETARO /TRANSPORTES QUINTANAR/Sur\",\"OAXACA/OAXACA/TRANSPORTES RUIZ/Sur\",\"TABASCO/VILLAHERMOSA/TRANSPORTES RUIZ/Sur\",\"VERACRUZ/BOCA DEL RIO /TRANSPORTES SANCHEZ/Sur\",\"PUEBLA /PUEBLA /TRANSPORTES SANCHEZ/Sur\",\"VERACRUZ/VERACRUZ/TRANSPORTES SANCHEZ/Sur\",\"YUCATAN/MERIDA /TRANSPORTES VALENCIA/Sur\",\"YUCATAN/MEXICO /TRANSPORTES ZEPEDA/Sur\",\"VERACRUZ/VERACRUZ/TRANSPORTES ZEPEDA/Sur\",\"TABASCO/VILLAHERMOSA/TRANSPORTES ZEPEDA/Sur\",\"VERACRUZ/COATEPEC/TRANSPORTES CHAVARRIA\",\"EDO DE MEXICO/ECATEPEC/TRANSPORTES CORTES\",\"CD MEXICO/MEXICO /TRANSPORTES CORTES\",\"CHIAPAS/TUXTLA GTZ/TRANSPORTES CORTES\",\"CD MEXICO/MEXICO /TRANSPORTES GRCIA\",\"EDO DE MEXICO/NAUCALPAN /TRANSPORTES LEDESMA\",\"TAMAULIPAS/NUEVO LAREDO/TRANSPORTES LEDESMA\",\"EDO DE MEXICO/TLANEPANTLA/TRANSPORTES LEDESMA\",\"COAHUILA/TORREON /TRANSPORTES LEDESMA\",\"CAMPECHE/CD CARMEN /TRANSPORTES MARSA\",\"CHIHUAHUA/CHIHUAHUA/TRANSPORTES MARSA\",\"DURANGO/GOMEZ  PALACIO/TRANSPORTES MARSA\",\"SONORA/HERMOSILLO/TRANSPORTES MARSA\",\"EDO DE MEXICO/LOS  REYES/TRANSPORTES MARSA\",\"CD MEXICO/MEXICO /TRANSPORTES MARSA\",\"PUEBLA /PUEBLA /TRANSPORTES MARSA\",\"EDO DE MEXICO/TEXCOCO/TRANSPORTES MARSA\",\"EDO DE MEXICO/TLANEPANTLA/TRANSPORTES MARSA\",\"OAXACA/TUXTEPEC/TRANSPORTES MARSA\",\"CHIAPAS/TUXTLA GTZ/TRANSPORTES MARSA\",\"EDO DE MEXICO/CHALCO /TRANSPORTES MEJIA\",\"CD MEXICO/MEXICO /TRANSPORTES MEJIA\",\"EDO DE MEXICO/MEXICO /TRANSPORTES MEJIA\",\"QUERETARO /QUERETARO /TRANSPORTES MEJIA\",\"CHIHUAHUA/CHIHUAHUA/TRANSPORTES OLIVARES\",\"EDO DE MEXICO/CUAUTITLAN/TRANSPORTES OLIVARES\",\"CD MEXICO/MEXICO /TRANSPORTES OLIVARES\",\"YUCATAN/MEXICO /TRANSPORTES OLIVARES\",\"VERACRUZ/MINATITLAN/TRANSPORTES OLIVARES\",\"COAHUILA/TORREON /TRANSPORTES OLIVARES\",\"VERACRUZ/XALAPA /TRANSPORTES OLIVARES\",\"CHIHUAHUA/CD. DELICIAS /TRANSPORTES ORTIZ\",\"CHIHUAHUA/CHIHUAHUA/TRANSPORTES ORTIZ\",\"DURANGO/DURANGO/TRANSPORTES ORTIZ\",\"CD MEXICO/MEXICO /TRANSPORTES ORTIZ\",\"NUEVO LEON/MONTERREY /TRANSPORTES ORTIZ\",\"SONORA/NOGALES/TRANSPORTES ORTIZ\",\"QUERETARO /QUERETARO /TRANSPORTES ORTIZ\",\"SAN LUIS POTOSI/S L P /TRANSPORTES ORTIZ\",\"B. C. /TIJUANA /TRANSPORTES ORTIZ\",\"COAHUILA/TORREON /TRANSPORTES ORTIZ\",\"CD MEXICO/MEXICO /TRANSPORTES PEREZ\",\"EDO DE MEXICO/NAUCALPAN /TRANSPORTES PEREZ\",\"EDO DE MEXICO/NEZAHUALCOYOTL/TRANSPORTES PEREZ\",\"EDO DE MEXICO/TLANEPANTLA/TRANSPORTES PEREZ\",\"EDO DE MEXICO/TULTITLAN /TRANSPORTES PEREZ\",\"OAXACA/TUXTEPEC/TRANSPORTES PEREZ\",\"TABASCO/VILLAHERMOSA/TRANSPORTES PEREZ\",\"GUANAJUATO /CELAYA /TRANSPORTES QUINTANAR\",\"SONORA/HERMOSILLO/TRANSPORTES QUINTANAR\",\"GUANAJUATO /IRAPUATO /TRANSPORTES QUINTANAR\",\"CD MEXICO/MEXICO /TRANSPORTES QUINTANAR\",\"EDO DE MEXICO/MEXICO /TRANSPORTES QUINTANAR\",\"NUEVO LEON/MONTERREY /TRANSPORTES QUINTANAR\",\"EDO DE MEXICO/NEZAHUALCOYOTL/TRANSPORTES QUINTANAR\",\"TAMAULIPAS/NUEVO LAREDO/TRANSPORTES QUINTANAR\",\"PUEBLA /PUEBLA /TRANSPORTES QUINTANAR\",\"VERACRUZ/QUERETARO /TRANSPORTES QUINTANAR\",\"QUERETARO /SALAMANCA /TRANSPORTES QUINTANAR\",\"COAHUILA/SALTILLO/TRANSPORTES QUINTANAR\",\"TAMAULIPAS/TAMPICO /TRANSPORTES QUINTANAR\",\"EDO DE MEXICO/TEXCOCO/TRANSPORTES QUINTANAR\",\"EDO DE MEXICO/TLANEPANTLA/TRANSPORTES QUINTANAR\",\"EDO DE MEXICO/TORREON /TRANSPORTES QUINTANAR\",\"SINALOA/CULIACAN /TRANSPORTES RODRIGUEZ\",\"EDO DE MEXICO/NAUCALPAN /TRANSPORTES RODRIGUEZ\",\"CD MEXICO/MEXICO /TRANSPORTES RUIZ\",\"NUEVO LEON/MONTERREY /TRANSPORTES RUIZ\",\"EDO DE MEXICO/NAUCALPAN /TRANSPORTES RUIZ\",\"OAXACA/OAXACA/TRANSPORTES RUIZ\",\"EDO DE MEXICO/TULTITLAN /TRANSPORTES RUIZ\",\"TABASCO/VILLAHERMOSA/TRANSPORTES RUIZ\",\"VERACRUZ/BOCA DEL RIO /TRANSPORTES SANCHEZ\",\"GUANAJUATO /CELAYA /TRANSPORTES SANCHEZ\",\"EDO DE MEXICO/CUAUTITLAN/TRANSPORTES SANCHEZ\",\"SINALOA/CULIACAN /TRANSPORTES SANCHEZ\",\"JALISCO /GUADALAJARA /TRANSPORTES SANCHEZ\",\"GUANAJUATO /GUANAJUATO /TRANSPORTES SANCHEZ\",\"SONORA/HERMOSILLO/TRANSPORTES SANCHEZ\",\"EDO DE MEXICO/LOS REYES TEXCOCO/TRANSPORTES SANCHEZ\",\"SINALOA/MAZATLAN /TRANSPORTES SANCHEZ\",\"CD MEXICO/MEXICO /TRANSPORTES SANCHEZ\",\"EDO DE MEXICO/MEXICO /TRANSPORTES SANCHEZ\",\"COAHUILA/MONCLOVA/TRANSPORTES SANCHEZ\",\"NUEVO LEON/MONTERREY /TRANSPORTES SANCHEZ\",\"EDO DE MEXICO/NAUCALPAN /TRANSPORTES SANCHEZ\",\"EDO DE MEXICO/NEZAHUALCOYOTL/TRANSPORTES SANCHEZ\",\"PUEBLA /PUEBLA /TRANSPORTES SANCHEZ\",\"TAMAULIPAS/REYNOSA/TRANSPORTES SANCHEZ\",\"SAN LUIS POTOSI/S L P /TRANSPORTES SANCHEZ\",\"EDO DE MEXICO/TLANEPANTLA/TRANSPORTES SANCHEZ\",\"EDO DE MEXICO/TOLUCA/TRANSPORTES SANCHEZ\",\"COAHUILA/TORREON /TRANSPORTES SANCHEZ\",\"VERACRUZ/VERACRUZ/TRANSPORTES SANCHEZ\",\"EDO DE MEXICO/XALOSTOC/TRANSPORTES SANCHEZ\",\"CD MEXICO/MEXICO /TRANSPORTES SANDY\",\"CD MEXICO/MEXICO /TRANSPORTES TIGRE\",\"EDO DE MEXICO/TLANEPANTLA/TRANSPORTES TIGRE\",\"SONORA/GUAYMAS/TRANSPORTES VALENCIA\",\"SONORA/HERMOSILLO/TRANSPORTES VALENCIA\",\"SINALOA/LOS MOCHIS /TRANSPORTES VALENCIA\",\"YUCATAN/MERIDA /TRANSPORTES VALENCIA\",\"CD MEXICO/MEXICO /TRANSPORTES VALENCIA\",\"NUEVO LEON/MONTERREY /TRANSPORTES VALENCIA\",\"GUANAJUATO /LEON /TRANSPORTES ZEPEDA\",\"CD MEXICO/MEXICO /TRANSPORTES ZEPEDA\",\"EDO DE MEXICO/MEXICO /TRANSPORTES ZEPEDA\",\"GUANAJUATO /MEXICO /TRANSPORTES ZEPEDA\",\"YUCATAN/MEXICO /TRANSPORTES ZEPEDA\",\"NUEVO LEON/MONTERREY /TRANSPORTES ZEPEDA\",\"EDO DE MEXICO/NEZAHUALCOYOTL/TRANSPORTES ZEPEDA\",\"QUERETARO /QUERETARO /TRANSPORTES ZEPEDA\",\"GUANAJUATO /TLANEPANTLA/TRANSPORTES ZEPEDA\",\"EDO DE MEXICO/TULPETLAC/TRANSPORTES ZEPEDA\",\"VERACRUZ/VERACRUZ/TRANSPORTES ZEPEDA\",\"TABASCO/VILLAHERMOSA/TRANSPORTES ZEPEDA\",\"VERACRUZ/BOCA DEL RIO \",\"CAMPECHE/CD CARMEN \",\"CHIHUAHUA/CD. DELICIAS \",\"GUANAJUATO /CELAYA \",\"EDO DE MEXICO/CHALCO \",\"CHIHUAHUA/CHIHUAHUA\",\"VERACRUZ/COATEPEC\",\"EDO DE MEXICO/CUAUTITLAN\",\"SINALOA/CULIACAN \",\"DURANGO/DURANGO\",\"EDO DE MEXICO/ECATEPEC\",\"DURANGO/GOMEZ  PALACIO\",\"JALISCO /GUADALAJARA \",\"GUANAJUATO /GUANAJUATO \",\"SONORA/GUAYMAS\",\"SONORA/HERMOSILLO\",\"GUANAJUATO /IRAPUATO \",\"GUANAJUATO /LEON \",\"EDO DE MEXICO/LOS  REYES\",\"SINALOA/LOS MOCHIS \",\"EDO DE MEXICO/LOS REYES TEXCOCO\",\"SINALOA/MAZATLAN \",\"YUCATAN/MERIDA \",\"CD MEXICO/MEXICO \",\"EDO DE MEXICO/MEXICO \",\"GUANAJUATO /MEXICO \",\"YUCATAN/MEXICO \",\"VERACRUZ/MINATITLAN\",\"COAHUILA/MONCLOVA\",\"NUEVO LEON/MONTERREY \",\"EDO DE MEXICO/NAUCALPAN \",\"EDO DE MEXICO/NEZAHUALCOYOTL\",\"SONORA/NOGALES\",\"TAMAULIPAS/NUEVO LAREDO\",\"OAXACA/OAXACA\",\"PUEBLA /PUEBLA \",\"QUERETARO /QUERETARO \",\"VERACRUZ/QUERETARO \",\"TAMAULIPAS/REYNOSA\",\"SAN LUIS POTOSI/S L P \",\"QUERETARO /SALAMANCA \",\"COAHUILA/SALTILLO\",\"TAMAULIPAS/TAMPICO \",\"EDO DE MEXICO/TEXCOCO\",\"B. C. /TIJUANA \",\"EDO DE MEXICO/TLANEPANTLA\",\"GUANAJUATO /TLANEPANTLA\",\"EDO DE MEXICO/TOLUCA\",\"COAHUILA/TORREON \",\"EDO DE MEXICO/TORREON \",\"EDO DE MEXICO/TULPETLAC\",\"EDO DE MEXICO/TULTITLAN \",\"OAXACA/TUXTEPEC\",\"CHIAPAS/TUXTLA GTZ\",\"VERACRUZ/VERACRUZ\",\"TABASCO/VILLAHERMOSA\",\"VERACRUZ/XALAPA \",\"EDO DE MEXICO/XALOSTOC\",\"B. C. \",\"CAMPECHE\",\"CD MEXICO\",\"CHIAPAS\",\"CHIHUAHUA\",\"COAHUILA\",\"DURANGO\",\"EDO DE MEXICO\",\"GUANAJUATO \",\"JALISCO \",\"NUEVO LEON\",\"OAXACA\",\"PUEBLA \",\"QUERETARO \",\"SAN LUIS POTOSI\",\"SINALOA\",\"SONORA\",\"TABASCO\",\"TAMAULIPAS\",\"VERACRUZ\",\"YUCATAN\"],\"labels\":[\"Centro\",\"Centro\",\"Centro\",\"Centro\",\"Centro\",\"Centro\",\"Centro\",\"Centro\",\"Centro\",\"Centro\",\"Centro\",\"Centro\",\"Centro\",\"Centro\",\"Centro\",\"Centro\",\"Centro\",\"Centro\",\"Centro\",\"Centro\",\"Centro\",\"Centro\",\"Centro\",\"Centro\",\"Centro\",\"Centro\",\"Centro\",\"Centro\",\"Centro\",\"Centro\",\"Centro\",\"Centro\",\"Centro\",\"Centro\",\"Centro\",\"Centro\",\"Centro\",\"Centro\",\"Centro\",\"Centro\",\"Centro\",\"Centro\",\"Centro\",\"Centro\",\"Centro\",\"Centro\",\"Centro\",\"Centro\",\"Centro\",\"Centro\",\"Centro\",\"Centro\",\"Centro\",\"Centro\",\"Centro\",\"Centro\",\"Centro\",\"Centro\",\"Centro\",\"Centro\",\"Norte\",\"Norte\",\"Norte\",\"Norte\",\"Norte\",\"Norte\",\"Norte\",\"Norte\",\"Norte\",\"Norte\",\"Norte\",\"Norte\",\"Norte\",\"Norte\",\"Norte\",\"Norte\",\"Norte\",\"Norte\",\"Norte\",\"Norte\",\"Norte\",\"Norte\",\"Norte\",\"Norte\",\"Norte\",\"Norte\",\"Norte\",\"Norte\",\"Norte\",\"Norte\",\"Norte\",\"Norte\",\"Norte\",\"Norte\",\"Sur\",\"Sur\",\"Sur\",\"Sur\",\"Sur\",\"Sur\",\"Sur\",\"Sur\",\"Sur\",\"Sur\",\"Sur\",\"Sur\",\"Sur\",\"Sur\",\"Sur\",\"Sur\",\"Sur\",\"Sur\",\"Sur\",\"Sur\",\"Sur\",\"Sur\",\"TRANSPORTES CHAVARRIA\",\"TRANSPORTES CORTES\",\"TRANSPORTES CORTES\",\"TRANSPORTES CORTES\",\"TRANSPORTES GRCIA\",\"TRANSPORTES LEDESMA\",\"TRANSPORTES LEDESMA\",\"TRANSPORTES LEDESMA\",\"TRANSPORTES LEDESMA\",\"TRANSPORTES MARSA\",\"TRANSPORTES MARSA\",\"TRANSPORTES MARSA\",\"TRANSPORTES MARSA\",\"TRANSPORTES MARSA\",\"TRANSPORTES MARSA\",\"TRANSPORTES MARSA\",\"TRANSPORTES MARSA\",\"TRANSPORTES MARSA\",\"TRANSPORTES MARSA\",\"TRANSPORTES MARSA\",\"TRANSPORTES MEJIA\",\"TRANSPORTES MEJIA\",\"TRANSPORTES MEJIA\",\"TRANSPORTES MEJIA\",\"TRANSPORTES OLIVARES\",\"TRANSPORTES OLIVARES\",\"TRANSPORTES OLIVARES\",\"TRANSPORTES OLIVARES\",\"TRANSPORTES OLIVARES\",\"TRANSPORTES OLIVARES\",\"TRANSPORTES OLIVARES\",\"TRANSPORTES ORTIZ\",\"TRANSPORTES ORTIZ\",\"TRANSPORTES ORTIZ\",\"TRANSPORTES ORTIZ\",\"TRANSPORTES ORTIZ\",\"TRANSPORTES ORTIZ\",\"TRANSPORTES ORTIZ\",\"TRANSPORTES ORTIZ\",\"TRANSPORTES ORTIZ\",\"TRANSPORTES ORTIZ\",\"TRANSPORTES PEREZ\",\"TRANSPORTES PEREZ\",\"TRANSPORTES PEREZ\",\"TRANSPORTES PEREZ\",\"TRANSPORTES PEREZ\",\"TRANSPORTES PEREZ\",\"TRANSPORTES PEREZ\",\"TRANSPORTES QUINTANAR\",\"TRANSPORTES QUINTANAR\",\"TRANSPORTES QUINTANAR\",\"TRANSPORTES QUINTANAR\",\"TRANSPORTES QUINTANAR\",\"TRANSPORTES QUINTANAR\",\"TRANSPORTES QUINTANAR\",\"TRANSPORTES QUINTANAR\",\"TRANSPORTES QUINTANAR\",\"TRANSPORTES QUINTANAR\",\"TRANSPORTES QUINTANAR\",\"TRANSPORTES QUINTANAR\",\"TRANSPORTES QUINTANAR\",\"TRANSPORTES QUINTANAR\",\"TRANSPORTES QUINTANAR\",\"TRANSPORTES QUINTANAR\",\"TRANSPORTES RODRIGUEZ\",\"TRANSPORTES RODRIGUEZ\",\"TRANSPORTES RUIZ\",\"TRANSPORTES RUIZ\",\"TRANSPORTES RUIZ\",\"TRANSPORTES RUIZ\",\"TRANSPORTES RUIZ\",\"TRANSPORTES RUIZ\",\"TRANSPORTES SANCHEZ\",\"TRANSPORTES SANCHEZ\",\"TRANSPORTES SANCHEZ\",\"TRANSPORTES SANCHEZ\",\"TRANSPORTES SANCHEZ\",\"TRANSPORTES SANCHEZ\",\"TRANSPORTES SANCHEZ\",\"TRANSPORTES SANCHEZ\",\"TRANSPORTES SANCHEZ\",\"TRANSPORTES SANCHEZ\",\"TRANSPORTES SANCHEZ\",\"TRANSPORTES SANCHEZ\",\"TRANSPORTES SANCHEZ\",\"TRANSPORTES SANCHEZ\",\"TRANSPORTES SANCHEZ\",\"TRANSPORTES SANCHEZ\",\"TRANSPORTES SANCHEZ\",\"TRANSPORTES SANCHEZ\",\"TRANSPORTES SANCHEZ\",\"TRANSPORTES SANCHEZ\",\"TRANSPORTES SANCHEZ\",\"TRANSPORTES SANCHEZ\",\"TRANSPORTES SANCHEZ\",\"TRANSPORTES SANDY\",\"TRANSPORTES TIGRE\",\"TRANSPORTES TIGRE\",\"TRANSPORTES VALENCIA\",\"TRANSPORTES VALENCIA\",\"TRANSPORTES VALENCIA\",\"TRANSPORTES VALENCIA\",\"TRANSPORTES VALENCIA\",\"TRANSPORTES VALENCIA\",\"TRANSPORTES ZEPEDA\",\"TRANSPORTES ZEPEDA\",\"TRANSPORTES ZEPEDA\",\"TRANSPORTES ZEPEDA\",\"TRANSPORTES ZEPEDA\",\"TRANSPORTES ZEPEDA\",\"TRANSPORTES ZEPEDA\",\"TRANSPORTES ZEPEDA\",\"TRANSPORTES ZEPEDA\",\"TRANSPORTES ZEPEDA\",\"TRANSPORTES ZEPEDA\",\"TRANSPORTES ZEPEDA\",\"BOCA DEL RIO \",\"CD CARMEN \",\"CD. DELICIAS \",\"CELAYA \",\"CHALCO \",\"CHIHUAHUA\",\"COATEPEC\",\"CUAUTITLAN\",\"CULIACAN \",\"DURANGO\",\"ECATEPEC\",\"GOMEZ  PALACIO\",\"GUADALAJARA \",\"GUANAJUATO \",\"GUAYMAS\",\"HERMOSILLO\",\"IRAPUATO \",\"LEON \",\"LOS  REYES\",\"LOS MOCHIS \",\"LOS REYES TEXCOCO\",\"MAZATLAN \",\"MERIDA \",\"MEXICO \",\"MEXICO \",\"MEXICO \",\"MEXICO \",\"MINATITLAN\",\"MONCLOVA\",\"MONTERREY \",\"NAUCALPAN \",\"NEZAHUALCOYOTL\",\"NOGALES\",\"NUEVO LAREDO\",\"OAXACA\",\"PUEBLA \",\"QUERETARO \",\"QUERETARO \",\"REYNOSA\",\"S L P \",\"SALAMANCA \",\"SALTILLO\",\"TAMPICO \",\"TEXCOCO\",\"TIJUANA \",\"TLANEPANTLA\",\"TLANEPANTLA\",\"TOLUCA\",\"TORREON \",\"TORREON \",\"TULPETLAC\",\"TULTITLAN \",\"TUXTEPEC\",\"TUXTLA GTZ\",\"VERACRUZ\",\"VILLAHERMOSA\",\"XALAPA \",\"XALOSTOC\",\"B. C. \",\"CAMPECHE\",\"CD MEXICO\",\"CHIAPAS\",\"CHIHUAHUA\",\"COAHUILA\",\"DURANGO\",\"EDO DE MEXICO\",\"GUANAJUATO \",\"JALISCO \",\"NUEVO LEON\",\"OAXACA\",\"PUEBLA \",\"QUERETARO \",\"SAN LUIS POTOSI\",\"SINALOA\",\"SONORA\",\"TABASCO\",\"TAMAULIPAS\",\"VERACRUZ\",\"YUCATAN\"],\"name\":\"\",\"parents\":[\"EDO DE MEXICO/ECATEPEC/TRANSPORTES CORTES\",\"CD MEXICO/MEXICO /TRANSPORTES CORTES\",\"CD MEXICO/MEXICO /TRANSPORTES GRCIA\",\"EDO DE MEXICO/NAUCALPAN /TRANSPORTES LEDESMA\",\"EDO DE MEXICO/TLANEPANTLA/TRANSPORTES LEDESMA\",\"EDO DE MEXICO/LOS  REYES/TRANSPORTES MARSA\",\"CD MEXICO/MEXICO /TRANSPORTES MARSA\",\"EDO DE MEXICO/TEXCOCO/TRANSPORTES MARSA\",\"EDO DE MEXICO/TLANEPANTLA/TRANSPORTES MARSA\",\"EDO DE MEXICO/CHALCO /TRANSPORTES MEJIA\",\"CD MEXICO/MEXICO /TRANSPORTES MEJIA\",\"EDO DE MEXICO/MEXICO /TRANSPORTES MEJIA\",\"QUERETARO /QUERETARO /TRANSPORTES MEJIA\",\"EDO DE MEXICO/CUAUTITLAN/TRANSPORTES OLIVARES\",\"CD MEXICO/MEXICO /TRANSPORTES OLIVARES\",\"CD MEXICO/MEXICO /TRANSPORTES ORTIZ\",\"QUERETARO /QUERETARO /TRANSPORTES ORTIZ\",\"SAN LUIS POTOSI/S L P /TRANSPORTES ORTIZ\",\"CD MEXICO/MEXICO /TRANSPORTES PEREZ\",\"EDO DE MEXICO/NAUCALPAN /TRANSPORTES PEREZ\",\"EDO DE MEXICO/NEZAHUALCOYOTL/TRANSPORTES PEREZ\",\"EDO DE MEXICO/TLANEPANTLA/TRANSPORTES PEREZ\",\"EDO DE MEXICO/TULTITLAN /TRANSPORTES PEREZ\",\"GUANAJUATO /CELAYA /TRANSPORTES QUINTANAR\",\"GUANAJUATO /IRAPUATO /TRANSPORTES QUINTANAR\",\"CD MEXICO/MEXICO /TRANSPORTES QUINTANAR\",\"EDO DE MEXICO/MEXICO /TRANSPORTES QUINTANAR\",\"EDO DE MEXICO/NEZAHUALCOYOTL/TRANSPORTES QUINTANAR\",\"QUERETARO /SALAMANCA /TRANSPORTES QUINTANAR\",\"EDO DE MEXICO/TEXCOCO/TRANSPORTES QUINTANAR\",\"EDO DE MEXICO/TLANEPANTLA/TRANSPORTES QUINTANAR\",\"EDO DE MEXICO/NAUCALPAN /TRANSPORTES RODRIGUEZ\",\"CD MEXICO/MEXICO /TRANSPORTES RUIZ\",\"EDO DE MEXICO/NAUCALPAN /TRANSPORTES RUIZ\",\"EDO DE MEXICO/TULTITLAN /TRANSPORTES RUIZ\",\"GUANAJUATO /CELAYA /TRANSPORTES SANCHEZ\",\"EDO DE MEXICO/CUAUTITLAN/TRANSPORTES SANCHEZ\",\"JALISCO /GUADALAJARA /TRANSPORTES SANCHEZ\",\"GUANAJUATO /GUANAJUATO /TRANSPORTES SANCHEZ\",\"EDO DE MEXICO/LOS REYES TEXCOCO/TRANSPORTES SANCHEZ\",\"CD MEXICO/MEXICO /TRANSPORTES SANCHEZ\",\"EDO DE MEXICO/MEXICO /TRANSPORTES SANCHEZ\",\"EDO DE MEXICO/NAUCALPAN /TRANSPORTES SANCHEZ\",\"EDO DE MEXICO/NEZAHUALCOYOTL/TRANSPORTES SANCHEZ\",\"SAN LUIS POTOSI/S L P /TRANSPORTES SANCHEZ\",\"EDO DE MEXICO/TLANEPANTLA/TRANSPORTES SANCHEZ\",\"EDO DE MEXICO/TOLUCA/TRANSPORTES SANCHEZ\",\"EDO DE MEXICO/XALOSTOC/TRANSPORTES SANCHEZ\",\"CD MEXICO/MEXICO /TRANSPORTES SANDY\",\"CD MEXICO/MEXICO /TRANSPORTES TIGRE\",\"EDO DE MEXICO/TLANEPANTLA/TRANSPORTES TIGRE\",\"CD MEXICO/MEXICO /TRANSPORTES VALENCIA\",\"GUANAJUATO /LEON /TRANSPORTES ZEPEDA\",\"CD MEXICO/MEXICO /TRANSPORTES ZEPEDA\",\"EDO DE MEXICO/MEXICO /TRANSPORTES ZEPEDA\",\"GUANAJUATO /MEXICO /TRANSPORTES ZEPEDA\",\"EDO DE MEXICO/NEZAHUALCOYOTL/TRANSPORTES ZEPEDA\",\"QUERETARO /QUERETARO /TRANSPORTES ZEPEDA\",\"GUANAJUATO /TLANEPANTLA/TRANSPORTES ZEPEDA\",\"EDO DE MEXICO/TULPETLAC/TRANSPORTES ZEPEDA\",\"TAMAULIPAS/NUEVO LAREDO/TRANSPORTES LEDESMA\",\"COAHUILA/TORREON /TRANSPORTES LEDESMA\",\"CHIHUAHUA/CHIHUAHUA/TRANSPORTES MARSA\",\"DURANGO/GOMEZ  PALACIO/TRANSPORTES MARSA\",\"SONORA/HERMOSILLO/TRANSPORTES MARSA\",\"CHIHUAHUA/CHIHUAHUA/TRANSPORTES OLIVARES\",\"COAHUILA/TORREON /TRANSPORTES OLIVARES\",\"CHIHUAHUA/CD. DELICIAS /TRANSPORTES ORTIZ\",\"CHIHUAHUA/CHIHUAHUA/TRANSPORTES ORTIZ\",\"DURANGO/DURANGO/TRANSPORTES ORTIZ\",\"NUEVO LEON/MONTERREY /TRANSPORTES ORTIZ\",\"SONORA/NOGALES/TRANSPORTES ORTIZ\",\"B. C. /TIJUANA /TRANSPORTES ORTIZ\",\"COAHUILA/TORREON /TRANSPORTES ORTIZ\",\"SONORA/HERMOSILLO/TRANSPORTES QUINTANAR\",\"NUEVO LEON/MONTERREY /TRANSPORTES QUINTANAR\",\"TAMAULIPAS/NUEVO LAREDO/TRANSPORTES QUINTANAR\",\"COAHUILA/SALTILLO/TRANSPORTES QUINTANAR\",\"TAMAULIPAS/TAMPICO /TRANSPORTES QUINTANAR\",\"EDO DE MEXICO/TORREON /TRANSPORTES QUINTANAR\",\"SINALOA/CULIACAN /TRANSPORTES RODRIGUEZ\",\"NUEVO LEON/MONTERREY /TRANSPORTES RUIZ\",\"SINALOA/CULIACAN /TRANSPORTES SANCHEZ\",\"SONORA/HERMOSILLO/TRANSPORTES SANCHEZ\",\"SINALOA/MAZATLAN /TRANSPORTES SANCHEZ\",\"COAHUILA/MONCLOVA/TRANSPORTES SANCHEZ\",\"NUEVO LEON/MONTERREY /TRANSPORTES SANCHEZ\",\"TAMAULIPAS/REYNOSA/TRANSPORTES SANCHEZ\",\"COAHUILA/TORREON /TRANSPORTES SANCHEZ\",\"SONORA/GUAYMAS/TRANSPORTES VALENCIA\",\"SONORA/HERMOSILLO/TRANSPORTES VALENCIA\",\"SINALOA/LOS MOCHIS /TRANSPORTES VALENCIA\",\"NUEVO LEON/MONTERREY /TRANSPORTES VALENCIA\",\"NUEVO LEON/MONTERREY /TRANSPORTES ZEPEDA\",\"VERACRUZ/COATEPEC/TRANSPORTES CHAVARRIA\",\"CHIAPAS/TUXTLA GTZ/TRANSPORTES CORTES\",\"CAMPECHE/CD CARMEN /TRANSPORTES MARSA\",\"PUEBLA /PUEBLA /TRANSPORTES MARSA\",\"OAXACA/TUXTEPEC/TRANSPORTES MARSA\",\"CHIAPAS/TUXTLA GTZ/TRANSPORTES MARSA\",\"YUCATAN/MEXICO /TRANSPORTES OLIVARES\",\"VERACRUZ/MINATITLAN/TRANSPORTES OLIVARES\",\"VERACRUZ/XALAPA /TRANSPORTES OLIVARES\",\"OAXACA/TUXTEPEC/TRANSPORTES PEREZ\",\"TABASCO/VILLAHERMOSA/TRANSPORTES PEREZ\",\"PUEBLA /PUEBLA /TRANSPORTES QUINTANAR\",\"VERACRUZ/QUERETARO /TRANSPORTES QUINTANAR\",\"OAXACA/OAXACA/TRANSPORTES RUIZ\",\"TABASCO/VILLAHERMOSA/TRANSPORTES RUIZ\",\"VERACRUZ/BOCA DEL RIO /TRANSPORTES SANCHEZ\",\"PUEBLA /PUEBLA /TRANSPORTES SANCHEZ\",\"VERACRUZ/VERACRUZ/TRANSPORTES SANCHEZ\",\"YUCATAN/MERIDA /TRANSPORTES VALENCIA\",\"YUCATAN/MEXICO /TRANSPORTES ZEPEDA\",\"VERACRUZ/VERACRUZ/TRANSPORTES ZEPEDA\",\"TABASCO/VILLAHERMOSA/TRANSPORTES ZEPEDA\",\"VERACRUZ/COATEPEC\",\"EDO DE MEXICO/ECATEPEC\",\"CD MEXICO/MEXICO \",\"CHIAPAS/TUXTLA GTZ\",\"CD MEXICO/MEXICO \",\"EDO DE MEXICO/NAUCALPAN \",\"TAMAULIPAS/NUEVO LAREDO\",\"EDO DE MEXICO/TLANEPANTLA\",\"COAHUILA/TORREON \",\"CAMPECHE/CD CARMEN \",\"CHIHUAHUA/CHIHUAHUA\",\"DURANGO/GOMEZ  PALACIO\",\"SONORA/HERMOSILLO\",\"EDO DE MEXICO/LOS  REYES\",\"CD MEXICO/MEXICO \",\"PUEBLA /PUEBLA \",\"EDO DE MEXICO/TEXCOCO\",\"EDO DE MEXICO/TLANEPANTLA\",\"OAXACA/TUXTEPEC\",\"CHIAPAS/TUXTLA GTZ\",\"EDO DE MEXICO/CHALCO \",\"CD MEXICO/MEXICO \",\"EDO DE MEXICO/MEXICO \",\"QUERETARO /QUERETARO \",\"CHIHUAHUA/CHIHUAHUA\",\"EDO DE MEXICO/CUAUTITLAN\",\"CD MEXICO/MEXICO \",\"YUCATAN/MEXICO \",\"VERACRUZ/MINATITLAN\",\"COAHUILA/TORREON \",\"VERACRUZ/XALAPA \",\"CHIHUAHUA/CD. DELICIAS \",\"CHIHUAHUA/CHIHUAHUA\",\"DURANGO/DURANGO\",\"CD MEXICO/MEXICO \",\"NUEVO LEON/MONTERREY \",\"SONORA/NOGALES\",\"QUERETARO /QUERETARO \",\"SAN LUIS POTOSI/S L P \",\"B. C. /TIJUANA \",\"COAHUILA/TORREON \",\"CD MEXICO/MEXICO \",\"EDO DE MEXICO/NAUCALPAN \",\"EDO DE MEXICO/NEZAHUALCOYOTL\",\"EDO DE MEXICO/TLANEPANTLA\",\"EDO DE MEXICO/TULTITLAN \",\"OAXACA/TUXTEPEC\",\"TABASCO/VILLAHERMOSA\",\"GUANAJUATO /CELAYA \",\"SONORA/HERMOSILLO\",\"GUANAJUATO /IRAPUATO \",\"CD MEXICO/MEXICO \",\"EDO DE MEXICO/MEXICO \",\"NUEVO LEON/MONTERREY \",\"EDO DE MEXICO/NEZAHUALCOYOTL\",\"TAMAULIPAS/NUEVO LAREDO\",\"PUEBLA /PUEBLA \",\"VERACRUZ/QUERETARO \",\"QUERETARO /SALAMANCA \",\"COAHUILA/SALTILLO\",\"TAMAULIPAS/TAMPICO \",\"EDO DE MEXICO/TEXCOCO\",\"EDO DE MEXICO/TLANEPANTLA\",\"EDO DE MEXICO/TORREON \",\"SINALOA/CULIACAN \",\"EDO DE MEXICO/NAUCALPAN \",\"CD MEXICO/MEXICO \",\"NUEVO LEON/MONTERREY \",\"EDO DE MEXICO/NAUCALPAN \",\"OAXACA/OAXACA\",\"EDO DE MEXICO/TULTITLAN \",\"TABASCO/VILLAHERMOSA\",\"VERACRUZ/BOCA DEL RIO \",\"GUANAJUATO /CELAYA \",\"EDO DE MEXICO/CUAUTITLAN\",\"SINALOA/CULIACAN \",\"JALISCO /GUADALAJARA \",\"GUANAJUATO /GUANAJUATO \",\"SONORA/HERMOSILLO\",\"EDO DE MEXICO/LOS REYES TEXCOCO\",\"SINALOA/MAZATLAN \",\"CD MEXICO/MEXICO \",\"EDO DE MEXICO/MEXICO \",\"COAHUILA/MONCLOVA\",\"NUEVO LEON/MONTERREY \",\"EDO DE MEXICO/NAUCALPAN \",\"EDO DE MEXICO/NEZAHUALCOYOTL\",\"PUEBLA /PUEBLA \",\"TAMAULIPAS/REYNOSA\",\"SAN LUIS POTOSI/S L P \",\"EDO DE MEXICO/TLANEPANTLA\",\"EDO DE MEXICO/TOLUCA\",\"COAHUILA/TORREON \",\"VERACRUZ/VERACRUZ\",\"EDO DE MEXICO/XALOSTOC\",\"CD MEXICO/MEXICO \",\"CD MEXICO/MEXICO \",\"EDO DE MEXICO/TLANEPANTLA\",\"SONORA/GUAYMAS\",\"SONORA/HERMOSILLO\",\"SINALOA/LOS MOCHIS \",\"YUCATAN/MERIDA \",\"CD MEXICO/MEXICO \",\"NUEVO LEON/MONTERREY \",\"GUANAJUATO /LEON \",\"CD MEXICO/MEXICO \",\"EDO DE MEXICO/MEXICO \",\"GUANAJUATO /MEXICO \",\"YUCATAN/MEXICO \",\"NUEVO LEON/MONTERREY \",\"EDO DE MEXICO/NEZAHUALCOYOTL\",\"QUERETARO /QUERETARO \",\"GUANAJUATO /TLANEPANTLA\",\"EDO DE MEXICO/TULPETLAC\",\"VERACRUZ/VERACRUZ\",\"TABASCO/VILLAHERMOSA\",\"VERACRUZ\",\"CAMPECHE\",\"CHIHUAHUA\",\"GUANAJUATO \",\"EDO DE MEXICO\",\"CHIHUAHUA\",\"VERACRUZ\",\"EDO DE MEXICO\",\"SINALOA\",\"DURANGO\",\"EDO DE MEXICO\",\"DURANGO\",\"JALISCO \",\"GUANAJUATO \",\"SONORA\",\"SONORA\",\"GUANAJUATO \",\"GUANAJUATO \",\"EDO DE MEXICO\",\"SINALOA\",\"EDO DE MEXICO\",\"SINALOA\",\"YUCATAN\",\"CD MEXICO\",\"EDO DE MEXICO\",\"GUANAJUATO \",\"YUCATAN\",\"VERACRUZ\",\"COAHUILA\",\"NUEVO LEON\",\"EDO DE MEXICO\",\"EDO DE MEXICO\",\"SONORA\",\"TAMAULIPAS\",\"OAXACA\",\"PUEBLA \",\"QUERETARO \",\"VERACRUZ\",\"TAMAULIPAS\",\"SAN LUIS POTOSI\",\"QUERETARO \",\"COAHUILA\",\"TAMAULIPAS\",\"EDO DE MEXICO\",\"B. C. \",\"EDO DE MEXICO\",\"GUANAJUATO \",\"EDO DE MEXICO\",\"COAHUILA\",\"EDO DE MEXICO\",\"EDO DE MEXICO\",\"EDO DE MEXICO\",\"OAXACA\",\"CHIAPAS\",\"VERACRUZ\",\"TABASCO\",\"VERACRUZ\",\"EDO DE MEXICO\",\"\",\"\",\"\",\"\",\"\",\"\",\"\",\"\",\"\",\"\",\"\",\"\",\"\",\"\",\"\",\"\",\"\",\"\",\"\",\"\",\"\"],\"values\":[1,1,1,1,1,1,9,2,1,1,2,2,1,1,10,2,1,1,4,1,1,3,1,1,2,3,1,1,1,1,1,1,2,1,1,1,1,1,1,1,4,1,1,1,1,3,1,1,1,2,2,1,3,7,1,1,1,1,1,1,1,1,3,1,1,1,1,1,1,1,1,1,1,1,1,1,1,1,1,1,1,1,1,1,1,1,2,1,2,1,1,1,1,1,1,1,1,1,1,1,1,1,1,1,1,1,1,1,1,1,1,3,1,1,1,1,1,1,1,1,1,1,1,1,1,1,3,1,1,1,9,1,2,1,1,1,1,2,2,1,1,1,10,1,1,1,1,1,1,1,2,1,1,1,1,1,1,4,1,1,3,1,1,1,1,1,2,3,1,1,1,1,1,1,1,1,1,1,1,1,1,1,2,1,1,1,1,1,1,1,1,1,1,1,1,1,1,4,1,1,2,1,1,1,1,1,3,1,2,3,1,1,2,2,1,1,1,1,1,1,3,7,1,1,1,1,1,1,1,1,1,1,1,1,1,2,1,5,1,2,2,1,1,1,1,1,1,4,2,3,1,1,1,1,1,49,5,1,2,1,1,7,5,4,1,2,1,3,3,1,1,2,1,1,1,3,1,11,1,1,5,1,1,2,2,2,4,3,1,1,1,1,49,2,6,7,2,40,10,1,7,3,3,4,2,4,6,3,4,9,3],\"type\":\"treemap\"}],                        {\"template\":{\"data\":{\"bar\":[{\"error_x\":{\"color\":\"#2a3f5f\"},\"error_y\":{\"color\":\"#2a3f5f\"},\"marker\":{\"line\":{\"color\":\"#E5ECF6\",\"width\":0.5},\"pattern\":{\"fillmode\":\"overlay\",\"size\":10,\"solidity\":0.2}},\"type\":\"bar\"}],\"barpolar\":[{\"marker\":{\"line\":{\"color\":\"#E5ECF6\",\"width\":0.5},\"pattern\":{\"fillmode\":\"overlay\",\"size\":10,\"solidity\":0.2}},\"type\":\"barpolar\"}],\"carpet\":[{\"aaxis\":{\"endlinecolor\":\"#2a3f5f\",\"gridcolor\":\"white\",\"linecolor\":\"white\",\"minorgridcolor\":\"white\",\"startlinecolor\":\"#2a3f5f\"},\"baxis\":{\"endlinecolor\":\"#2a3f5f\",\"gridcolor\":\"white\",\"linecolor\":\"white\",\"minorgridcolor\":\"white\",\"startlinecolor\":\"#2a3f5f\"},\"type\":\"carpet\"}],\"choropleth\":[{\"colorbar\":{\"outlinewidth\":0,\"ticks\":\"\"},\"type\":\"choropleth\"}],\"contour\":[{\"colorbar\":{\"outlinewidth\":0,\"ticks\":\"\"},\"colorscale\":[[0.0,\"#0d0887\"],[0.1111111111111111,\"#46039f\"],[0.2222222222222222,\"#7201a8\"],[0.3333333333333333,\"#9c179e\"],[0.4444444444444444,\"#bd3786\"],[0.5555555555555556,\"#d8576b\"],[0.6666666666666666,\"#ed7953\"],[0.7777777777777778,\"#fb9f3a\"],[0.8888888888888888,\"#fdca26\"],[1.0,\"#f0f921\"]],\"type\":\"contour\"}],\"contourcarpet\":[{\"colorbar\":{\"outlinewidth\":0,\"ticks\":\"\"},\"type\":\"contourcarpet\"}],\"heatmap\":[{\"colorbar\":{\"outlinewidth\":0,\"ticks\":\"\"},\"colorscale\":[[0.0,\"#0d0887\"],[0.1111111111111111,\"#46039f\"],[0.2222222222222222,\"#7201a8\"],[0.3333333333333333,\"#9c179e\"],[0.4444444444444444,\"#bd3786\"],[0.5555555555555556,\"#d8576b\"],[0.6666666666666666,\"#ed7953\"],[0.7777777777777778,\"#fb9f3a\"],[0.8888888888888888,\"#fdca26\"],[1.0,\"#f0f921\"]],\"type\":\"heatmap\"}],\"heatmapgl\":[{\"colorbar\":{\"outlinewidth\":0,\"ticks\":\"\"},\"colorscale\":[[0.0,\"#0d0887\"],[0.1111111111111111,\"#46039f\"],[0.2222222222222222,\"#7201a8\"],[0.3333333333333333,\"#9c179e\"],[0.4444444444444444,\"#bd3786\"],[0.5555555555555556,\"#d8576b\"],[0.6666666666666666,\"#ed7953\"],[0.7777777777777778,\"#fb9f3a\"],[0.8888888888888888,\"#fdca26\"],[1.0,\"#f0f921\"]],\"type\":\"heatmapgl\"}],\"histogram\":[{\"marker\":{\"pattern\":{\"fillmode\":\"overlay\",\"size\":10,\"solidity\":0.2}},\"type\":\"histogram\"}],\"histogram2d\":[{\"colorbar\":{\"outlinewidth\":0,\"ticks\":\"\"},\"colorscale\":[[0.0,\"#0d0887\"],[0.1111111111111111,\"#46039f\"],[0.2222222222222222,\"#7201a8\"],[0.3333333333333333,\"#9c179e\"],[0.4444444444444444,\"#bd3786\"],[0.5555555555555556,\"#d8576b\"],[0.6666666666666666,\"#ed7953\"],[0.7777777777777778,\"#fb9f3a\"],[0.8888888888888888,\"#fdca26\"],[1.0,\"#f0f921\"]],\"type\":\"histogram2d\"}],\"histogram2dcontour\":[{\"colorbar\":{\"outlinewidth\":0,\"ticks\":\"\"},\"colorscale\":[[0.0,\"#0d0887\"],[0.1111111111111111,\"#46039f\"],[0.2222222222222222,\"#7201a8\"],[0.3333333333333333,\"#9c179e\"],[0.4444444444444444,\"#bd3786\"],[0.5555555555555556,\"#d8576b\"],[0.6666666666666666,\"#ed7953\"],[0.7777777777777778,\"#fb9f3a\"],[0.8888888888888888,\"#fdca26\"],[1.0,\"#f0f921\"]],\"type\":\"histogram2dcontour\"}],\"mesh3d\":[{\"colorbar\":{\"outlinewidth\":0,\"ticks\":\"\"},\"type\":\"mesh3d\"}],\"parcoords\":[{\"line\":{\"colorbar\":{\"outlinewidth\":0,\"ticks\":\"\"}},\"type\":\"parcoords\"}],\"pie\":[{\"automargin\":true,\"type\":\"pie\"}],\"scatter\":[{\"marker\":{\"colorbar\":{\"outlinewidth\":0,\"ticks\":\"\"}},\"type\":\"scatter\"}],\"scatter3d\":[{\"line\":{\"colorbar\":{\"outlinewidth\":0,\"ticks\":\"\"}},\"marker\":{\"colorbar\":{\"outlinewidth\":0,\"ticks\":\"\"}},\"type\":\"scatter3d\"}],\"scattercarpet\":[{\"marker\":{\"colorbar\":{\"outlinewidth\":0,\"ticks\":\"\"}},\"type\":\"scattercarpet\"}],\"scattergeo\":[{\"marker\":{\"colorbar\":{\"outlinewidth\":0,\"ticks\":\"\"}},\"type\":\"scattergeo\"}],\"scattergl\":[{\"marker\":{\"colorbar\":{\"outlinewidth\":0,\"ticks\":\"\"}},\"type\":\"scattergl\"}],\"scattermapbox\":[{\"marker\":{\"colorbar\":{\"outlinewidth\":0,\"ticks\":\"\"}},\"type\":\"scattermapbox\"}],\"scatterpolar\":[{\"marker\":{\"colorbar\":{\"outlinewidth\":0,\"ticks\":\"\"}},\"type\":\"scatterpolar\"}],\"scatterpolargl\":[{\"marker\":{\"colorbar\":{\"outlinewidth\":0,\"ticks\":\"\"}},\"type\":\"scatterpolargl\"}],\"scatterternary\":[{\"marker\":{\"colorbar\":{\"outlinewidth\":0,\"ticks\":\"\"}},\"type\":\"scatterternary\"}],\"surface\":[{\"colorbar\":{\"outlinewidth\":0,\"ticks\":\"\"},\"colorscale\":[[0.0,\"#0d0887\"],[0.1111111111111111,\"#46039f\"],[0.2222222222222222,\"#7201a8\"],[0.3333333333333333,\"#9c179e\"],[0.4444444444444444,\"#bd3786\"],[0.5555555555555556,\"#d8576b\"],[0.6666666666666666,\"#ed7953\"],[0.7777777777777778,\"#fb9f3a\"],[0.8888888888888888,\"#fdca26\"],[1.0,\"#f0f921\"]],\"type\":\"surface\"}],\"table\":[{\"cells\":{\"fill\":{\"color\":\"#EBF0F8\"},\"line\":{\"color\":\"white\"}},\"header\":{\"fill\":{\"color\":\"#C8D4E3\"},\"line\":{\"color\":\"white\"}},\"type\":\"table\"}]},\"layout\":{\"annotationdefaults\":{\"arrowcolor\":\"#2a3f5f\",\"arrowhead\":0,\"arrowwidth\":1},\"autotypenumbers\":\"strict\",\"coloraxis\":{\"colorbar\":{\"outlinewidth\":0,\"ticks\":\"\"}},\"colorscale\":{\"diverging\":[[0,\"#8e0152\"],[0.1,\"#c51b7d\"],[0.2,\"#de77ae\"],[0.3,\"#f1b6da\"],[0.4,\"#fde0ef\"],[0.5,\"#f7f7f7\"],[0.6,\"#e6f5d0\"],[0.7,\"#b8e186\"],[0.8,\"#7fbc41\"],[0.9,\"#4d9221\"],[1,\"#276419\"]],\"sequential\":[[0.0,\"#0d0887\"],[0.1111111111111111,\"#46039f\"],[0.2222222222222222,\"#7201a8\"],[0.3333333333333333,\"#9c179e\"],[0.4444444444444444,\"#bd3786\"],[0.5555555555555556,\"#d8576b\"],[0.6666666666666666,\"#ed7953\"],[0.7777777777777778,\"#fb9f3a\"],[0.8888888888888888,\"#fdca26\"],[1.0,\"#f0f921\"]],\"sequentialminus\":[[0.0,\"#0d0887\"],[0.1111111111111111,\"#46039f\"],[0.2222222222222222,\"#7201a8\"],[0.3333333333333333,\"#9c179e\"],[0.4444444444444444,\"#bd3786\"],[0.5555555555555556,\"#d8576b\"],[0.6666666666666666,\"#ed7953\"],[0.7777777777777778,\"#fb9f3a\"],[0.8888888888888888,\"#fdca26\"],[1.0,\"#f0f921\"]]},\"colorway\":[\"#636efa\",\"#EF553B\",\"#00cc96\",\"#ab63fa\",\"#FFA15A\",\"#19d3f3\",\"#FF6692\",\"#B6E880\",\"#FF97FF\",\"#FECB52\"],\"font\":{\"color\":\"#2a3f5f\"},\"geo\":{\"bgcolor\":\"white\",\"lakecolor\":\"white\",\"landcolor\":\"#E5ECF6\",\"showlakes\":true,\"showland\":true,\"subunitcolor\":\"white\"},\"hoverlabel\":{\"align\":\"left\"},\"hovermode\":\"closest\",\"mapbox\":{\"style\":\"light\"},\"paper_bgcolor\":\"white\",\"plot_bgcolor\":\"#E5ECF6\",\"polar\":{\"angularaxis\":{\"gridcolor\":\"white\",\"linecolor\":\"white\",\"ticks\":\"\"},\"bgcolor\":\"#E5ECF6\",\"radialaxis\":{\"gridcolor\":\"white\",\"linecolor\":\"white\",\"ticks\":\"\"}},\"scene\":{\"xaxis\":{\"backgroundcolor\":\"#E5ECF6\",\"gridcolor\":\"white\",\"gridwidth\":2,\"linecolor\":\"white\",\"showbackground\":true,\"ticks\":\"\",\"zerolinecolor\":\"white\"},\"yaxis\":{\"backgroundcolor\":\"#E5ECF6\",\"gridcolor\":\"white\",\"gridwidth\":2,\"linecolor\":\"white\",\"showbackground\":true,\"ticks\":\"\",\"zerolinecolor\":\"white\"},\"zaxis\":{\"backgroundcolor\":\"#E5ECF6\",\"gridcolor\":\"white\",\"gridwidth\":2,\"linecolor\":\"white\",\"showbackground\":true,\"ticks\":\"\",\"zerolinecolor\":\"white\"}},\"shapedefaults\":{\"line\":{\"color\":\"#2a3f5f\"}},\"ternary\":{\"aaxis\":{\"gridcolor\":\"white\",\"linecolor\":\"white\",\"ticks\":\"\"},\"baxis\":{\"gridcolor\":\"white\",\"linecolor\":\"white\",\"ticks\":\"\"},\"bgcolor\":\"#E5ECF6\",\"caxis\":{\"gridcolor\":\"white\",\"linecolor\":\"white\",\"ticks\":\"\"}},\"title\":{\"x\":0.05},\"xaxis\":{\"automargin\":true,\"gridcolor\":\"white\",\"linecolor\":\"white\",\"ticks\":\"\",\"title\":{\"standoff\":15},\"zerolinecolor\":\"white\",\"zerolinewidth\":2},\"yaxis\":{\"automargin\":true,\"gridcolor\":\"white\",\"linecolor\":\"white\",\"ticks\":\"\",\"title\":{\"standoff\":15},\"zerolinecolor\":\"white\",\"zerolinewidth\":2}}},\"legend\":{\"tracegroupgap\":0},\"margin\":{\"t\":60}},                        {\"responsive\": true}                    ).then(function(){\n",
              "                            \n",
              "var gd = document.getElementById('43f46418-1486-4945-9de1-a89eb415ada0');\n",
              "var x = new MutationObserver(function (mutations, observer) {{\n",
              "        var display = window.getComputedStyle(gd).display;\n",
              "        if (!display || display === 'none') {{\n",
              "            console.log([gd, 'removed!']);\n",
              "            Plotly.purge(gd);\n",
              "            observer.disconnect();\n",
              "        }}\n",
              "}});\n",
              "\n",
              "// Listen for the removal of the full notebook cells\n",
              "var notebookContainer = gd.closest('#notebook-container');\n",
              "if (notebookContainer) {{\n",
              "    x.observe(notebookContainer, {childList: true});\n",
              "}}\n",
              "\n",
              "// Listen for the clearing of the current output cell\n",
              "var outputEl = gd.closest('.output');\n",
              "if (outputEl) {{\n",
              "    x.observe(outputEl, {childList: true});\n",
              "}}\n",
              "\n",
              "                        })                };                            </script>        </div>\n",
              "</body>\n",
              "</html>"
            ]
          },
          "metadata": {}
        }
      ]
    },
    {
      "cell_type": "code",
      "source": [
        "df_grouped = df_irwin.groupby(\"GUIA\")[['CLIENTE', 'DIAS_EMBARQUE', 'N_PIEZAS','IMPORTE_FACTURA','ESTADO','LINEA_TRANSPORTE','TIPO_UNIDAD']].max()"
      ],
      "metadata": {
        "id": "Bizq1mSN-Yq4"
      },
      "execution_count": null,
      "outputs": []
    },
    {
      "cell_type": "code",
      "source": [
        "cd_mexico = df_grouped[df_grouped['ESTADO'] == 'CD MEXICO']\n",
        "cd_mexico.head(5)"
      ],
      "metadata": {
        "colab": {
          "base_uri": "https://localhost:8080/",
          "height": 238
        },
        "id": "5eNHepRo-5KH",
        "outputId": "43a2eb02-e49c-47d6-bf0e-548b0e47251c"
      },
      "execution_count": null,
      "outputs": [
        {
          "output_type": "execute_result",
          "data": {
            "text/plain": [
              "                           CLIENTE  DIAS_EMBARQUE  N_PIEZAS  IMPORTE_FACTURA  \\\n",
              "GUIA                                                                           \n",
              "1409                    LEON WEILL              4       320            25900   \n",
              "1412                    HOME DEPOT              3       362            14104   \n",
              "1442           FERRETERIA LA LIBRA             28      2826            59891   \n",
              "1443           FERRETERIA LA LIBRA             28      4593           102586   \n",
              "1449  TORNIHERRAMIENTAS AUTOMOTRIZ              5       681            18689   \n",
              "\n",
              "         ESTADO       LINEA_TRANSPORTE TIPO_UNIDAD  \n",
              "GUIA                                                \n",
              "1409  CD MEXICO    TRANSPORTES SANCHEZ   CAMIONETA  \n",
              "1412  CD MEXICO  TRANSPORTES RODRIGUEZ   CAMIONETA  \n",
              "1442  CD MEXICO     TRANSPORTES CORTES   CAMIONETA  \n",
              "1443  CD MEXICO      TRANSPORTES MEJIA   CAMIONETA  \n",
              "1449  CD MEXICO   TRANSPORTES OLIVARES   CAMIONETA  "
            ],
            "text/html": [
              "\n",
              "  <div id=\"df-0f74e996-5d93-4837-b3e2-18567339b50d\">\n",
              "    <div class=\"colab-df-container\">\n",
              "      <div>\n",
              "<style scoped>\n",
              "    .dataframe tbody tr th:only-of-type {\n",
              "        vertical-align: middle;\n",
              "    }\n",
              "\n",
              "    .dataframe tbody tr th {\n",
              "        vertical-align: top;\n",
              "    }\n",
              "\n",
              "    .dataframe thead th {\n",
              "        text-align: right;\n",
              "    }\n",
              "</style>\n",
              "<table border=\"1\" class=\"dataframe\">\n",
              "  <thead>\n",
              "    <tr style=\"text-align: right;\">\n",
              "      <th></th>\n",
              "      <th>CLIENTE</th>\n",
              "      <th>DIAS_EMBARQUE</th>\n",
              "      <th>N_PIEZAS</th>\n",
              "      <th>IMPORTE_FACTURA</th>\n",
              "      <th>ESTADO</th>\n",
              "      <th>LINEA_TRANSPORTE</th>\n",
              "      <th>TIPO_UNIDAD</th>\n",
              "    </tr>\n",
              "    <tr>\n",
              "      <th>GUIA</th>\n",
              "      <th></th>\n",
              "      <th></th>\n",
              "      <th></th>\n",
              "      <th></th>\n",
              "      <th></th>\n",
              "      <th></th>\n",
              "      <th></th>\n",
              "    </tr>\n",
              "  </thead>\n",
              "  <tbody>\n",
              "    <tr>\n",
              "      <th>1409</th>\n",
              "      <td>LEON WEILL</td>\n",
              "      <td>4</td>\n",
              "      <td>320</td>\n",
              "      <td>25900</td>\n",
              "      <td>CD MEXICO</td>\n",
              "      <td>TRANSPORTES SANCHEZ</td>\n",
              "      <td>CAMIONETA</td>\n",
              "    </tr>\n",
              "    <tr>\n",
              "      <th>1412</th>\n",
              "      <td>HOME DEPOT</td>\n",
              "      <td>3</td>\n",
              "      <td>362</td>\n",
              "      <td>14104</td>\n",
              "      <td>CD MEXICO</td>\n",
              "      <td>TRANSPORTES RODRIGUEZ</td>\n",
              "      <td>CAMIONETA</td>\n",
              "    </tr>\n",
              "    <tr>\n",
              "      <th>1442</th>\n",
              "      <td>FERRETERIA LA LIBRA</td>\n",
              "      <td>28</td>\n",
              "      <td>2826</td>\n",
              "      <td>59891</td>\n",
              "      <td>CD MEXICO</td>\n",
              "      <td>TRANSPORTES CORTES</td>\n",
              "      <td>CAMIONETA</td>\n",
              "    </tr>\n",
              "    <tr>\n",
              "      <th>1443</th>\n",
              "      <td>FERRETERIA LA LIBRA</td>\n",
              "      <td>28</td>\n",
              "      <td>4593</td>\n",
              "      <td>102586</td>\n",
              "      <td>CD MEXICO</td>\n",
              "      <td>TRANSPORTES MEJIA</td>\n",
              "      <td>CAMIONETA</td>\n",
              "    </tr>\n",
              "    <tr>\n",
              "      <th>1449</th>\n",
              "      <td>TORNIHERRAMIENTAS AUTOMOTRIZ</td>\n",
              "      <td>5</td>\n",
              "      <td>681</td>\n",
              "      <td>18689</td>\n",
              "      <td>CD MEXICO</td>\n",
              "      <td>TRANSPORTES OLIVARES</td>\n",
              "      <td>CAMIONETA</td>\n",
              "    </tr>\n",
              "  </tbody>\n",
              "</table>\n",
              "</div>\n",
              "      <button class=\"colab-df-convert\" onclick=\"convertToInteractive('df-0f74e996-5d93-4837-b3e2-18567339b50d')\"\n",
              "              title=\"Convert this dataframe to an interactive table.\"\n",
              "              style=\"display:none;\">\n",
              "        \n",
              "  <svg xmlns=\"http://www.w3.org/2000/svg\" height=\"24px\"viewBox=\"0 0 24 24\"\n",
              "       width=\"24px\">\n",
              "    <path d=\"M0 0h24v24H0V0z\" fill=\"none\"/>\n",
              "    <path d=\"M18.56 5.44l.94 2.06.94-2.06 2.06-.94-2.06-.94-.94-2.06-.94 2.06-2.06.94zm-11 1L8.5 8.5l.94-2.06 2.06-.94-2.06-.94L8.5 2.5l-.94 2.06-2.06.94zm10 10l.94 2.06.94-2.06 2.06-.94-2.06-.94-.94-2.06-.94 2.06-2.06.94z\"/><path d=\"M17.41 7.96l-1.37-1.37c-.4-.4-.92-.59-1.43-.59-.52 0-1.04.2-1.43.59L10.3 9.45l-7.72 7.72c-.78.78-.78 2.05 0 2.83L4 21.41c.39.39.9.59 1.41.59.51 0 1.02-.2 1.41-.59l7.78-7.78 2.81-2.81c.8-.78.8-2.07 0-2.86zM5.41 20L4 18.59l7.72-7.72 1.47 1.35L5.41 20z\"/>\n",
              "  </svg>\n",
              "      </button>\n",
              "      \n",
              "  <style>\n",
              "    .colab-df-container {\n",
              "      display:flex;\n",
              "      flex-wrap:wrap;\n",
              "      gap: 12px;\n",
              "    }\n",
              "\n",
              "    .colab-df-convert {\n",
              "      background-color: #E8F0FE;\n",
              "      border: none;\n",
              "      border-radius: 50%;\n",
              "      cursor: pointer;\n",
              "      display: none;\n",
              "      fill: #1967D2;\n",
              "      height: 32px;\n",
              "      padding: 0 0 0 0;\n",
              "      width: 32px;\n",
              "    }\n",
              "\n",
              "    .colab-df-convert:hover {\n",
              "      background-color: #E2EBFA;\n",
              "      box-shadow: 0px 1px 2px rgba(60, 64, 67, 0.3), 0px 1px 3px 1px rgba(60, 64, 67, 0.15);\n",
              "      fill: #174EA6;\n",
              "    }\n",
              "\n",
              "    [theme=dark] .colab-df-convert {\n",
              "      background-color: #3B4455;\n",
              "      fill: #D2E3FC;\n",
              "    }\n",
              "\n",
              "    [theme=dark] .colab-df-convert:hover {\n",
              "      background-color: #434B5C;\n",
              "      box-shadow: 0px 1px 3px 1px rgba(0, 0, 0, 0.15);\n",
              "      filter: drop-shadow(0px 1px 2px rgba(0, 0, 0, 0.3));\n",
              "      fill: #FFFFFF;\n",
              "    }\n",
              "  </style>\n",
              "\n",
              "      <script>\n",
              "        const buttonEl =\n",
              "          document.querySelector('#df-0f74e996-5d93-4837-b3e2-18567339b50d button.colab-df-convert');\n",
              "        buttonEl.style.display =\n",
              "          google.colab.kernel.accessAllowed ? 'block' : 'none';\n",
              "\n",
              "        async function convertToInteractive(key) {\n",
              "          const element = document.querySelector('#df-0f74e996-5d93-4837-b3e2-18567339b50d');\n",
              "          const dataTable =\n",
              "            await google.colab.kernel.invokeFunction('convertToInteractive',\n",
              "                                                     [key], {});\n",
              "          if (!dataTable) return;\n",
              "\n",
              "          const docLinkHtml = 'Like what you see? Visit the ' +\n",
              "            '<a target=\"_blank\" href=https://colab.research.google.com/notebooks/data_table.ipynb>data table notebook</a>'\n",
              "            + ' to learn more about interactive tables.';\n",
              "          element.innerHTML = '';\n",
              "          dataTable['output_type'] = 'display_data';\n",
              "          await google.colab.output.renderOutput(dataTable, element);\n",
              "          const docLink = document.createElement('div');\n",
              "          docLink.innerHTML = docLinkHtml;\n",
              "          element.appendChild(docLink);\n",
              "        }\n",
              "      </script>\n",
              "    </div>\n",
              "  </div>\n",
              "  "
            ]
          },
          "metadata": {},
          "execution_count": 62
        }
      ]
    },
    {
      "cell_type": "code",
      "source": [
        "sns.scatterplot(x=cd_mexico['IMPORTE_FACTURA'], y=cd_mexico['N_PIEZAS']);"
      ],
      "metadata": {
        "colab": {
          "base_uri": "https://localhost:8080/",
          "height": 285
        },
        "id": "w_q7QFj2dk0y",
        "outputId": "82044b2d-ba6b-4744-8e03-7e22d53e6345"
      },
      "execution_count": null,
      "outputs": [
        {
          "output_type": "display_data",
          "data": {
            "text/plain": [
              "<Figure size 432x288 with 1 Axes>"
            ],
            "image/png": "[encoded data removed]"
          },
          "metadata": {}
        }
      ]
    },
    {
      "cell_type": "code",
      "source": [
        "plt.figure(figsize=(10, 10))\n",
        "sns.scatterplot(x=cd_mexico['IMPORTE_FACTURA'], y=cd_mexico['N_PIEZAS'], hue=cd_mexico['TIPO_UNIDAD']);"
      ],
      "metadata": {
        "colab": {
          "base_uri": "https://localhost:8080/",
          "height": 611
        },
        "id": "6A3IaFy8fizp",
        "outputId": "1a20f585-cd46-4101-ce8c-8fe3e92be460"
      },
      "execution_count": null,
      "outputs": [
        {
          "output_type": "display_data",
          "data": {
            "text/plain": [
              "<Figure size 720x720 with 1 Axes>"
            ],
            "image/png": "[encoded data removed]"
          },
          "metadata": {}
        }
      ]
    },
    {
      "cell_type": "markdown",
      "source": [
        "## Procesamiento de Lenguaje Natural"
      ],
      "metadata": {
        "id": "3MvL1bsFj85r"
      }
    },
    {
      "cell_type": "code",
      "source": [
        "import nltk\n",
        "import numpy as np"
      ],
      "metadata": {
        "id": "5YjgwXEtjQwf"
      },
      "execution_count": null,
      "outputs": []
    },
    {
      "cell_type": "code",
      "source": [
        "df.head(3)"
      ],
      "metadata": {
        "colab": {
          "base_uri": "https://localhost:8080/"
        },
        "id": "TsFIJAPQlZu1",
        "outputId": "e6d318df-e7a4-4445-9a6f-cab819252513"
      },
      "execution_count": null,
      "outputs": [
        {
          "output_type": "execute_result",
          "data": {
            "text/plain": [
              "NEGOCIO\n",
              "HOGAR                VARGAS\n",
              "IRWIN    TRANSPORTES ZEPEDA\n",
              "Name: LINEA_TRANSPORTE, dtype: object"
            ]
          },
          "metadata": {},
          "execution_count": 69
        }
      ]
    },
    {
      "cell_type": "code",
      "source": [
        "df_3 = df.groupby('CLIENTE')['LINEA_TRANSPORTE'].max()\n",
        "df_3.head()"
      ],
      "metadata": {
        "colab": {
          "base_uri": "https://localhost:8080/"
        },
        "id": "uicZaqYOkB-H",
        "outputId": "914ddaff-bc72-42cd-ec5c-6880b88186ac"
      },
      "execution_count": null,
      "outputs": [
        {
          "output_type": "execute_result",
          "data": {
            "text/plain": [
              "CLIENTE\n",
              "ABASTECEDORA DE SOLDADURAS    TRANSPORTES VALENCIA\n",
              "ACEROS TUCAN                     TRANSPORTES MARSA\n",
              "ACEROS Y REFACC Y HTAS           TRANSPORTES ORTIZ\n",
              "ALBERTO MOLINA                  TRANSPORTES CORTES\n",
              "ALBERTO ROMERO VALADEZ          TRANSPORTES ZEPEDA\n",
              "Name: LINEA_TRANSPORTE, dtype: object"
            ]
          },
          "metadata": {},
          "execution_count": 73
        }
      ]
    },
    {
      "cell_type": "code",
      "source": [
        "df_3.str.lower()\n",
        "df_3"
      ],
      "metadata": {
        "colab": {
          "base_uri": "https://localhost:8080/"
        },
        "id": "k5TVAtcAk-mg",
        "outputId": "0e33b617-e286-4de0-b8bb-db2868b7644e"
      },
      "execution_count": null,
      "outputs": [
        {
          "output_type": "execute_result",
          "data": {
            "text/plain": [
              "CLIENTE\n",
              "ABASTECEDORA DE SOLDADURAS    TRANSPORTES VALENCIA\n",
              "ACEROS TUCAN                     TRANSPORTES MARSA\n",
              "ACEROS Y REFACC Y HTAS           TRANSPORTES ORTIZ\n",
              "ALBERTO MOLINA                  TRANSPORTES CORTES\n",
              "ALBERTO ROMERO VALADEZ          TRANSPORTES ZEPEDA\n",
              "                                      ...         \n",
              "TRAVERS  TOOL                   TRANSPORTES ZEPEDA\n",
              "VAZQUEZ MENDOZA                 TRANSPORTES ZEPEDA\n",
              "VICTOR SANCHEZ                   TRANSPORTES ORTIZ\n",
              "VILCHES FERRETEROS              TRANSPORTES ZEPEDA\n",
              "ZIMAG                              CLIENTE RECOGE \n",
              "Name: LINEA_TRANSPORTE, Length: 202, dtype: object"
            ]
          },
          "metadata": {},
          "execution_count": 75
        }
      ]
    },
    {
      "cell_type": "code",
      "source": [
        "df_3.str.strip()\n",
        "df_3"
      ],
      "metadata": {
        "colab": {
          "base_uri": "https://localhost:8080/"
        },
        "id": "RkTIUn5tmZD2",
        "outputId": "2821bcc5-2165-437d-b34b-a6018731ebbc"
      },
      "execution_count": null,
      "outputs": [
        {
          "output_type": "execute_result",
          "data": {
            "text/plain": [
              "CLIENTE\n",
              "ABASTECEDORA DE SOLDADURAS    TRANSPORTES VALENCIA\n",
              "ACEROS TUCAN                     TRANSPORTES MARSA\n",
              "ACEROS Y REFACC Y HTAS           TRANSPORTES ORTIZ\n",
              "ALBERTO MOLINA                  TRANSPORTES CORTES\n",
              "ALBERTO ROMERO VALADEZ          TRANSPORTES ZEPEDA\n",
              "                                      ...         \n",
              "TRAVERS  TOOL                   TRANSPORTES ZEPEDA\n",
              "VAZQUEZ MENDOZA                 TRANSPORTES ZEPEDA\n",
              "VICTOR SANCHEZ                   TRANSPORTES ORTIZ\n",
              "VILCHES FERRETEROS              TRANSPORTES ZEPEDA\n",
              "ZIMAG                              CLIENTE RECOGE \n",
              "Name: LINEA_TRANSPORTE, Length: 202, dtype: object"
            ]
          },
          "metadata": {},
          "execution_count": 76
        }
      ]
    },
    {
      "cell_type": "code",
      "source": [
        "df_3 = df_3.str.replace('TRANSPORTES', '')\n",
        "df_3"
      ],
      "metadata": {
        "colab": {
          "base_uri": "https://localhost:8080/"
        },
        "id": "lXN3NFVFocVA",
        "outputId": "a69a3ce3-8c63-409a-ec8c-4eb61f054819"
      },
      "execution_count": null,
      "outputs": [
        {
          "output_type": "execute_result",
          "data": {
            "text/plain": [
              "CLIENTE\n",
              "ABASTECEDORA DE SOLDADURAS           VALENCIA\n",
              "ACEROS TUCAN                            MARSA\n",
              "ACEROS Y REFACC Y HTAS                  ORTIZ\n",
              "ALBERTO MOLINA                         CORTES\n",
              "ALBERTO ROMERO VALADEZ                 ZEPEDA\n",
              "                                   ...       \n",
              "TRAVERS  TOOL                          ZEPEDA\n",
              "VAZQUEZ MENDOZA                        ZEPEDA\n",
              "VICTOR SANCHEZ                          ORTIZ\n",
              "VILCHES FERRETEROS                     ZEPEDA\n",
              "ZIMAG                         CLIENTE RECOGE \n",
              "Name: LINEA_TRANSPORTE, Length: 202, dtype: object"
            ]
          },
          "metadata": {},
          "execution_count": 87
        }
      ]
    },
    {
      "cell_type": "code",
      "source": [
        "nltk.download('punkt')"
      ],
      "metadata": {
        "colab": {
          "base_uri": "https://localhost:8080/"
        },
        "id": "Fl76ZxAdmp5t",
        "outputId": "8c5d1a8c-e475-44d2-ce6a-48eeaba2a1af"
      },
      "execution_count": null,
      "outputs": [
        {
          "output_type": "stream",
          "name": "stdout",
          "text": [
            "[nltk_data] Downloading package punkt to /root/nltk_data...\n",
            "[nltk_data]   Package punkt is already up-to-date!\n"
          ]
        },
        {
          "output_type": "execute_result",
          "data": {
            "text/plain": [
              "True"
            ]
          },
          "metadata": {},
          "execution_count": 88
        }
      ]
    },
    {
      "cell_type": "code",
      "source": [
        "tokenized = df_3.apply(nltk.word_tokenize)\n",
        "tokenized"
      ],
      "metadata": {
        "colab": {
          "base_uri": "https://localhost:8080/"
        },
        "id": "w8sZkaOpmyoQ",
        "outputId": "d88adc21-2b51-48ae-8301-480965bb588d"
      },
      "execution_count": null,
      "outputs": [
        {
          "output_type": "execute_result",
          "data": {
            "text/plain": [
              "CLIENTE\n",
              "ABASTECEDORA DE SOLDADURAS           [VALENCIA]\n",
              "ACEROS TUCAN                            [MARSA]\n",
              "ACEROS Y REFACC Y HTAS                  [ORTIZ]\n",
              "ALBERTO MOLINA                         [CORTES]\n",
              "ALBERTO ROMERO VALADEZ                 [ZEPEDA]\n",
              "                                    ...        \n",
              "TRAVERS  TOOL                          [ZEPEDA]\n",
              "VAZQUEZ MENDOZA                        [ZEPEDA]\n",
              "VICTOR SANCHEZ                          [ORTIZ]\n",
              "VILCHES FERRETEROS                     [ZEPEDA]\n",
              "ZIMAG                         [CLIENTE, RECOGE]\n",
              "Name: LINEA_TRANSPORTE, Length: 202, dtype: object"
            ]
          },
          "metadata": {},
          "execution_count": 89
        }
      ]
    },
    {
      "cell_type": "code",
      "source": [
        "all_words = tokenized.sum()\n",
        "all_words"
      ],
      "metadata": {
        "colab": {
          "base_uri": "https://localhost:8080/"
        },
        "id": "6HVj776Hm7X4",
        "outputId": "40e21ba6-8f47-47ce-fcdc-fc19ab2d72fd"
      },
      "execution_count": null,
      "outputs": [
        {
          "output_type": "execute_result",
          "data": {
            "text/plain": [
              "['VALENCIA',\n",
              " 'MARSA',\n",
              " 'ORTIZ',\n",
              " 'CORTES',\n",
              " 'ZEPEDA',\n",
              " 'OLIVARES',\n",
              " 'LEDESMA',\n",
              " 'ZEPEDA',\n",
              " 'PEREZ',\n",
              " 'VALENCIA',\n",
              " 'MEJIA',\n",
              " 'CLIENTE',\n",
              " 'RECOGE',\n",
              " 'CLIENTE',\n",
              " 'RECOGE',\n",
              " 'QUINTANAR',\n",
              " 'QUINTANAR',\n",
              " 'RUIZ',\n",
              " 'ZEPEDA',\n",
              " 'ORTIZ',\n",
              " 'QUINTANAR',\n",
              " 'PEREZ',\n",
              " 'MEJIA',\n",
              " 'SANCHEZ',\n",
              " 'SANCHEZ',\n",
              " 'QUINTANAR',\n",
              " 'TIGRE',\n",
              " 'ORTIZ',\n",
              " 'VALENCIA',\n",
              " 'OLIVARES',\n",
              " 'RODRIGUEZ',\n",
              " 'SANCHEZ',\n",
              " 'MARSA',\n",
              " 'OLIVARES',\n",
              " 'QUINTANAR',\n",
              " 'OLIVARES',\n",
              " 'MARSA',\n",
              " 'MARSA',\n",
              " 'MARSA',\n",
              " 'QUINTANAR',\n",
              " 'SANCHEZ',\n",
              " 'VARGAS',\n",
              " 'OLIVARES',\n",
              " 'OLIVARES',\n",
              " 'RUIZ',\n",
              " 'QUINTANAR',\n",
              " 'QUINTANAR',\n",
              " 'TIGRE',\n",
              " 'TIGRE',\n",
              " 'MEJIA',\n",
              " 'QUINTANAR',\n",
              " 'RUIZ',\n",
              " 'QUINTANAR',\n",
              " 'ORTIZ',\n",
              " 'SANCHEZ',\n",
              " 'QUINTANAR',\n",
              " 'PEREZ',\n",
              " 'SANCHEZ',\n",
              " 'MARSA',\n",
              " 'ZEPEDA',\n",
              " 'ORTIZ',\n",
              " 'SANCHEZ',\n",
              " 'VALENCIA',\n",
              " 'QUINTANAR',\n",
              " 'ZEPEDA',\n",
              " 'LEDESMA',\n",
              " 'PEREZ',\n",
              " 'PARTICULAR',\n",
              " 'ORTIZ',\n",
              " 'SANCHEZ',\n",
              " 'TIGRE',\n",
              " 'SANCHEZ',\n",
              " 'VALENCIA',\n",
              " 'MARSA',\n",
              " 'TIGRE',\n",
              " 'PEREZ',\n",
              " 'PEREZ',\n",
              " 'RUIZ',\n",
              " 'ZEPEDA',\n",
              " 'MARSA',\n",
              " 'CORTES',\n",
              " 'OLIVARES',\n",
              " 'OLIVARES',\n",
              " 'MARSA',\n",
              " 'QUINTANAR',\n",
              " 'SANCHEZ',\n",
              " 'ORTIZ',\n",
              " 'SANCHEZ',\n",
              " 'SANCHEZ',\n",
              " 'ZEPEDA',\n",
              " 'SANCHEZ',\n",
              " 'SANCHEZ',\n",
              " 'QUINTANAR',\n",
              " 'SANCHEZ',\n",
              " 'OLIVARES',\n",
              " 'MARSA',\n",
              " 'ZEPEDA',\n",
              " 'SANCHEZ',\n",
              " 'QUINTANAR',\n",
              " 'SANCHEZ',\n",
              " 'ZEPEDA',\n",
              " 'MARSA',\n",
              " 'SANCHEZ',\n",
              " 'RODRIGUEZ',\n",
              " 'ZEPEDA',\n",
              " 'TIGRE',\n",
              " 'CLIENTE',\n",
              " 'RECOGE',\n",
              " 'SANCHEZ',\n",
              " 'TIGRE',\n",
              " 'SANCHEZ',\n",
              " 'MARSA',\n",
              " 'PEREZ',\n",
              " 'TIGRE',\n",
              " 'ZEPEDA',\n",
              " 'MARSA',\n",
              " 'SANCHEZ',\n",
              " 'PEREZ',\n",
              " 'SANDY',\n",
              " 'ZEPEDA',\n",
              " 'OLIVARES',\n",
              " 'ORTIZ',\n",
              " 'ZEPEDA',\n",
              " 'ORTIZ',\n",
              " 'OLIVARES',\n",
              " 'ZEPEDA',\n",
              " 'TIGRE',\n",
              " 'SANCHEZ',\n",
              " 'QUINTANAR',\n",
              " 'SANCHEZ',\n",
              " 'MEJIA',\n",
              " 'MARSA',\n",
              " 'SANCHEZ',\n",
              " 'QUINTANAR',\n",
              " 'SANCHEZ',\n",
              " 'VALENCIA',\n",
              " 'ZEPEDA',\n",
              " 'SANCHEZ',\n",
              " 'ZEPEDA',\n",
              " 'RUIZ',\n",
              " 'MARSA',\n",
              " 'OLIVARES',\n",
              " 'MEJIA',\n",
              " 'SANCHEZ',\n",
              " 'SANCHEZ',\n",
              " 'MARSA',\n",
              " 'LEDESMA',\n",
              " 'RODRIGUEZ',\n",
              " 'MEJIA',\n",
              " 'CHAVARRIA',\n",
              " 'PEREZ',\n",
              " 'ZEPEDA',\n",
              " 'QUINTANAR',\n",
              " 'TIGRE',\n",
              " 'RUIZ',\n",
              " 'ZEPEDA',\n",
              " 'PEREZ',\n",
              " 'ZEPEDA',\n",
              " 'QUINTANAR',\n",
              " 'OLIVARES',\n",
              " 'RUIZ',\n",
              " 'SANCHEZ',\n",
              " 'MARSA',\n",
              " 'SANCHEZ',\n",
              " 'ORTIZ',\n",
              " 'MARSA',\n",
              " 'RUIZ',\n",
              " 'LEDESMA',\n",
              " 'ORTIZ',\n",
              " 'MEJIA',\n",
              " 'OLIVARES',\n",
              " 'ORTIZ',\n",
              " 'OLIVARES',\n",
              " 'MARSA',\n",
              " 'QUINTANAR',\n",
              " 'PEREZ',\n",
              " 'MEJIA',\n",
              " 'MARSA',\n",
              " 'VALENCIA',\n",
              " 'MARSA',\n",
              " 'SANCHEZ',\n",
              " 'SANCHEZ',\n",
              " 'OLIVARES',\n",
              " 'MEJIA',\n",
              " 'PEREZ',\n",
              " 'QUINTANAR',\n",
              " 'GRCIA',\n",
              " 'TIGRE',\n",
              " 'OLIVARES',\n",
              " 'VALENCIA',\n",
              " 'ZEPEDA',\n",
              " 'SANCHEZ',\n",
              " 'VALENCIA',\n",
              " 'PEREZ',\n",
              " 'SANCHEZ',\n",
              " 'PEREZ',\n",
              " 'ZEPEDA',\n",
              " 'CORTES',\n",
              " 'MARSA',\n",
              " 'CLIENTE',\n",
              " 'RECOGE',\n",
              " 'ZEPEDA',\n",
              " 'ZEPEDA',\n",
              " 'ORTIZ',\n",
              " 'ZEPEDA',\n",
              " 'CLIENTE',\n",
              " 'RECOGE']"
            ]
          },
          "metadata": {},
          "execution_count": 90
        }
      ]
    },
    {
      "cell_type": "code",
      "source": [
        "text = nltk.Text(all_words)\n",
        "text"
      ],
      "metadata": {
        "colab": {
          "base_uri": "https://localhost:8080/"
        },
        "id": "17JpM5T7m-qZ",
        "outputId": "e67277fb-a60d-41f2-8d22-4f0c7b5027e8"
      },
      "execution_count": null,
      "outputs": [
        {
          "output_type": "execute_result",
          "data": {
            "text/plain": [
              "<Text: VALENCIA MARSA ORTIZ CORTES ZEPEDA OLIVARES LEDESMA ZEPEDA...>"
            ]
          },
          "metadata": {},
          "execution_count": 91
        }
      ]
    },
    {
      "cell_type": "code",
      "source": [
        "text.concordance(\"TIGRE\", lines=20)"
      ],
      "metadata": {
        "colab": {
          "base_uri": "https://localhost:8080/"
        },
        "id": "uX-diRdqnIET",
        "outputId": "858fd94a-b95e-45a8-f446-1bf975b3766c"
      },
      "execution_count": null,
      "outputs": [
        {
          "output_type": "stream",
          "name": "stdout",
          "text": [
            "Displaying 11 of 11 matches:\n",
            "EREZ MEJIA SANCHEZ SANCHEZ QUINTANAR TIGRE ORTIZ VALENCIA OLIVARES RODRIGUEZ SA\n",
            "ES OLIVARES RUIZ QUINTANAR QUINTANAR TIGRE TIGRE MEJIA QUINTANAR RUIZ QUINTANAR\n",
            "VARES RUIZ QUINTANAR QUINTANAR TIGRE TIGRE MEJIA QUINTANAR RUIZ QUINTANAR ORTIZ\n",
            "DESMA PEREZ PARTICULAR ORTIZ SANCHEZ TIGRE SANCHEZ VALENCIA MARSA TIGRE PEREZ P\n",
            "SANCHEZ TIGRE SANCHEZ VALENCIA MARSA TIGRE PEREZ PEREZ RUIZ ZEPEDA MARSA CORTES\n",
            "EPEDA MARSA SANCHEZ RODRIGUEZ ZEPEDA TIGRE CLIENTE RECOGE SANCHEZ TIGRE SANCHEZ\n",
            " ZEPEDA TIGRE CLIENTE RECOGE SANCHEZ TIGRE SANCHEZ MARSA PEREZ TIGRE ZEPEDA MAR\n",
            "GE SANCHEZ TIGRE SANCHEZ MARSA PEREZ TIGRE ZEPEDA MARSA SANCHEZ PEREZ SANDY ZEP\n",
            "S ORTIZ ZEPEDA ORTIZ OLIVARES ZEPEDA TIGRE SANCHEZ QUINTANAR SANCHEZ MEJIA MARS\n",
            "JIA CHAVARRIA PEREZ ZEPEDA QUINTANAR TIGRE RUIZ ZEPEDA PEREZ ZEPEDA QUINTANAR O\n",
            "OLIVARES MEJIA PEREZ QUINTANAR GRCIA TIGRE OLIVARES VALENCIA ZEPEDA SANCHEZ VAL\n"
          ]
        }
      ]
    },
    {
      "cell_type": "code",
      "source": [
        "text.similar(\"TIGRE\")"
      ],
      "metadata": {
        "colab": {
          "base_uri": "https://localhost:8080/"
        },
        "id": "czu9hXGRnRk8",
        "outputId": "38c7fd3c-81cd-4f5a-b609-a44ad6c87bdb"
      },
      "execution_count": null,
      "outputs": [
        {
          "output_type": "stream",
          "name": "stdout",
          "text": [
            "quintanar sanchez marsa ortiz zepeda olivares ruiz sandy grcia\n"
          ]
        }
      ]
    },
    {
      "cell_type": "code",
      "source": [
        "freq_dist = nltk.FreqDist(all_words)\n",
        "\n",
        "print(freq_dist)"
      ],
      "metadata": {
        "colab": {
          "base_uri": "https://localhost:8080/"
        },
        "id": "RXs7X9WnnVAy",
        "outputId": "f495bc95-bcd4-4819-f3ba-ded1a502e0f9"
      },
      "execution_count": null,
      "outputs": [
        {
          "output_type": "stream",
          "name": "stdout",
          "text": [
            "<FreqDist with 21 samples and 207 outcomes>\n"
          ]
        }
      ]
    },
    {
      "cell_type": "code",
      "source": [
        "freq_dist.most_common(20)"
      ],
      "metadata": {
        "colab": {
          "base_uri": "https://localhost:8080/"
        },
        "id": "RSjZxvh9njbj",
        "outputId": "7941ce1e-9478-4130-c166-6b73dc4a1278"
      },
      "execution_count": null,
      "outputs": [
        {
          "output_type": "execute_result",
          "data": {
            "text/plain": [
              "[('SANCHEZ', 34),\n",
              " ('ZEPEDA', 24),\n",
              " ('MARSA', 22),\n",
              " ('QUINTANAR', 21),\n",
              " ('OLIVARES', 17),\n",
              " ('PEREZ', 14),\n",
              " ('ORTIZ', 13),\n",
              " ('TIGRE', 11),\n",
              " ('VALENCIA', 9),\n",
              " ('MEJIA', 9),\n",
              " ('RUIZ', 8),\n",
              " ('CLIENTE', 5),\n",
              " ('RECOGE', 5),\n",
              " ('LEDESMA', 4),\n",
              " ('CORTES', 3),\n",
              " ('RODRIGUEZ', 3),\n",
              " ('VARGAS', 1),\n",
              " ('PARTICULAR', 1),\n",
              " ('SANDY', 1),\n",
              " ('CHAVARRIA', 1)]"
            ]
          },
          "metadata": {},
          "execution_count": 97
        }
      ]
    },
    {
      "cell_type": "code",
      "source": [
        "import numpy as np"
      ],
      "metadata": {
        "id": "GPaAsr2wnpV0"
      },
      "execution_count": null,
      "outputs": []
    },
    {
      "cell_type": "code",
      "source": [
        "most_common_20 = list(map(lambda x: list(x), freq_dist.most_common(20)))\n",
        "most_common_20"
      ],
      "metadata": {
        "colab": {
          "base_uri": "https://localhost:8080/"
        },
        "id": "cRbID3EcpZRg",
        "outputId": "7c39d623-6f7c-45d7-f927-8b9dc150d82f"
      },
      "execution_count": null,
      "outputs": [
        {
          "output_type": "execute_result",
          "data": {
            "text/plain": [
              "[['SANCHEZ', 34],\n",
              " ['ZEPEDA', 24],\n",
              " ['MARSA', 22],\n",
              " ['QUINTANAR', 21],\n",
              " ['OLIVARES', 17],\n",
              " ['PEREZ', 14],\n",
              " ['ORTIZ', 13],\n",
              " ['TIGRE', 11],\n",
              " ['VALENCIA', 9],\n",
              " ['MEJIA', 9],\n",
              " ['RUIZ', 8],\n",
              " ['CLIENTE', 5],\n",
              " ['RECOGE', 5],\n",
              " ['LEDESMA', 4],\n",
              " ['CORTES', 3],\n",
              " ['RODRIGUEZ', 3],\n",
              " ['VARGAS', 1],\n",
              " ['PARTICULAR', 1],\n",
              " ['SANDY', 1],\n",
              " ['CHAVARRIA', 1]]"
            ]
          },
          "metadata": {},
          "execution_count": 99
        }
      ]
    },
    {
      "cell_type": "code",
      "source": [
        "df_4 = pd.DataFrame(most_common_20, columns=['word', 'count'])\n",
        "df_4"
      ],
      "metadata": {
        "colab": {
          "base_uri": "https://localhost:8080/",
          "height": 677
        },
        "id": "F1KktvNSp1B2",
        "outputId": "6acda996-b686-446f-dd30-510e270d5cec"
      },
      "execution_count": null,
      "outputs": [
        {
          "output_type": "execute_result",
          "data": {
            "text/plain": [
              "          word  count\n",
              "0      SANCHEZ     34\n",
              "1       ZEPEDA     24\n",
              "2        MARSA     22\n",
              "3    QUINTANAR     21\n",
              "4     OLIVARES     17\n",
              "5        PEREZ     14\n",
              "6        ORTIZ     13\n",
              "7        TIGRE     11\n",
              "8     VALENCIA      9\n",
              "9        MEJIA      9\n",
              "10        RUIZ      8\n",
              "11     CLIENTE      5\n",
              "12      RECOGE      5\n",
              "13     LEDESMA      4\n",
              "14      CORTES      3\n",
              "15   RODRIGUEZ      3\n",
              "16      VARGAS      1\n",
              "17  PARTICULAR      1\n",
              "18       SANDY      1\n",
              "19   CHAVARRIA      1"
            ],
            "text/html": [
              "\n",
              "  <div id=\"df-a025d537-668f-48e6-ba2e-b35b1692b493\">\n",
              "    <div class=\"colab-df-container\">\n",
              "      <div>\n",
              "<style scoped>\n",
              "    .dataframe tbody tr th:only-of-type {\n",
              "        vertical-align: middle;\n",
              "    }\n",
              "\n",
              "    .dataframe tbody tr th {\n",
              "        vertical-align: top;\n",
              "    }\n",
              "\n",
              "    .dataframe thead th {\n",
              "        text-align: right;\n",
              "    }\n",
              "</style>\n",
              "<table border=\"1\" class=\"dataframe\">\n",
              "  <thead>\n",
              "    <tr style=\"text-align: right;\">\n",
              "      <th></th>\n",
              "      <th>word</th>\n",
              "      <th>count</th>\n",
              "    </tr>\n",
              "  </thead>\n",
              "  <tbody>\n",
              "    <tr>\n",
              "      <th>0</th>\n",
              "      <td>SANCHEZ</td>\n",
              "      <td>34</td>\n",
              "    </tr>\n",
              "    <tr>\n",
              "      <th>1</th>\n",
              "      <td>ZEPEDA</td>\n",
              "      <td>24</td>\n",
              "    </tr>\n",
              "    <tr>\n",
              "      <th>2</th>\n",
              "      <td>MARSA</td>\n",
              "      <td>22</td>\n",
              "    </tr>\n",
              "    <tr>\n",
              "      <th>3</th>\n",
              "      <td>QUINTANAR</td>\n",
              "      <td>21</td>\n",
              "    </tr>\n",
              "    <tr>\n",
              "      <th>4</th>\n",
              "      <td>OLIVARES</td>\n",
              "      <td>17</td>\n",
              "    </tr>\n",
              "    <tr>\n",
              "      <th>5</th>\n",
              "      <td>PEREZ</td>\n",
              "      <td>14</td>\n",
              "    </tr>\n",
              "    <tr>\n",
              "      <th>6</th>\n",
              "      <td>ORTIZ</td>\n",
              "      <td>13</td>\n",
              "    </tr>\n",
              "    <tr>\n",
              "      <th>7</th>\n",
              "      <td>TIGRE</td>\n",
              "      <td>11</td>\n",
              "    </tr>\n",
              "    <tr>\n",
              "      <th>8</th>\n",
              "      <td>VALENCIA</td>\n",
              "      <td>9</td>\n",
              "    </tr>\n",
              "    <tr>\n",
              "      <th>9</th>\n",
              "      <td>MEJIA</td>\n",
              "      <td>9</td>\n",
              "    </tr>\n",
              "    <tr>\n",
              "      <th>10</th>\n",
              "      <td>RUIZ</td>\n",
              "      <td>8</td>\n",
              "    </tr>\n",
              "    <tr>\n",
              "      <th>11</th>\n",
              "      <td>CLIENTE</td>\n",
              "      <td>5</td>\n",
              "    </tr>\n",
              "    <tr>\n",
              "      <th>12</th>\n",
              "      <td>RECOGE</td>\n",
              "      <td>5</td>\n",
              "    </tr>\n",
              "    <tr>\n",
              "      <th>13</th>\n",
              "      <td>LEDESMA</td>\n",
              "      <td>4</td>\n",
              "    </tr>\n",
              "    <tr>\n",
              "      <th>14</th>\n",
              "      <td>CORTES</td>\n",
              "      <td>3</td>\n",
              "    </tr>\n",
              "    <tr>\n",
              "      <th>15</th>\n",
              "      <td>RODRIGUEZ</td>\n",
              "      <td>3</td>\n",
              "    </tr>\n",
              "    <tr>\n",
              "      <th>16</th>\n",
              "      <td>VARGAS</td>\n",
              "      <td>1</td>\n",
              "    </tr>\n",
              "    <tr>\n",
              "      <th>17</th>\n",
              "      <td>PARTICULAR</td>\n",
              "      <td>1</td>\n",
              "    </tr>\n",
              "    <tr>\n",
              "      <th>18</th>\n",
              "      <td>SANDY</td>\n",
              "      <td>1</td>\n",
              "    </tr>\n",
              "    <tr>\n",
              "      <th>19</th>\n",
              "      <td>CHAVARRIA</td>\n",
              "      <td>1</td>\n",
              "    </tr>\n",
              "  </tbody>\n",
              "</table>\n",
              "</div>\n",
              "      <button class=\"colab-df-convert\" onclick=\"convertToInteractive('df-a025d537-668f-48e6-ba2e-b35b1692b493')\"\n",
              "              title=\"Convert this dataframe to an interactive table.\"\n",
              "              style=\"display:none;\">\n",
              "        \n",
              "  <svg xmlns=\"http://www.w3.org/2000/svg\" height=\"24px\"viewBox=\"0 0 24 24\"\n",
              "       width=\"24px\">\n",
              "    <path d=\"M0 0h24v24H0V0z\" fill=\"none\"/>\n",
              "    <path d=\"M18.56 5.44l.94 2.06.94-2.06 2.06-.94-2.06-.94-.94-2.06-.94 2.06-2.06.94zm-11 1L8.5 8.5l.94-2.06 2.06-.94-2.06-.94L8.5 2.5l-.94 2.06-2.06.94zm10 10l.94 2.06.94-2.06 2.06-.94-2.06-.94-.94-2.06-.94 2.06-2.06.94z\"/><path d=\"M17.41 7.96l-1.37-1.37c-.4-.4-.92-.59-1.43-.59-.52 0-1.04.2-1.43.59L10.3 9.45l-7.72 7.72c-.78.78-.78 2.05 0 2.83L4 21.41c.39.39.9.59 1.41.59.51 0 1.02-.2 1.41-.59l7.78-7.78 2.81-2.81c.8-.78.8-2.07 0-2.86zM5.41 20L4 18.59l7.72-7.72 1.47 1.35L5.41 20z\"/>\n",
              "  </svg>\n",
              "      </button>\n",
              "      \n",
              "  <style>\n",
              "    .colab-df-container {\n",
              "      display:flex;\n",
              "      flex-wrap:wrap;\n",
              "      gap: 12px;\n",
              "    }\n",
              "\n",
              "    .colab-df-convert {\n",
              "      background-color: #E8F0FE;\n",
              "      border: none;\n",
              "      border-radius: 50%;\n",
              "      cursor: pointer;\n",
              "      display: none;\n",
              "      fill: #1967D2;\n",
              "      height: 32px;\n",
              "      padding: 0 0 0 0;\n",
              "      width: 32px;\n",
              "    }\n",
              "\n",
              "    .colab-df-convert:hover {\n",
              "      background-color: #E2EBFA;\n",
              "      box-shadow: 0px 1px 2px rgba(60, 64, 67, 0.3), 0px 1px 3px 1px rgba(60, 64, 67, 0.15);\n",
              "      fill: #174EA6;\n",
              "    }\n",
              "\n",
              "    [theme=dark] .colab-df-convert {\n",
              "      background-color: #3B4455;\n",
              "      fill: #D2E3FC;\n",
              "    }\n",
              "\n",
              "    [theme=dark] .colab-df-convert:hover {\n",
              "      background-color: #434B5C;\n",
              "      box-shadow: 0px 1px 3px 1px rgba(0, 0, 0, 0.15);\n",
              "      filter: drop-shadow(0px 1px 2px rgba(0, 0, 0, 0.3));\n",
              "      fill: #FFFFFF;\n",
              "    }\n",
              "  </style>\n",
              "\n",
              "      <script>\n",
              "        const buttonEl =\n",
              "          document.querySelector('#df-a025d537-668f-48e6-ba2e-b35b1692b493 button.colab-df-convert');\n",
              "        buttonEl.style.display =\n",
              "          google.colab.kernel.accessAllowed ? 'block' : 'none';\n",
              "\n",
              "        async function convertToInteractive(key) {\n",
              "          const element = document.querySelector('#df-a025d537-668f-48e6-ba2e-b35b1692b493');\n",
              "          const dataTable =\n",
              "            await google.colab.kernel.invokeFunction('convertToInteractive',\n",
              "                                                     [key], {});\n",
              "          if (!dataTable) return;\n",
              "\n",
              "          const docLinkHtml = 'Like what you see? Visit the ' +\n",
              "            '<a target=\"_blank\" href=https://colab.research.google.com/notebooks/data_table.ipynb>data table notebook</a>'\n",
              "            + ' to learn more about interactive tables.';\n",
              "          element.innerHTML = '';\n",
              "          dataTable['output_type'] = 'display_data';\n",
              "          await google.colab.output.renderOutput(dataTable, element);\n",
              "          const docLink = document.createElement('div');\n",
              "          docLink.innerHTML = docLinkHtml;\n",
              "          element.appendChild(docLink);\n",
              "        }\n",
              "      </script>\n",
              "    </div>\n",
              "  </div>\n",
              "  "
            ]
          },
          "metadata": {},
          "execution_count": 101
        }
      ]
    },
    {
      "cell_type": "code",
      "source": [
        "plt.figure(figsize=(10, 10))\n",
        "fig = plt.figure()\n",
        "ax = fig.add_subplot()\n",
        "\n",
        "sns.barplot(x=df_4['word'], y=df_4['count'], ax=ax, palette=\"RdYlBu\")\n",
        "ax.set_xticklabels(ax.get_xticklabels(), rotation=90);"
      ],
      "metadata": {
        "colab": {
          "base_uri": "https://localhost:8080/",
          "height": 359
        },
        "id": "i5kPH99wqNYA",
        "outputId": "a498d6f2-0e22-418e-a30d-6d5722e1cdde"
      },
      "execution_count": null,
      "outputs": [
        {
          "output_type": "display_data",
          "data": {
            "text/plain": [
              "<Figure size 720x720 with 0 Axes>"
            ]
          },
          "metadata": {}
        },
        {
          "output_type": "display_data",
          "data": {
            "text/plain": [
              "<Figure size 432x288 with 1 Axes>"
            ],
            "image/png": "[encoded data removed]"
          },
          "metadata": {}
        }
      ]
    },
    {
      "cell_type": "code",
      "source": [
        "df_irwin.groupby('UBICACION')['TIPO_UNIDAD'].value_counts()"
      ],
      "metadata": {
        "colab": {
          "base_uri": "https://localhost:8080/"
        },
        "id": "hZda4jqAT2ih",
        "outputId": "9023a28a-911e-4442-e9fd-17f49eeda30a"
      },
      "execution_count": null,
      "outputs": [
        {
          "output_type": "execute_result",
          "data": {
            "text/plain": [
              "UBICACION  TIPO_UNIDAD\n",
              "Centro     CAMIONETA      1274\n",
              "           TRAILER         162\n",
              "           TORTON           44\n",
              "Norte      CAMIONETA        60\n",
              "           TORTON            9\n",
              "           TRAILER           8\n",
              "Sur        CAMIONETA        49\n",
              "           TORTON            5\n",
              "           MUDANZA           1\n",
              "Name: TIPO_UNIDAD, dtype: int64"
            ]
          },
          "metadata": {},
          "execution_count": 94
        }
      ]
    },
    {
      "cell_type": "code",
      "source": [
        "df_irwin.groupby(['UBICACION', 'ESTADO'])['COSTO_TOTAL_FLETE'].sum()"
      ],
      "metadata": {
        "colab": {
          "base_uri": "https://localhost:8080/"
        },
        "id": "zExfwJm7M6wM",
        "outputId": "3b785261-265f-4b06-d69e-8470e237b1e7"
      },
      "execution_count": null,
      "outputs": [
        {
          "output_type": "execute_result",
          "data": {
            "text/plain": [
              "UBICACION  ESTADO             \n",
              "Centro     CD MEXICO              170141.91\n",
              "           EDO DE MEXICO          146144.38\n",
              "           GUANAJUATO              20750.00\n",
              "           JALISCO                     0.00\n",
              "           MICHOACAN                   0.00\n",
              "           QUERETARO                4750.00\n",
              "           SAN LUIS POTOSI          7050.00\n",
              "Norte      B. C.                       0.00\n",
              "           BAJA CALIFORNIA SUR         0.00\n",
              "           CHIHUAHUA                3568.54\n",
              "           COAHUILA                11776.54\n",
              "           DURANGO                   160.00\n",
              "           NUEVO LEON              16758.00\n",
              "           SINALOA                 17400.00\n",
              "           SONORA                  16380.00\n",
              "           TAMAULIPAS              14292.79\n",
              "Sur        CAMPECHE                  230.00\n",
              "           CHIAPAS                   460.00\n",
              "           GUERRERO                  750.00\n",
              "           MORELOS                  7266.19\n",
              "           OAXACA                   1500.00\n",
              "           PUEBLA                    835.00\n",
              "           TABASCO                   750.00\n",
              "           VERACRUZ                 8570.00\n",
              "           YUCATAN                     0.00\n",
              "Name: COSTO_TOTAL_FLETE, dtype: float64"
            ]
          },
          "metadata": {},
          "execution_count": 95
        }
      ]
    },
    {
      "cell_type": "code",
      "source": [
        "df_irwin.groupby('UBICACION')['DIAS_EMBARQUE'].agg(['mean', 'std'])"
      ],
      "metadata": {
        "colab": {
          "base_uri": "https://localhost:8080/",
          "height": 175
        },
        "id": "SGKz10mRaL24",
        "outputId": "0dc7b3f9-ba7a-43bd-b93f-39ddaad8ca9b"
      },
      "execution_count": null,
      "outputs": [
        {
          "output_type": "execute_result",
          "data": {
            "text/plain": [
              "                mean       std\n",
              "UBICACION                     \n",
              "Centro     10.655405  15.42480\n",
              "Norte      13.233766  19.76633\n",
              "Sur         8.054545  10.81052"
            ],
            "text/html": [
              "\n",
              "  <div id=\"df-f00054d9-8647-4f8d-8b34-0c90d952a1fb\">\n",
              "    <div class=\"colab-df-container\">\n",
              "      <div>\n",
              "<style scoped>\n",
              "    .dataframe tbody tr th:only-of-type {\n",
              "        vertical-align: middle;\n",
              "    }\n",
              "\n",
              "    .dataframe tbody tr th {\n",
              "        vertical-align: top;\n",
              "    }\n",
              "\n",
              "    .dataframe thead th {\n",
              "        text-align: right;\n",
              "    }\n",
              "</style>\n",
              "<table border=\"1\" class=\"dataframe\">\n",
              "  <thead>\n",
              "    <tr style=\"text-align: right;\">\n",
              "      <th></th>\n",
              "      <th>mean</th>\n",
              "      <th>std</th>\n",
              "    </tr>\n",
              "    <tr>\n",
              "      <th>UBICACION</th>\n",
              "      <th></th>\n",
              "      <th></th>\n",
              "    </tr>\n",
              "  </thead>\n",
              "  <tbody>\n",
              "    <tr>\n",
              "      <th>Centro</th>\n",
              "      <td>10.655405</td>\n",
              "      <td>15.42480</td>\n",
              "    </tr>\n",
              "    <tr>\n",
              "      <th>Norte</th>\n",
              "      <td>13.233766</td>\n",
              "      <td>19.76633</td>\n",
              "    </tr>\n",
              "    <tr>\n",
              "      <th>Sur</th>\n",
              "      <td>8.054545</td>\n",
              "      <td>10.81052</td>\n",
              "    </tr>\n",
              "  </tbody>\n",
              "</table>\n",
              "</div>\n",
              "      <button class=\"colab-df-convert\" onclick=\"convertToInteractive('df-f00054d9-8647-4f8d-8b34-0c90d952a1fb')\"\n",
              "              title=\"Convert this dataframe to an interactive table.\"\n",
              "              style=\"display:none;\">\n",
              "        \n",
              "  <svg xmlns=\"http://www.w3.org/2000/svg\" height=\"24px\"viewBox=\"0 0 24 24\"\n",
              "       width=\"24px\">\n",
              "    <path d=\"M0 0h24v24H0V0z\" fill=\"none\"/>\n",
              "    <path d=\"M18.56 5.44l.94 2.06.94-2.06 2.06-.94-2.06-.94-.94-2.06-.94 2.06-2.06.94zm-11 1L8.5 8.5l.94-2.06 2.06-.94-2.06-.94L8.5 2.5l-.94 2.06-2.06.94zm10 10l.94 2.06.94-2.06 2.06-.94-2.06-.94-.94-2.06-.94 2.06-2.06.94z\"/><path d=\"M17.41 7.96l-1.37-1.37c-.4-.4-.92-.59-1.43-.59-.52 0-1.04.2-1.43.59L10.3 9.45l-7.72 7.72c-.78.78-.78 2.05 0 2.83L4 21.41c.39.39.9.59 1.41.59.51 0 1.02-.2 1.41-.59l7.78-7.78 2.81-2.81c.8-.78.8-2.07 0-2.86zM5.41 20L4 18.59l7.72-7.72 1.47 1.35L5.41 20z\"/>\n",
              "  </svg>\n",
              "      </button>\n",
              "      \n",
              "  <style>\n",
              "    .colab-df-container {\n",
              "      display:flex;\n",
              "      flex-wrap:wrap;\n",
              "      gap: 12px;\n",
              "    }\n",
              "\n",
              "    .colab-df-convert {\n",
              "      background-color: #E8F0FE;\n",
              "      border: none;\n",
              "      border-radius: 50%;\n",
              "      cursor: pointer;\n",
              "      display: none;\n",
              "      fill: #1967D2;\n",
              "      height: 32px;\n",
              "      padding: 0 0 0 0;\n",
              "      width: 32px;\n",
              "    }\n",
              "\n",
              "    .colab-df-convert:hover {\n",
              "      background-color: #E2EBFA;\n",
              "      box-shadow: 0px 1px 2px rgba(60, 64, 67, 0.3), 0px 1px 3px 1px rgba(60, 64, 67, 0.15);\n",
              "      fill: #174EA6;\n",
              "    }\n",
              "\n",
              "    [theme=dark] .colab-df-convert {\n",
              "      background-color: #3B4455;\n",
              "      fill: #D2E3FC;\n",
              "    }\n",
              "\n",
              "    [theme=dark] .colab-df-convert:hover {\n",
              "      background-color: #434B5C;\n",
              "      box-shadow: 0px 1px 3px 1px rgba(0, 0, 0, 0.15);\n",
              "      filter: drop-shadow(0px 1px 2px rgba(0, 0, 0, 0.3));\n",
              "      fill: #FFFFFF;\n",
              "    }\n",
              "  </style>\n",
              "\n",
              "      <script>\n",
              "        const buttonEl =\n",
              "          document.querySelector('#df-f00054d9-8647-4f8d-8b34-0c90d952a1fb button.colab-df-convert');\n",
              "        buttonEl.style.display =\n",
              "          google.colab.kernel.accessAllowed ? 'block' : 'none';\n",
              "\n",
              "        async function convertToInteractive(key) {\n",
              "          const element = document.querySelector('#df-f00054d9-8647-4f8d-8b34-0c90d952a1fb');\n",
              "          const dataTable =\n",
              "            await google.colab.kernel.invokeFunction('convertToInteractive',\n",
              "                                                     [key], {});\n",
              "          if (!dataTable) return;\n",
              "\n",
              "          const docLinkHtml = 'Like what you see? Visit the ' +\n",
              "            '<a target=\"_blank\" href=https://colab.research.google.com/notebooks/data_table.ipynb>data table notebook</a>'\n",
              "            + ' to learn more about interactive tables.';\n",
              "          element.innerHTML = '';\n",
              "          dataTable['output_type'] = 'display_data';\n",
              "          await google.colab.output.renderOutput(dataTable, element);\n",
              "          const docLink = document.createElement('div');\n",
              "          docLink.innerHTML = docLinkHtml;\n",
              "          element.appendChild(docLink);\n",
              "        }\n",
              "      </script>\n",
              "    </div>\n",
              "  </div>\n",
              "  "
            ]
          },
          "metadata": {},
          "execution_count": 96
        }
      ]
    }
  ]
}